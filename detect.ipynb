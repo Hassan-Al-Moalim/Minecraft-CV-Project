{
 "cells": [
  {
   "cell_type": "code",
   "execution_count": 1,
   "metadata": {},
   "outputs": [
    {
     "name": "stdout",
     "output_type": "stream",
     "text": [
      "loading Roboflow workspace...\n",
      "loading Roboflow project...\n"
     ]
    }
   ],
   "source": [
    "\n",
    "from dotenv import load_dotenv\n",
    "import os\n",
    "from roboflow import Roboflow\n",
    "\n",
    "load_dotenv()\n",
    "api_key = os.getenv(\"ROBOFLOW_API_KEY\")\n",
    "rf = Roboflow(api_key=api_key)\n",
    "project = rf.workspace(\"minecraft-mob\").project(\"mob-ztqnt\")\n",
    "version = project.version(4)\n",
    "dataset = version.download(\"yolov8\")"
   ]
  },
  {
   "cell_type": "code",
   "execution_count": 3,
   "metadata": {},
   "outputs": [
    {
     "name": "stdout",
     "output_type": "stream",
     "text": [
      "Contents of c:\\Users\\pc\\OneDrive\\Documents\\Code\\MinecraftPorject\\mob-4:\n",
      "['data.yaml', 'README.dataset.txt', 'README.roboflow.txt', 'test', 'train', 'valid']\n"
     ]
    }
   ],
   "source": [
    "import os\n",
    "\n",
    "# Check the contents of the dataset folder\n",
    "dataset_path = dataset.location\n",
    "print(f\"Contents of {dataset_path}:\")\n",
    "print(os.listdir(dataset_path))"
   ]
  },
  {
   "cell_type": "code",
   "execution_count": 4,
   "metadata": {},
   "outputs": [
    {
     "name": "stdout",
     "output_type": "stream",
     "text": [
      "names:\n",
      "- Creeper\n",
      "- Enderman\n",
      "- Fox\n",
      "- Mooshroom\n",
      "- Ocelot\n",
      "- Panda\n",
      "- Polar Bear\n",
      "- Skeleton\n",
      "- Slime\n",
      "- Spider\n",
      "- Witch\n",
      "- Wither Skeleton\n",
      "- Wolf\n",
      "- Zombie\n",
      "- Zombified Piglin\n",
      "- bee\n",
      "- chicken\n",
      "- cow\n",
      "- iron golem\n",
      "- pig\n",
      "nc: 20\n",
      "roboflow:\n",
      "  license: CC BY 4.0\n",
      "  project: mob-ztqnt\n",
      "  url: https://universe.roboflow.com/minecraft-mob/mob-ztqnt/dataset/4\n",
      "  version: 4\n",
      "  workspace: minecraft-mob\n",
      "test: ../test/images\n",
      "train: ../train/images\n",
      "val: ../valid/images\n",
      "\n"
     ]
    }
   ],
   "source": [
    "with open(f\"{dataset.location}/data.yaml\", \"r\") as file:\n",
    "    print(file.read())"
   ]
  },
  {
   "cell_type": "code",
   "execution_count": 5,
   "metadata": {},
   "outputs": [],
   "source": [
    "import os\n",
    "os.environ[\"KMP_DUPLICATE_LIB_OK\"] = \"TRUE\""
   ]
  },
  {
   "cell_type": "code",
   "execution_count": 6,
   "metadata": {},
   "outputs": [
    {
     "name": "stdout",
     "output_type": "stream",
     "text": [
      "Looking in indexes: https://download.pytorch.org/whl/cu126\n",
      "Requirement already satisfied: torch in c:\\users\\pc\\anaconda3\\lib\\site-packages (2.6.0+cu118)\n",
      "Requirement already satisfied: torchvision in c:\\users\\pc\\anaconda3\\lib\\site-packages (0.21.0+cu118)\n",
      "Requirement already satisfied: torchaudio in c:\\users\\pc\\anaconda3\\lib\\site-packages (2.6.0+cu118)\n",
      "Requirement already satisfied: filelock in c:\\users\\pc\\anaconda3\\lib\\site-packages (from torch) (3.13.1)\n",
      "Requirement already satisfied: typing-extensions>=4.10.0 in c:\\users\\pc\\anaconda3\\lib\\site-packages (from torch) (4.11.0)\n",
      "Requirement already satisfied: networkx in c:\\users\\pc\\anaconda3\\lib\\site-packages (from torch) (3.2.1)\n",
      "Requirement already satisfied: jinja2 in c:\\users\\pc\\anaconda3\\lib\\site-packages (from torch) (3.1.4)\n",
      "Requirement already satisfied: fsspec in c:\\users\\pc\\anaconda3\\lib\\site-packages (from torch) (2024.3.1)\n",
      "Requirement already satisfied: setuptools in c:\\users\\pc\\anaconda3\\lib\\site-packages (from torch) (69.5.1)\n",
      "Requirement already satisfied: sympy==1.13.1 in c:\\users\\pc\\anaconda3\\lib\\site-packages (from torch) (1.13.1)\n",
      "Requirement already satisfied: mpmath<1.4,>=1.1.0 in c:\\users\\pc\\anaconda3\\lib\\site-packages (from sympy==1.13.1->torch) (1.3.0)\n",
      "Requirement already satisfied: numpy in c:\\users\\pc\\anaconda3\\lib\\site-packages (from torchvision) (1.26.4)\n",
      "Requirement already satisfied: pillow!=8.3.*,>=5.3.0 in c:\\users\\pc\\anaconda3\\lib\\site-packages (from torchvision) (10.3.0)\n",
      "Requirement already satisfied: MarkupSafe>=2.0 in c:\\users\\pc\\anaconda3\\lib\\site-packages (from jinja2->torch) (2.1.3)\n",
      "Note: you may need to restart the kernel to use updated packages.\n"
     ]
    }
   ],
   "source": [
    "pip install torch torchvision torchaudio --index-url https://download.pytorch.org/whl/cu126"
   ]
  },
  {
   "cell_type": "code",
   "execution_count": 9,
   "metadata": {},
   "outputs": [
    {
     "name": "stdout",
     "output_type": "stream",
     "text": [
      "Collecting ultralytics\n",
      "  Using cached ultralytics-8.3.94-py3-none-any.whl.metadata (35 kB)\n",
      "Requirement already satisfied: numpy<=2.1.1,>=1.23.0 in c:\\users\\pc\\anaconda3\\lib\\site-packages (from ultralytics) (1.26.4)\n",
      "Requirement already satisfied: matplotlib>=3.3.0 in c:\\users\\pc\\anaconda3\\lib\\site-packages (from ultralytics) (3.8.4)\n",
      "Requirement already satisfied: opencv-python>=4.6.0 in c:\\users\\pc\\anaconda3\\lib\\site-packages (from ultralytics) (4.11.0.86)\n",
      "Requirement already satisfied: pillow>=7.1.2 in c:\\users\\pc\\anaconda3\\lib\\site-packages (from ultralytics) (10.3.0)\n",
      "Requirement already satisfied: pyyaml>=5.3.1 in c:\\users\\pc\\anaconda3\\lib\\site-packages (from ultralytics) (6.0.1)\n",
      "Requirement already satisfied: requests>=2.23.0 in c:\\users\\pc\\anaconda3\\lib\\site-packages (from ultralytics) (2.32.2)\n",
      "Requirement already satisfied: scipy>=1.4.1 in c:\\users\\pc\\anaconda3\\lib\\site-packages (from ultralytics) (1.13.1)\n",
      "Requirement already satisfied: torch>=1.8.0 in c:\\users\\pc\\anaconda3\\lib\\site-packages (from ultralytics) (2.6.0+cu118)\n",
      "Requirement already satisfied: torchvision>=0.9.0 in c:\\users\\pc\\anaconda3\\lib\\site-packages (from ultralytics) (0.21.0+cu118)\n",
      "Requirement already satisfied: tqdm>=4.64.0 in c:\\users\\pc\\anaconda3\\lib\\site-packages (from ultralytics) (4.66.4)\n",
      "Requirement already satisfied: psutil in c:\\users\\pc\\anaconda3\\lib\\site-packages (from ultralytics) (5.9.0)\n",
      "Requirement already satisfied: py-cpuinfo in c:\\users\\pc\\anaconda3\\lib\\site-packages (from ultralytics) (9.0.0)\n",
      "Requirement already satisfied: pandas>=1.1.4 in c:\\users\\pc\\anaconda3\\lib\\site-packages (from ultralytics) (2.2.2)\n",
      "Requirement already satisfied: seaborn>=0.11.0 in c:\\users\\pc\\anaconda3\\lib\\site-packages (from ultralytics) (0.13.2)\n",
      "Requirement already satisfied: ultralytics-thop>=2.0.0 in c:\\users\\pc\\anaconda3\\lib\\site-packages (from ultralytics) (2.0.14)\n",
      "Requirement already satisfied: contourpy>=1.0.1 in c:\\users\\pc\\anaconda3\\lib\\site-packages (from matplotlib>=3.3.0->ultralytics) (1.2.0)\n",
      "Requirement already satisfied: cycler>=0.10 in c:\\users\\pc\\anaconda3\\lib\\site-packages (from matplotlib>=3.3.0->ultralytics) (0.11.0)\n",
      "Requirement already satisfied: fonttools>=4.22.0 in c:\\users\\pc\\anaconda3\\lib\\site-packages (from matplotlib>=3.3.0->ultralytics) (4.51.0)\n",
      "Requirement already satisfied: kiwisolver>=1.3.1 in c:\\users\\pc\\anaconda3\\lib\\site-packages (from matplotlib>=3.3.0->ultralytics) (1.4.4)\n",
      "Requirement already satisfied: packaging>=20.0 in c:\\users\\pc\\anaconda3\\lib\\site-packages (from matplotlib>=3.3.0->ultralytics) (23.2)\n",
      "Requirement already satisfied: pyparsing>=2.3.1 in c:\\users\\pc\\anaconda3\\lib\\site-packages (from matplotlib>=3.3.0->ultralytics) (3.0.9)\n",
      "Requirement already satisfied: python-dateutil>=2.7 in c:\\users\\pc\\anaconda3\\lib\\site-packages (from matplotlib>=3.3.0->ultralytics) (2.9.0.post0)\n",
      "Requirement already satisfied: pytz>=2020.1 in c:\\users\\pc\\anaconda3\\lib\\site-packages (from pandas>=1.1.4->ultralytics) (2024.1)\n",
      "Requirement already satisfied: tzdata>=2022.7 in c:\\users\\pc\\anaconda3\\lib\\site-packages (from pandas>=1.1.4->ultralytics) (2023.3)\n",
      "Requirement already satisfied: charset-normalizer<4,>=2 in c:\\users\\pc\\anaconda3\\lib\\site-packages (from requests>=2.23.0->ultralytics) (2.0.4)\n",
      "Requirement already satisfied: idna<4,>=2.5 in c:\\users\\pc\\anaconda3\\lib\\site-packages (from requests>=2.23.0->ultralytics) (3.7)\n",
      "Requirement already satisfied: urllib3<3,>=1.21.1 in c:\\users\\pc\\anaconda3\\lib\\site-packages (from requests>=2.23.0->ultralytics) (2.2.2)\n",
      "Requirement already satisfied: certifi>=2017.4.17 in c:\\users\\pc\\anaconda3\\lib\\site-packages (from requests>=2.23.0->ultralytics) (2024.8.30)\n",
      "Requirement already satisfied: filelock in c:\\users\\pc\\anaconda3\\lib\\site-packages (from torch>=1.8.0->ultralytics) (3.13.1)\n",
      "Requirement already satisfied: typing-extensions>=4.10.0 in c:\\users\\pc\\anaconda3\\lib\\site-packages (from torch>=1.8.0->ultralytics) (4.11.0)\n",
      "Requirement already satisfied: networkx in c:\\users\\pc\\anaconda3\\lib\\site-packages (from torch>=1.8.0->ultralytics) (3.2.1)\n",
      "Requirement already satisfied: jinja2 in c:\\users\\pc\\anaconda3\\lib\\site-packages (from torch>=1.8.0->ultralytics) (3.1.4)\n",
      "Requirement already satisfied: fsspec in c:\\users\\pc\\anaconda3\\lib\\site-packages (from torch>=1.8.0->ultralytics) (2024.3.1)\n",
      "Requirement already satisfied: setuptools in c:\\users\\pc\\anaconda3\\lib\\site-packages (from torch>=1.8.0->ultralytics) (69.5.1)\n",
      "Requirement already satisfied: sympy==1.13.1 in c:\\users\\pc\\anaconda3\\lib\\site-packages (from torch>=1.8.0->ultralytics) (1.13.1)\n",
      "Requirement already satisfied: mpmath<1.4,>=1.1.0 in c:\\users\\pc\\anaconda3\\lib\\site-packages (from sympy==1.13.1->torch>=1.8.0->ultralytics) (1.3.0)\n",
      "Requirement already satisfied: colorama in c:\\users\\pc\\anaconda3\\lib\\site-packages (from tqdm>=4.64.0->ultralytics) (0.4.6)\n",
      "Requirement already satisfied: six>=1.5 in c:\\users\\pc\\anaconda3\\lib\\site-packages (from python-dateutil>=2.7->matplotlib>=3.3.0->ultralytics) (1.16.0)\n",
      "Requirement already satisfied: MarkupSafe>=2.0 in c:\\users\\pc\\anaconda3\\lib\\site-packages (from jinja2->torch>=1.8.0->ultralytics) (2.1.3)\n",
      "Using cached ultralytics-8.3.94-py3-none-any.whl (949 kB)\n",
      "Installing collected packages: ultralytics\n",
      "Successfully installed ultralytics-8.3.94\n"
     ]
    }
   ],
   "source": [
    "!pip install ultralytics\n"
   ]
  },
  {
   "cell_type": "code",
   "execution_count": null,
   "metadata": {},
   "outputs": [
    {
     "name": "stdout",
     "output_type": "stream",
     "text": [
      "Ultralytics 8.3.94  Python-3.12.4 torch-2.6.0+cpu CUDA:0 (NVIDIA GeForce RTX 2070 SUPER, 8192MiB)\n",
      "\u001b[34m\u001b[1mengine\\trainer: \u001b[0mtask=detect, mode=train, model=yolov8n.pt, data=c:\\Users\\pc\\OneDrive\\Documents\\Code\\MinecraftPorject\\mob-4/data.yaml, epochs=100, time=None, patience=100, batch=16, imgsz=640, save=True, save_period=-1, cache=False, device=None, workers=8, project=runs/detect, name=train35, exist_ok=False, pretrained=True, optimizer=auto, verbose=True, seed=0, deterministic=True, single_cls=False, rect=False, cos_lr=False, close_mosaic=10, resume=False, amp=True, fraction=1.0, profile=False, freeze=None, multi_scale=False, overlap_mask=True, mask_ratio=4, dropout=0.0, val=True, split=val, save_json=False, save_hybrid=False, conf=None, iou=0.7, max_det=300, half=False, dnn=False, plots=True, source=None, vid_stride=1, stream_buffer=False, visualize=False, augment=False, agnostic_nms=False, classes=None, retina_masks=False, embed=None, show=False, save_frames=False, save_txt=False, save_conf=False, save_crop=False, show_labels=True, show_conf=True, show_boxes=True, line_width=None, format=torchscript, keras=False, optimize=False, int8=False, dynamic=False, simplify=True, opset=None, workspace=None, nms=False, lr0=0.01, lrf=0.01, momentum=0.937, weight_decay=0.0005, warmup_epochs=3.0, warmup_momentum=0.8, warmup_bias_lr=0.1, box=7.5, cls=0.5, dfl=1.5, pose=12.0, kobj=1.0, nbs=64, hsv_h=0.015, hsv_s=0.7, hsv_v=0.4, degrees=0.0, translate=0.1, scale=0.5, shear=0.0, perspective=0.0, flipud=0.0, fliplr=0.5, bgr=0.0, mosaic=1.0, mixup=0.0, copy_paste=0.0, copy_paste_mode=flip, auto_augment=randaugment, erasing=0.4, crop_fraction=1.0, cfg=None, tracker=botsort.yaml, save_dir=runs\\detect\\train35\n",
      "Overriding model.yaml nc=80 with nc=20\n",
      "\n",
      "                   from  n    params  module                                       arguments                     \n",
      "  0                  -1  1       464  ultralytics.nn.modules.conv.Conv             [3, 16, 3, 2]                 \n",
      "  1                  -1  1      4672  ultralytics.nn.modules.conv.Conv             [16, 32, 3, 2]                \n",
      "  2                  -1  1      7360  ultralytics.nn.modules.block.C2f             [32, 32, 1, True]             \n",
      "  3                  -1  1     18560  ultralytics.nn.modules.conv.Conv             [32, 64, 3, 2]                \n",
      "  4                  -1  2     49664  ultralytics.nn.modules.block.C2f             [64, 64, 2, True]             \n",
      "  5                  -1  1     73984  ultralytics.nn.modules.conv.Conv             [64, 128, 3, 2]               \n",
      "  6                  -1  2    197632  ultralytics.nn.modules.block.C2f             [128, 128, 2, True]           \n",
      "  7                  -1  1    295424  ultralytics.nn.modules.conv.Conv             [128, 256, 3, 2]              \n",
      "  8                  -1  1    460288  ultralytics.nn.modules.block.C2f             [256, 256, 1, True]           \n",
      "  9                  -1  1    164608  ultralytics.nn.modules.block.SPPF            [256, 256, 5]                 \n",
      " 10                  -1  1         0  torch.nn.modules.upsampling.Upsample         [None, 2, 'nearest']          \n",
      " 11             [-1, 6]  1         0  ultralytics.nn.modules.conv.Concat           [1]                           \n",
      " 12                  -1  1    148224  ultralytics.nn.modules.block.C2f             [384, 128, 1]                 \n",
      " 13                  -1  1         0  torch.nn.modules.upsampling.Upsample         [None, 2, 'nearest']          \n",
      " 14             [-1, 4]  1         0  ultralytics.nn.modules.conv.Concat           [1]                           \n",
      " 15                  -1  1     37248  ultralytics.nn.modules.block.C2f             [192, 64, 1]                  \n",
      " 16                  -1  1     36992  ultralytics.nn.modules.conv.Conv             [64, 64, 3, 2]                \n",
      " 17            [-1, 12]  1         0  ultralytics.nn.modules.conv.Concat           [1]                           \n",
      " 18                  -1  1    123648  ultralytics.nn.modules.block.C2f             [192, 128, 1]                 \n",
      " 19                  -1  1    147712  ultralytics.nn.modules.conv.Conv             [128, 128, 3, 2]              \n",
      " 20             [-1, 9]  1         0  ultralytics.nn.modules.conv.Concat           [1]                           \n",
      " 21                  -1  1    493056  ultralytics.nn.modules.block.C2f             [384, 256, 1]                 \n",
      " 22        [15, 18, 21]  1    755212  ultralytics.nn.modules.head.Detect           [20, [64, 128, 256]]          \n",
      "Model summary: 129 layers, 3,014,748 parameters, 3,014,732 gradients, 8.2 GFLOPs\n",
      "\n",
      "Transferred 319/355 items from pretrained weights\n",
      "Freezing layer 'model.22.dfl.conv.weight'\n",
      "\u001b[34m\u001b[1mAMP: \u001b[0mrunning Automatic Mixed Precision (AMP) checks...\n",
      "\u001b[34m\u001b[1mAMP: \u001b[0mchecks passed \n"
     ]
    },
    {
     "name": "stderr",
     "output_type": "stream",
     "text": [
      "\u001b[34m\u001b[1mtrain: \u001b[0mScanning C:\\Users\\pc\\OneDrive\\Documents\\Code\\MinecraftPorject\\mob-4\\train\\labels.cache... 2323 images, 399 backgrounds, 0 corrupt: 100%|██████████| 2323/2323 [00:00<?, ?it/s]\n",
      "\u001b[34m\u001b[1mval: \u001b[0mScanning C:\\Users\\pc\\OneDrive\\Documents\\Code\\MinecraftPorject\\mob-4\\valid\\labels.cache... 220 images, 32 backgrounds, 0 corrupt: 100%|██████████| 220/220 [00:00<?, ?it/s]\n"
     ]
    },
    {
     "name": "stdout",
     "output_type": "stream",
     "text": [
      "Plotting labels to runs\\detect\\train35\\labels.jpg... \n",
      "\u001b[34m\u001b[1moptimizer:\u001b[0m 'optimizer=auto' found, ignoring 'lr0=0.01' and 'momentum=0.937' and determining best 'optimizer', 'lr0' and 'momentum' automatically... \n",
      "\u001b[34m\u001b[1moptimizer:\u001b[0m AdamW(lr=0.000417, momentum=0.9) with parameter groups 57 weight(decay=0.0), 64 weight(decay=0.0005), 63 bias(decay=0.0)\n",
      "Image sizes 640 train, 640 val\n",
      "Using 8 dataloader workers\n",
      "Logging results to \u001b[1mruns\\detect\\train35\u001b[0m\n",
      "Starting training for 100 epochs...\n",
      "\n",
      "      Epoch    GPU_mem   box_loss   cls_loss   dfl_loss  Instances       Size\n"
     ]
    },
    {
     "name": "stderr",
     "output_type": "stream",
     "text": [
      "      1/100      2.08G      1.689      4.698      1.421          2        640: 100%|██████████| 146/146 [00:23<00:00,  6.29it/s]\n",
      "                 Class     Images  Instances      Box(P          R      mAP50  mAP50-95): 100%|██████████| 7/7 [00:01<00:00,  4.90it/s]"
     ]
    },
    {
     "name": "stdout",
     "output_type": "stream",
     "text": [
      "                   all        220        407      0.182      0.305      0.171      0.126\n"
     ]
    },
    {
     "name": "stderr",
     "output_type": "stream",
     "text": [
      "\n"
     ]
    },
    {
     "name": "stdout",
     "output_type": "stream",
     "text": [
      "\n",
      "      Epoch    GPU_mem   box_loss   cls_loss   dfl_loss  Instances       Size\n"
     ]
    },
    {
     "name": "stderr",
     "output_type": "stream",
     "text": [
      "      2/100      2.54G      1.585      3.584      1.352          5        640: 100%|██████████| 146/146 [00:22<00:00,  6.56it/s]\n",
      "                 Class     Images  Instances      Box(P          R      mAP50  mAP50-95): 100%|██████████| 7/7 [00:01<00:00,  5.54it/s]"
     ]
    },
    {
     "name": "stdout",
     "output_type": "stream",
     "text": [
      "                   all        220        407      0.383      0.452      0.413      0.295\n"
     ]
    },
    {
     "name": "stderr",
     "output_type": "stream",
     "text": [
      "\n"
     ]
    },
    {
     "name": "stdout",
     "output_type": "stream",
     "text": [
      "\n",
      "      Epoch    GPU_mem   box_loss   cls_loss   dfl_loss  Instances       Size\n"
     ]
    },
    {
     "name": "stderr",
     "output_type": "stream",
     "text": [
      "      3/100      2.57G       1.58      3.086      1.351          9        640: 100%|██████████| 146/146 [00:21<00:00,  6.75it/s]\n",
      "                 Class     Images  Instances      Box(P          R      mAP50  mAP50-95): 100%|██████████| 7/7 [00:01<00:00,  6.09it/s]"
     ]
    },
    {
     "name": "stdout",
     "output_type": "stream",
     "text": [
      "                   all        220        407      0.666      0.505      0.577      0.415\n"
     ]
    },
    {
     "name": "stderr",
     "output_type": "stream",
     "text": [
      "\n"
     ]
    },
    {
     "name": "stdout",
     "output_type": "stream",
     "text": [
      "\n",
      "      Epoch    GPU_mem   box_loss   cls_loss   dfl_loss  Instances       Size\n"
     ]
    },
    {
     "name": "stderr",
     "output_type": "stream",
     "text": [
      "      4/100      2.58G      1.568       2.74      1.339          5        640: 100%|██████████| 146/146 [00:23<00:00,  6.29it/s]\n",
      "                 Class     Images  Instances      Box(P          R      mAP50  mAP50-95): 100%|██████████| 7/7 [00:01<00:00,  5.89it/s]"
     ]
    },
    {
     "name": "stdout",
     "output_type": "stream",
     "text": [
      "                   all        220        407      0.655      0.562      0.629      0.432\n"
     ]
    },
    {
     "name": "stderr",
     "output_type": "stream",
     "text": [
      "\n"
     ]
    },
    {
     "name": "stdout",
     "output_type": "stream",
     "text": [
      "\n",
      "      Epoch    GPU_mem   box_loss   cls_loss   dfl_loss  Instances       Size\n"
     ]
    },
    {
     "name": "stderr",
     "output_type": "stream",
     "text": [
      "      5/100      2.59G       1.54      2.509      1.317          9        640: 100%|██████████| 146/146 [00:21<00:00,  6.86it/s]\n",
      "                 Class     Images  Instances      Box(P          R      mAP50  mAP50-95): 100%|██████████| 7/7 [00:01<00:00,  5.15it/s]"
     ]
    },
    {
     "name": "stdout",
     "output_type": "stream",
     "text": [
      "                   all        220        407      0.717      0.605      0.683      0.507\n"
     ]
    },
    {
     "name": "stderr",
     "output_type": "stream",
     "text": [
      "\n"
     ]
    },
    {
     "name": "stdout",
     "output_type": "stream",
     "text": [
      "\n",
      "      Epoch    GPU_mem   box_loss   cls_loss   dfl_loss  Instances       Size\n"
     ]
    },
    {
     "name": "stderr",
     "output_type": "stream",
     "text": [
      "      6/100      2.59G      1.537      2.309      1.312          6        640: 100%|██████████| 146/146 [00:21<00:00,  6.86it/s]\n",
      "                 Class     Images  Instances      Box(P          R      mAP50  mAP50-95): 100%|██████████| 7/7 [00:01<00:00,  6.28it/s]"
     ]
    },
    {
     "name": "stdout",
     "output_type": "stream",
     "text": [
      "                   all        220        407      0.773      0.569      0.685       0.49\n"
     ]
    },
    {
     "name": "stderr",
     "output_type": "stream",
     "text": [
      "\n"
     ]
    },
    {
     "name": "stdout",
     "output_type": "stream",
     "text": [
      "\n",
      "      Epoch    GPU_mem   box_loss   cls_loss   dfl_loss  Instances       Size\n"
     ]
    },
    {
     "name": "stderr",
     "output_type": "stream",
     "text": [
      "      7/100       2.6G      1.476      2.092      1.288          3        640: 100%|██████████| 146/146 [00:20<00:00,  7.13it/s]\n",
      "                 Class     Images  Instances      Box(P          R      mAP50  mAP50-95): 100%|██████████| 7/7 [00:01<00:00,  5.48it/s]"
     ]
    },
    {
     "name": "stdout",
     "output_type": "stream",
     "text": [
      "                   all        220        407      0.778      0.657      0.725      0.526\n",
      "\n",
      "      Epoch    GPU_mem   box_loss   cls_loss   dfl_loss  Instances       Size\n"
     ]
    },
    {
     "name": "stderr",
     "output_type": "stream",
     "text": [
      "\n",
      "      8/100       2.6G      1.451      1.963      1.268          5        640: 100%|██████████| 146/146 [00:20<00:00,  7.22it/s]\n",
      "                 Class     Images  Instances      Box(P          R      mAP50  mAP50-95): 100%|██████████| 7/7 [00:01<00:00,  6.47it/s]"
     ]
    },
    {
     "name": "stdout",
     "output_type": "stream",
     "text": [
      "                   all        220        407      0.827       0.61      0.735      0.537\n"
     ]
    },
    {
     "name": "stderr",
     "output_type": "stream",
     "text": [
      "\n"
     ]
    },
    {
     "name": "stdout",
     "output_type": "stream",
     "text": [
      "\n",
      "      Epoch    GPU_mem   box_loss   cls_loss   dfl_loss  Instances       Size\n"
     ]
    },
    {
     "name": "stderr",
     "output_type": "stream",
     "text": [
      "      9/100       2.6G      1.437      1.853      1.255          5        640: 100%|██████████| 146/146 [00:21<00:00,  6.82it/s]\n",
      "                 Class     Images  Instances      Box(P          R      mAP50  mAP50-95): 100%|██████████| 7/7 [00:01<00:00,  6.57it/s]"
     ]
    },
    {
     "name": "stdout",
     "output_type": "stream",
     "text": [
      "                   all        220        407      0.825      0.685      0.759      0.554\n"
     ]
    },
    {
     "name": "stderr",
     "output_type": "stream",
     "text": [
      "\n"
     ]
    },
    {
     "name": "stdout",
     "output_type": "stream",
     "text": [
      "\n",
      "      Epoch    GPU_mem   box_loss   cls_loss   dfl_loss  Instances       Size\n"
     ]
    },
    {
     "name": "stderr",
     "output_type": "stream",
     "text": [
      "     10/100      2.61G       1.42      1.734       1.24          3        640: 100%|██████████| 146/146 [00:19<00:00,  7.60it/s]\n",
      "                 Class     Images  Instances      Box(P          R      mAP50  mAP50-95): 100%|██████████| 7/7 [00:01<00:00,  6.67it/s]"
     ]
    },
    {
     "name": "stdout",
     "output_type": "stream",
     "text": [
      "                   all        220        407      0.829      0.688      0.771      0.555\n"
     ]
    },
    {
     "name": "stderr",
     "output_type": "stream",
     "text": [
      "\n"
     ]
    },
    {
     "name": "stdout",
     "output_type": "stream",
     "text": [
      "\n",
      "      Epoch    GPU_mem   box_loss   cls_loss   dfl_loss  Instances       Size\n"
     ]
    },
    {
     "name": "stderr",
     "output_type": "stream",
     "text": [
      "     11/100      2.62G      1.412      1.682       1.24          6        640: 100%|██████████| 146/146 [00:19<00:00,  7.57it/s]\n",
      "                 Class     Images  Instances      Box(P          R      mAP50  mAP50-95): 100%|██████████| 7/7 [00:01<00:00,  6.64it/s]"
     ]
    },
    {
     "name": "stdout",
     "output_type": "stream",
     "text": [
      "                   all        220        407      0.772      0.704      0.772      0.565\n"
     ]
    },
    {
     "name": "stderr",
     "output_type": "stream",
     "text": [
      "\n"
     ]
    },
    {
     "name": "stdout",
     "output_type": "stream",
     "text": [
      "\n",
      "      Epoch    GPU_mem   box_loss   cls_loss   dfl_loss  Instances       Size\n"
     ]
    },
    {
     "name": "stderr",
     "output_type": "stream",
     "text": [
      "     12/100      2.62G      1.363      1.602      1.226          4        640: 100%|██████████| 146/146 [00:18<00:00,  7.76it/s]\n",
      "                 Class     Images  Instances      Box(P          R      mAP50  mAP50-95): 100%|██████████| 7/7 [00:01<00:00,  6.78it/s]"
     ]
    },
    {
     "name": "stdout",
     "output_type": "stream",
     "text": [
      "                   all        220        407      0.864      0.717      0.799      0.575\n"
     ]
    },
    {
     "name": "stderr",
     "output_type": "stream",
     "text": [
      "\n"
     ]
    },
    {
     "name": "stdout",
     "output_type": "stream",
     "text": [
      "\n",
      "      Epoch    GPU_mem   box_loss   cls_loss   dfl_loss  Instances       Size\n"
     ]
    },
    {
     "name": "stderr",
     "output_type": "stream",
     "text": [
      "     13/100      2.63G       1.38      1.565      1.235          4        640: 100%|██████████| 146/146 [00:18<00:00,  7.78it/s]\n",
      "                 Class     Images  Instances      Box(P          R      mAP50  mAP50-95): 100%|██████████| 7/7 [00:01<00:00,  6.74it/s]"
     ]
    },
    {
     "name": "stdout",
     "output_type": "stream",
     "text": [
      "                   all        220        407      0.849       0.72      0.805      0.592\n"
     ]
    },
    {
     "name": "stderr",
     "output_type": "stream",
     "text": [
      "\n"
     ]
    },
    {
     "name": "stdout",
     "output_type": "stream",
     "text": [
      "\n",
      "      Epoch    GPU_mem   box_loss   cls_loss   dfl_loss  Instances       Size\n"
     ]
    },
    {
     "name": "stderr",
     "output_type": "stream",
     "text": [
      "     14/100      2.63G      1.367      1.489      1.217         10        640: 100%|██████████| 146/146 [00:19<00:00,  7.58it/s]\n",
      "                 Class     Images  Instances      Box(P          R      mAP50  mAP50-95): 100%|██████████| 7/7 [00:01<00:00,  6.61it/s]"
     ]
    },
    {
     "name": "stdout",
     "output_type": "stream",
     "text": [
      "                   all        220        407      0.833      0.709      0.779      0.555\n"
     ]
    },
    {
     "name": "stderr",
     "output_type": "stream",
     "text": [
      "\n"
     ]
    },
    {
     "name": "stdout",
     "output_type": "stream",
     "text": [
      "\n",
      "      Epoch    GPU_mem   box_loss   cls_loss   dfl_loss  Instances       Size\n"
     ]
    },
    {
     "name": "stderr",
     "output_type": "stream",
     "text": [
      "     15/100      2.63G      1.348      1.443      1.203          5        640: 100%|██████████| 146/146 [00:18<00:00,  7.75it/s]\n",
      "                 Class     Images  Instances      Box(P          R      mAP50  mAP50-95): 100%|██████████| 7/7 [00:00<00:00,  7.24it/s]"
     ]
    },
    {
     "name": "stdout",
     "output_type": "stream",
     "text": [
      "                   all        220        407      0.844       0.73      0.805      0.567\n"
     ]
    },
    {
     "name": "stderr",
     "output_type": "stream",
     "text": [
      "\n"
     ]
    },
    {
     "name": "stdout",
     "output_type": "stream",
     "text": [
      "\n",
      "      Epoch    GPU_mem   box_loss   cls_loss   dfl_loss  Instances       Size\n"
     ]
    },
    {
     "name": "stderr",
     "output_type": "stream",
     "text": [
      "     16/100      2.63G      1.339      1.411      1.205          6        640: 100%|██████████| 146/146 [00:17<00:00,  8.34it/s]\n",
      "                 Class     Images  Instances      Box(P          R      mAP50  mAP50-95): 100%|██████████| 7/7 [00:00<00:00,  7.20it/s]"
     ]
    },
    {
     "name": "stdout",
     "output_type": "stream",
     "text": [
      "                   all        220        407      0.839      0.723      0.795      0.589\n"
     ]
    },
    {
     "name": "stderr",
     "output_type": "stream",
     "text": [
      "\n"
     ]
    },
    {
     "name": "stdout",
     "output_type": "stream",
     "text": [
      "\n",
      "      Epoch    GPU_mem   box_loss   cls_loss   dfl_loss  Instances       Size\n"
     ]
    },
    {
     "name": "stderr",
     "output_type": "stream",
     "text": [
      "     17/100      2.63G       1.35      1.372      1.201         13        640: 100%|██████████| 146/146 [00:17<00:00,  8.36it/s]\n",
      "                 Class     Images  Instances      Box(P          R      mAP50  mAP50-95): 100%|██████████| 7/7 [00:00<00:00,  7.26it/s]"
     ]
    },
    {
     "name": "stdout",
     "output_type": "stream",
     "text": [
      "                   all        220        407      0.785       0.75      0.807      0.593\n"
     ]
    },
    {
     "name": "stderr",
     "output_type": "stream",
     "text": [
      "\n"
     ]
    },
    {
     "name": "stdout",
     "output_type": "stream",
     "text": [
      "\n",
      "      Epoch    GPU_mem   box_loss   cls_loss   dfl_loss  Instances       Size\n"
     ]
    },
    {
     "name": "stderr",
     "output_type": "stream",
     "text": [
      "     18/100      2.63G      1.317       1.32      1.191          8        640: 100%|██████████| 146/146 [00:17<00:00,  8.41it/s]\n",
      "                 Class     Images  Instances      Box(P          R      mAP50  mAP50-95): 100%|██████████| 7/7 [00:00<00:00,  7.25it/s]"
     ]
    },
    {
     "name": "stdout",
     "output_type": "stream",
     "text": [
      "                   all        220        407      0.834      0.744      0.811      0.588\n"
     ]
    },
    {
     "name": "stderr",
     "output_type": "stream",
     "text": [
      "\n"
     ]
    },
    {
     "name": "stdout",
     "output_type": "stream",
     "text": [
      "\n",
      "      Epoch    GPU_mem   box_loss   cls_loss   dfl_loss  Instances       Size\n"
     ]
    },
    {
     "name": "stderr",
     "output_type": "stream",
     "text": [
      "     19/100      2.63G      1.293      1.282      1.172         12        640: 100%|██████████| 146/146 [00:17<00:00,  8.34it/s]\n",
      "                 Class     Images  Instances      Box(P          R      mAP50  mAP50-95): 100%|██████████| 7/7 [00:00<00:00,  7.20it/s]"
     ]
    },
    {
     "name": "stdout",
     "output_type": "stream",
     "text": [
      "                   all        220        407      0.836      0.757      0.817      0.608\n"
     ]
    },
    {
     "name": "stderr",
     "output_type": "stream",
     "text": [
      "\n"
     ]
    },
    {
     "name": "stdout",
     "output_type": "stream",
     "text": [
      "\n",
      "      Epoch    GPU_mem   box_loss   cls_loss   dfl_loss  Instances       Size\n"
     ]
    },
    {
     "name": "stderr",
     "output_type": "stream",
     "text": [
      "     20/100      2.63G      1.317      1.294      1.183          9        640: 100%|██████████| 146/146 [00:19<00:00,  7.54it/s]\n",
      "                 Class     Images  Instances      Box(P          R      mAP50  mAP50-95): 100%|██████████| 7/7 [00:01<00:00,  5.48it/s]"
     ]
    },
    {
     "name": "stdout",
     "output_type": "stream",
     "text": [
      "                   all        220        407      0.855      0.749      0.815      0.599\n"
     ]
    },
    {
     "name": "stderr",
     "output_type": "stream",
     "text": [
      "\n"
     ]
    },
    {
     "name": "stdout",
     "output_type": "stream",
     "text": [
      "\n",
      "      Epoch    GPU_mem   box_loss   cls_loss   dfl_loss  Instances       Size\n"
     ]
    },
    {
     "name": "stderr",
     "output_type": "stream",
     "text": [
      "     21/100      2.63G      1.286      1.239       1.17          5        640: 100%|██████████| 146/146 [00:23<00:00,  6.26it/s]\n",
      "                 Class     Images  Instances      Box(P          R      mAP50  mAP50-95): 100%|██████████| 7/7 [00:01<00:00,  5.57it/s]"
     ]
    },
    {
     "name": "stdout",
     "output_type": "stream",
     "text": [
      "                   all        220        407      0.844      0.738      0.801       0.57\n"
     ]
    },
    {
     "name": "stderr",
     "output_type": "stream",
     "text": [
      "\n"
     ]
    },
    {
     "name": "stdout",
     "output_type": "stream",
     "text": [
      "\n",
      "      Epoch    GPU_mem   box_loss   cls_loss   dfl_loss  Instances       Size\n"
     ]
    },
    {
     "name": "stderr",
     "output_type": "stream",
     "text": [
      "     22/100      2.63G      1.268       1.22      1.168          8        640: 100%|██████████| 146/146 [00:19<00:00,  7.56it/s]\n",
      "                 Class     Images  Instances      Box(P          R      mAP50  mAP50-95): 100%|██████████| 7/7 [00:00<00:00,  7.18it/s]"
     ]
    },
    {
     "name": "stdout",
     "output_type": "stream",
     "text": [
      "                   all        220        407      0.875      0.754      0.822      0.599\n"
     ]
    },
    {
     "name": "stderr",
     "output_type": "stream",
     "text": [
      "\n"
     ]
    },
    {
     "name": "stdout",
     "output_type": "stream",
     "text": [
      "\n",
      "      Epoch    GPU_mem   box_loss   cls_loss   dfl_loss  Instances       Size\n"
     ]
    },
    {
     "name": "stderr",
     "output_type": "stream",
     "text": [
      "     23/100      2.64G       1.24      1.174      1.153          6        640: 100%|██████████| 146/146 [00:18<00:00,  7.81it/s]\n",
      "                 Class     Images  Instances      Box(P          R      mAP50  mAP50-95): 100%|██████████| 7/7 [00:01<00:00,  6.62it/s]"
     ]
    },
    {
     "name": "stdout",
     "output_type": "stream",
     "text": [
      "                   all        220        407      0.862      0.743      0.819      0.599\n"
     ]
    },
    {
     "name": "stderr",
     "output_type": "stream",
     "text": [
      "\n"
     ]
    },
    {
     "name": "stdout",
     "output_type": "stream",
     "text": [
      "\n",
      "      Epoch    GPU_mem   box_loss   cls_loss   dfl_loss  Instances       Size\n"
     ]
    },
    {
     "name": "stderr",
     "output_type": "stream",
     "text": [
      "     24/100      2.64G      1.241      1.123      1.157          4        640: 100%|██████████| 146/146 [00:19<00:00,  7.53it/s]\n",
      "                 Class     Images  Instances      Box(P          R      mAP50  mAP50-95): 100%|██████████| 7/7 [00:01<00:00,  6.56it/s]"
     ]
    },
    {
     "name": "stdout",
     "output_type": "stream",
     "text": [
      "                   all        220        407      0.877      0.753      0.815      0.594\n"
     ]
    },
    {
     "name": "stderr",
     "output_type": "stream",
     "text": [
      "\n"
     ]
    },
    {
     "name": "stdout",
     "output_type": "stream",
     "text": [
      "\n",
      "      Epoch    GPU_mem   box_loss   cls_loss   dfl_loss  Instances       Size\n"
     ]
    },
    {
     "name": "stderr",
     "output_type": "stream",
     "text": [
      "     25/100      2.64G      1.237      1.115      1.151         10        640: 100%|██████████| 146/146 [00:19<00:00,  7.32it/s]\n",
      "                 Class     Images  Instances      Box(P          R      mAP50  mAP50-95): 100%|██████████| 7/7 [00:01<00:00,  6.45it/s]"
     ]
    },
    {
     "name": "stdout",
     "output_type": "stream",
     "text": [
      "                   all        220        407      0.805       0.77      0.828      0.606\n"
     ]
    },
    {
     "name": "stderr",
     "output_type": "stream",
     "text": [
      "\n"
     ]
    },
    {
     "name": "stdout",
     "output_type": "stream",
     "text": [
      "\n",
      "      Epoch    GPU_mem   box_loss   cls_loss   dfl_loss  Instances       Size\n"
     ]
    },
    {
     "name": "stderr",
     "output_type": "stream",
     "text": [
      "     26/100      2.64G      1.232      1.114      1.143         12        640: 100%|██████████| 146/146 [00:19<00:00,  7.35it/s]\n",
      "                 Class     Images  Instances      Box(P          R      mAP50  mAP50-95): 100%|██████████| 7/7 [00:01<00:00,  6.53it/s]"
     ]
    },
    {
     "name": "stdout",
     "output_type": "stream",
     "text": [
      "                   all        220        407      0.876      0.744      0.825      0.602\n"
     ]
    },
    {
     "name": "stderr",
     "output_type": "stream",
     "text": [
      "\n"
     ]
    },
    {
     "name": "stdout",
     "output_type": "stream",
     "text": [
      "\n",
      "      Epoch    GPU_mem   box_loss   cls_loss   dfl_loss  Instances       Size\n"
     ]
    },
    {
     "name": "stderr",
     "output_type": "stream",
     "text": [
      "     27/100      2.64G       1.24      1.106       1.15         16        640: 100%|██████████| 146/146 [00:17<00:00,  8.19it/s]\n",
      "                 Class     Images  Instances      Box(P          R      mAP50  mAP50-95): 100%|██████████| 7/7 [00:00<00:00,  7.21it/s]"
     ]
    },
    {
     "name": "stdout",
     "output_type": "stream",
     "text": [
      "                   all        220        407      0.829      0.787      0.836      0.627\n"
     ]
    },
    {
     "name": "stderr",
     "output_type": "stream",
     "text": [
      "\n"
     ]
    },
    {
     "name": "stdout",
     "output_type": "stream",
     "text": [
      "\n",
      "      Epoch    GPU_mem   box_loss   cls_loss   dfl_loss  Instances       Size\n"
     ]
    },
    {
     "name": "stderr",
     "output_type": "stream",
     "text": [
      "     28/100      2.64G      1.195      1.063      1.133          9        640: 100%|██████████| 146/146 [00:17<00:00,  8.30it/s]\n",
      "                 Class     Images  Instances      Box(P          R      mAP50  mAP50-95): 100%|██████████| 7/7 [00:00<00:00,  7.15it/s]"
     ]
    },
    {
     "name": "stdout",
     "output_type": "stream",
     "text": [
      "                   all        220        407      0.809      0.787      0.825      0.612\n"
     ]
    },
    {
     "name": "stderr",
     "output_type": "stream",
     "text": [
      "\n"
     ]
    },
    {
     "name": "stdout",
     "output_type": "stream",
     "text": [
      "\n",
      "      Epoch    GPU_mem   box_loss   cls_loss   dfl_loss  Instances       Size\n"
     ]
    },
    {
     "name": "stderr",
     "output_type": "stream",
     "text": [
      "     29/100      2.64G      1.229       1.11      1.149         15        640: 100%|██████████| 146/146 [00:17<00:00,  8.45it/s]\n",
      "                 Class     Images  Instances      Box(P          R      mAP50  mAP50-95): 100%|██████████| 7/7 [00:00<00:00,  7.25it/s]"
     ]
    },
    {
     "name": "stdout",
     "output_type": "stream",
     "text": [
      "                   all        220        407      0.869      0.771      0.837      0.619\n"
     ]
    },
    {
     "name": "stderr",
     "output_type": "stream",
     "text": [
      "\n"
     ]
    },
    {
     "name": "stdout",
     "output_type": "stream",
     "text": [
      "\n",
      "      Epoch    GPU_mem   box_loss   cls_loss   dfl_loss  Instances       Size\n"
     ]
    },
    {
     "name": "stderr",
     "output_type": "stream",
     "text": [
      "     30/100      2.64G      1.209      1.082      1.132          4        640: 100%|██████████| 146/146 [00:17<00:00,  8.36it/s]\n",
      "                 Class     Images  Instances      Box(P          R      mAP50  mAP50-95): 100%|██████████| 7/7 [00:00<00:00,  7.28it/s]"
     ]
    },
    {
     "name": "stdout",
     "output_type": "stream",
     "text": [
      "                   all        220        407      0.857      0.783      0.836      0.621\n"
     ]
    },
    {
     "name": "stderr",
     "output_type": "stream",
     "text": [
      "\n"
     ]
    },
    {
     "name": "stdout",
     "output_type": "stream",
     "text": [
      "\n",
      "      Epoch    GPU_mem   box_loss   cls_loss   dfl_loss  Instances       Size\n"
     ]
    },
    {
     "name": "stderr",
     "output_type": "stream",
     "text": [
      "     31/100      2.64G      1.187       1.03      1.124          7        640: 100%|██████████| 146/146 [00:17<00:00,  8.35it/s]\n",
      "                 Class     Images  Instances      Box(P          R      mAP50  mAP50-95): 100%|██████████| 7/7 [00:00<00:00,  7.17it/s]"
     ]
    },
    {
     "name": "stdout",
     "output_type": "stream",
     "text": [
      "                   all        220        407      0.849      0.762      0.826      0.616\n"
     ]
    },
    {
     "name": "stderr",
     "output_type": "stream",
     "text": [
      "\n"
     ]
    },
    {
     "name": "stdout",
     "output_type": "stream",
     "text": [
      "\n",
      "      Epoch    GPU_mem   box_loss   cls_loss   dfl_loss  Instances       Size\n"
     ]
    },
    {
     "name": "stderr",
     "output_type": "stream",
     "text": [
      "     32/100      2.64G      1.172     0.9995      1.114          5        640: 100%|██████████| 146/146 [00:17<00:00,  8.38it/s]\n",
      "                 Class     Images  Instances      Box(P          R      mAP50  mAP50-95): 100%|██████████| 7/7 [00:00<00:00,  7.21it/s]"
     ]
    },
    {
     "name": "stdout",
     "output_type": "stream",
     "text": [
      "                   all        220        407      0.851      0.773      0.826      0.616\n"
     ]
    },
    {
     "name": "stderr",
     "output_type": "stream",
     "text": [
      "\n"
     ]
    },
    {
     "name": "stdout",
     "output_type": "stream",
     "text": [
      "\n",
      "      Epoch    GPU_mem   box_loss   cls_loss   dfl_loss  Instances       Size\n"
     ]
    },
    {
     "name": "stderr",
     "output_type": "stream",
     "text": [
      "     33/100      2.64G      1.184      1.018      1.123          7        640: 100%|██████████| 146/146 [00:17<00:00,  8.30it/s]\n",
      "                 Class     Images  Instances      Box(P          R      mAP50  mAP50-95): 100%|██████████| 7/7 [00:00<00:00,  7.18it/s]"
     ]
    },
    {
     "name": "stdout",
     "output_type": "stream",
     "text": [
      "                   all        220        407      0.859      0.761      0.821      0.604\n"
     ]
    },
    {
     "name": "stderr",
     "output_type": "stream",
     "text": [
      "\n"
     ]
    },
    {
     "name": "stdout",
     "output_type": "stream",
     "text": [
      "\n",
      "      Epoch    GPU_mem   box_loss   cls_loss   dfl_loss  Instances       Size\n"
     ]
    },
    {
     "name": "stderr",
     "output_type": "stream",
     "text": [
      "     34/100      2.64G       1.17       0.99      1.112          7        640: 100%|██████████| 146/146 [00:21<00:00,  6.81it/s]\n",
      "                 Class     Images  Instances      Box(P          R      mAP50  mAP50-95): 100%|██████████| 7/7 [00:01<00:00,  5.05it/s]"
     ]
    },
    {
     "name": "stdout",
     "output_type": "stream",
     "text": [
      "                   all        220        407      0.887      0.752      0.826      0.611\n"
     ]
    },
    {
     "name": "stderr",
     "output_type": "stream",
     "text": [
      "\n"
     ]
    },
    {
     "name": "stdout",
     "output_type": "stream",
     "text": [
      "\n",
      "      Epoch    GPU_mem   box_loss   cls_loss   dfl_loss  Instances       Size\n"
     ]
    },
    {
     "name": "stderr",
     "output_type": "stream",
     "text": [
      "     35/100      2.64G      1.154     0.9837      1.109         12        640: 100%|██████████| 146/146 [00:21<00:00,  6.66it/s]\n",
      "                 Class     Images  Instances      Box(P          R      mAP50  mAP50-95): 100%|██████████| 7/7 [00:01<00:00,  6.77it/s]"
     ]
    },
    {
     "name": "stdout",
     "output_type": "stream",
     "text": [
      "                   all        220        407      0.887      0.761      0.838      0.633\n"
     ]
    },
    {
     "name": "stderr",
     "output_type": "stream",
     "text": [
      "\n"
     ]
    },
    {
     "name": "stdout",
     "output_type": "stream",
     "text": [
      "\n",
      "      Epoch    GPU_mem   box_loss   cls_loss   dfl_loss  Instances       Size\n"
     ]
    },
    {
     "name": "stderr",
     "output_type": "stream",
     "text": [
      "     36/100      2.64G      1.157     0.9675      1.112          8        640: 100%|██████████| 146/146 [00:18<00:00,  7.86it/s]\n",
      "                 Class     Images  Instances      Box(P          R      mAP50  mAP50-95): 100%|██████████| 7/7 [00:01<00:00,  6.79it/s]"
     ]
    },
    {
     "name": "stdout",
     "output_type": "stream",
     "text": [
      "                   all        220        407      0.884      0.773      0.846      0.626\n"
     ]
    },
    {
     "name": "stderr",
     "output_type": "stream",
     "text": [
      "\n"
     ]
    },
    {
     "name": "stdout",
     "output_type": "stream",
     "text": [
      "\n",
      "      Epoch    GPU_mem   box_loss   cls_loss   dfl_loss  Instances       Size\n"
     ]
    },
    {
     "name": "stderr",
     "output_type": "stream",
     "text": [
      "     37/100      2.64G      1.143      0.966      1.104         14        640: 100%|██████████| 146/146 [00:17<00:00,  8.35it/s]\n",
      "                 Class     Images  Instances      Box(P          R      mAP50  mAP50-95): 100%|██████████| 7/7 [00:01<00:00,  6.56it/s]"
     ]
    },
    {
     "name": "stdout",
     "output_type": "stream",
     "text": [
      "                   all        220        407      0.903      0.776      0.854      0.641\n"
     ]
    },
    {
     "name": "stderr",
     "output_type": "stream",
     "text": [
      "\n"
     ]
    },
    {
     "name": "stdout",
     "output_type": "stream",
     "text": [
      "\n",
      "      Epoch    GPU_mem   box_loss   cls_loss   dfl_loss  Instances       Size\n"
     ]
    },
    {
     "name": "stderr",
     "output_type": "stream",
     "text": [
      "     38/100      2.64G      1.157     0.9557      1.104         17        640: 100%|██████████| 146/146 [00:17<00:00,  8.24it/s]\n",
      "                 Class     Images  Instances      Box(P          R      mAP50  mAP50-95): 100%|██████████| 7/7 [00:00<00:00,  7.06it/s]"
     ]
    },
    {
     "name": "stdout",
     "output_type": "stream",
     "text": [
      "                   all        220        407      0.909      0.754      0.837      0.618\n"
     ]
    },
    {
     "name": "stderr",
     "output_type": "stream",
     "text": [
      "\n"
     ]
    },
    {
     "name": "stdout",
     "output_type": "stream",
     "text": [
      "\n",
      "      Epoch    GPU_mem   box_loss   cls_loss   dfl_loss  Instances       Size\n"
     ]
    },
    {
     "name": "stderr",
     "output_type": "stream",
     "text": [
      "     39/100      2.64G      1.135     0.9266      1.088         13        640: 100%|██████████| 146/146 [00:18<00:00,  7.70it/s]\n",
      "                 Class     Images  Instances      Box(P          R      mAP50  mAP50-95): 100%|██████████| 7/7 [00:01<00:00,  6.68it/s]"
     ]
    },
    {
     "name": "stdout",
     "output_type": "stream",
     "text": [
      "                   all        220        407      0.906      0.756      0.846      0.628\n"
     ]
    },
    {
     "name": "stderr",
     "output_type": "stream",
     "text": [
      "\n"
     ]
    },
    {
     "name": "stdout",
     "output_type": "stream",
     "text": [
      "\n",
      "      Epoch    GPU_mem   box_loss   cls_loss   dfl_loss  Instances       Size\n"
     ]
    },
    {
     "name": "stderr",
     "output_type": "stream",
     "text": [
      "     40/100      2.64G      1.118     0.9175       1.09         22        640: 100%|██████████| 146/146 [00:22<00:00,  6.63it/s]\n",
      "                 Class     Images  Instances      Box(P          R      mAP50  mAP50-95): 100%|██████████| 7/7 [00:01<00:00,  6.36it/s]"
     ]
    },
    {
     "name": "stdout",
     "output_type": "stream",
     "text": [
      "                   all        220        407      0.859      0.792       0.84      0.624\n"
     ]
    },
    {
     "name": "stderr",
     "output_type": "stream",
     "text": [
      "\n"
     ]
    },
    {
     "name": "stdout",
     "output_type": "stream",
     "text": [
      "\n",
      "      Epoch    GPU_mem   box_loss   cls_loss   dfl_loss  Instances       Size\n"
     ]
    },
    {
     "name": "stderr",
     "output_type": "stream",
     "text": [
      "     41/100      2.64G      1.092     0.8962      1.076          3        640: 100%|██████████| 146/146 [00:17<00:00,  8.51it/s]\n",
      "                 Class     Images  Instances      Box(P          R      mAP50  mAP50-95): 100%|██████████| 7/7 [00:01<00:00,  6.92it/s]"
     ]
    },
    {
     "name": "stdout",
     "output_type": "stream",
     "text": [
      "                   all        220        407      0.866      0.792      0.842      0.626\n"
     ]
    },
    {
     "name": "stderr",
     "output_type": "stream",
     "text": [
      "\n"
     ]
    },
    {
     "name": "stdout",
     "output_type": "stream",
     "text": [
      "\n",
      "      Epoch    GPU_mem   box_loss   cls_loss   dfl_loss  Instances       Size\n"
     ]
    },
    {
     "name": "stderr",
     "output_type": "stream",
     "text": [
      "     42/100      2.64G      1.099     0.8835      1.078          6        640: 100%|██████████| 146/146 [00:17<00:00,  8.52it/s]\n",
      "                 Class     Images  Instances      Box(P          R      mAP50  mAP50-95): 100%|██████████| 7/7 [00:01<00:00,  6.86it/s]"
     ]
    },
    {
     "name": "stdout",
     "output_type": "stream",
     "text": [
      "                   all        220        407      0.913      0.762      0.844      0.628\n"
     ]
    },
    {
     "name": "stderr",
     "output_type": "stream",
     "text": [
      "\n"
     ]
    },
    {
     "name": "stdout",
     "output_type": "stream",
     "text": [
      "\n",
      "      Epoch    GPU_mem   box_loss   cls_loss   dfl_loss  Instances       Size\n"
     ]
    },
    {
     "name": "stderr",
     "output_type": "stream",
     "text": [
      "     43/100      2.64G      1.095     0.8887      1.081         23        640: 100%|██████████| 146/146 [00:22<00:00,  6.49it/s]\n",
      "                 Class     Images  Instances      Box(P          R      mAP50  mAP50-95): 100%|██████████| 7/7 [00:01<00:00,  6.30it/s]"
     ]
    },
    {
     "name": "stdout",
     "output_type": "stream",
     "text": [
      "                   all        220        407      0.904      0.768      0.839      0.626\n"
     ]
    },
    {
     "name": "stderr",
     "output_type": "stream",
     "text": [
      "\n"
     ]
    },
    {
     "name": "stdout",
     "output_type": "stream",
     "text": [
      "\n",
      "      Epoch    GPU_mem   box_loss   cls_loss   dfl_loss  Instances       Size\n"
     ]
    },
    {
     "name": "stderr",
     "output_type": "stream",
     "text": [
      "     44/100      2.64G       1.08     0.8585      1.069          9        640: 100%|██████████| 146/146 [00:18<00:00,  7.71it/s]\n",
      "                 Class     Images  Instances      Box(P          R      mAP50  mAP50-95): 100%|██████████| 7/7 [00:01<00:00,  6.77it/s]"
     ]
    },
    {
     "name": "stdout",
     "output_type": "stream",
     "text": [
      "                   all        220        407      0.915      0.771      0.852      0.636\n"
     ]
    },
    {
     "name": "stderr",
     "output_type": "stream",
     "text": [
      "\n"
     ]
    },
    {
     "name": "stdout",
     "output_type": "stream",
     "text": [
      "\n",
      "      Epoch    GPU_mem   box_loss   cls_loss   dfl_loss  Instances       Size\n"
     ]
    },
    {
     "name": "stderr",
     "output_type": "stream",
     "text": [
      "     45/100      2.64G      1.082     0.8739      1.073          3        640: 100%|██████████| 146/146 [00:19<00:00,  7.52it/s]\n",
      "                 Class     Images  Instances      Box(P          R      mAP50  mAP50-95): 100%|██████████| 7/7 [00:01<00:00,  6.62it/s]"
     ]
    },
    {
     "name": "stdout",
     "output_type": "stream",
     "text": [
      "                   all        220        407      0.898      0.767      0.843      0.627\n"
     ]
    },
    {
     "name": "stderr",
     "output_type": "stream",
     "text": [
      "\n"
     ]
    },
    {
     "name": "stdout",
     "output_type": "stream",
     "text": [
      "\n",
      "      Epoch    GPU_mem   box_loss   cls_loss   dfl_loss  Instances       Size\n"
     ]
    },
    {
     "name": "stderr",
     "output_type": "stream",
     "text": [
      "     46/100      2.64G      1.089     0.8971      1.084          9        640: 100%|██████████| 146/146 [00:19<00:00,  7.51it/s]\n",
      "                 Class     Images  Instances      Box(P          R      mAP50  mAP50-95): 100%|██████████| 7/7 [00:01<00:00,  6.52it/s]"
     ]
    },
    {
     "name": "stdout",
     "output_type": "stream",
     "text": [
      "                   all        220        407      0.829      0.801       0.85      0.642\n"
     ]
    },
    {
     "name": "stderr",
     "output_type": "stream",
     "text": [
      "\n"
     ]
    },
    {
     "name": "stdout",
     "output_type": "stream",
     "text": [
      "\n",
      "      Epoch    GPU_mem   box_loss   cls_loss   dfl_loss  Instances       Size\n"
     ]
    },
    {
     "name": "stderr",
     "output_type": "stream",
     "text": [
      "     47/100      2.64G      1.084     0.8741       1.08          7        640: 100%|██████████| 146/146 [00:18<00:00,  7.85it/s]\n",
      "                 Class     Images  Instances      Box(P          R      mAP50  mAP50-95): 100%|██████████| 7/7 [00:01<00:00,  6.89it/s]"
     ]
    },
    {
     "name": "stdout",
     "output_type": "stream",
     "text": [
      "                   all        220        407      0.893      0.783      0.847      0.635\n"
     ]
    },
    {
     "name": "stderr",
     "output_type": "stream",
     "text": [
      "\n"
     ]
    },
    {
     "name": "stdout",
     "output_type": "stream",
     "text": [
      "\n",
      "      Epoch    GPU_mem   box_loss   cls_loss   dfl_loss  Instances       Size\n"
     ]
    },
    {
     "name": "stderr",
     "output_type": "stream",
     "text": [
      "     48/100      2.64G       1.08     0.8616      1.072          4        640: 100%|██████████| 146/146 [00:19<00:00,  7.57it/s]\n",
      "                 Class     Images  Instances      Box(P          R      mAP50  mAP50-95): 100%|██████████| 7/7 [00:01<00:00,  5.63it/s]"
     ]
    },
    {
     "name": "stdout",
     "output_type": "stream",
     "text": [
      "                   all        220        407      0.908      0.772      0.844      0.627\n"
     ]
    },
    {
     "name": "stderr",
     "output_type": "stream",
     "text": [
      "\n"
     ]
    },
    {
     "name": "stdout",
     "output_type": "stream",
     "text": [
      "\n",
      "      Epoch    GPU_mem   box_loss   cls_loss   dfl_loss  Instances       Size\n"
     ]
    },
    {
     "name": "stderr",
     "output_type": "stream",
     "text": [
      "     49/100      2.64G      1.095     0.8677      1.068         11        640: 100%|██████████| 146/146 [00:20<00:00,  7.12it/s]\n",
      "                 Class     Images  Instances      Box(P          R      mAP50  mAP50-95): 100%|██████████| 7/7 [00:01<00:00,  6.95it/s]"
     ]
    },
    {
     "name": "stdout",
     "output_type": "stream",
     "text": [
      "                   all        220        407      0.896      0.772       0.84      0.629\n"
     ]
    },
    {
     "name": "stderr",
     "output_type": "stream",
     "text": [
      "\n"
     ]
    },
    {
     "name": "stdout",
     "output_type": "stream",
     "text": [
      "\n",
      "      Epoch    GPU_mem   box_loss   cls_loss   dfl_loss  Instances       Size\n"
     ]
    },
    {
     "name": "stderr",
     "output_type": "stream",
     "text": [
      "     50/100      2.64G      1.048     0.8331      1.059          5        640: 100%|██████████| 146/146 [00:17<00:00,  8.54it/s]\n",
      "                 Class     Images  Instances      Box(P          R      mAP50  mAP50-95): 100%|██████████| 7/7 [00:00<00:00,  7.26it/s]"
     ]
    },
    {
     "name": "stdout",
     "output_type": "stream",
     "text": [
      "                   all        220        407      0.896      0.765      0.834      0.623\n"
     ]
    },
    {
     "name": "stderr",
     "output_type": "stream",
     "text": [
      "\n"
     ]
    },
    {
     "name": "stdout",
     "output_type": "stream",
     "text": [
      "\n",
      "      Epoch    GPU_mem   box_loss   cls_loss   dfl_loss  Instances       Size\n"
     ]
    },
    {
     "name": "stderr",
     "output_type": "stream",
     "text": [
      "     51/100      2.64G      1.027     0.8071      1.055          5        640: 100%|██████████| 146/146 [00:19<00:00,  7.36it/s]\n",
      "                 Class     Images  Instances      Box(P          R      mAP50  mAP50-95): 100%|██████████| 7/7 [00:01<00:00,  6.03it/s]"
     ]
    },
    {
     "name": "stdout",
     "output_type": "stream",
     "text": [
      "                   all        220        407      0.856      0.786      0.839       0.64\n"
     ]
    },
    {
     "name": "stderr",
     "output_type": "stream",
     "text": [
      "\n"
     ]
    },
    {
     "name": "stdout",
     "output_type": "stream",
     "text": [
      "\n",
      "      Epoch    GPU_mem   box_loss   cls_loss   dfl_loss  Instances       Size\n"
     ]
    },
    {
     "name": "stderr",
     "output_type": "stream",
     "text": [
      "     52/100      2.64G      1.062     0.8265      1.054          3        640: 100%|██████████| 146/146 [00:18<00:00,  7.69it/s]\n",
      "                 Class     Images  Instances      Box(P          R      mAP50  mAP50-95): 100%|██████████| 7/7 [00:01<00:00,  5.43it/s]"
     ]
    },
    {
     "name": "stdout",
     "output_type": "stream",
     "text": [
      "                   all        220        407      0.894      0.775      0.843      0.635\n"
     ]
    },
    {
     "name": "stderr",
     "output_type": "stream",
     "text": [
      "\n"
     ]
    },
    {
     "name": "stdout",
     "output_type": "stream",
     "text": [
      "\n",
      "      Epoch    GPU_mem   box_loss   cls_loss   dfl_loss  Instances       Size\n"
     ]
    },
    {
     "name": "stderr",
     "output_type": "stream",
     "text": [
      "     53/100      2.64G      1.062     0.8524      1.064          9        640: 100%|██████████| 146/146 [00:20<00:00,  7.15it/s]\n",
      "                 Class     Images  Instances      Box(P          R      mAP50  mAP50-95): 100%|██████████| 7/7 [00:01<00:00,  6.51it/s]"
     ]
    },
    {
     "name": "stdout",
     "output_type": "stream",
     "text": [
      "                   all        220        407      0.874      0.778      0.835      0.626\n"
     ]
    },
    {
     "name": "stderr",
     "output_type": "stream",
     "text": [
      "\n"
     ]
    },
    {
     "name": "stdout",
     "output_type": "stream",
     "text": [
      "\n",
      "      Epoch    GPU_mem   box_loss   cls_loss   dfl_loss  Instances       Size\n"
     ]
    },
    {
     "name": "stderr",
     "output_type": "stream",
     "text": [
      "     54/100      2.64G      1.063     0.8431      1.063          5        640: 100%|██████████| 146/146 [00:18<00:00,  7.72it/s]\n",
      "                 Class     Images  Instances      Box(P          R      mAP50  mAP50-95): 100%|██████████| 7/7 [00:01<00:00,  6.76it/s]"
     ]
    },
    {
     "name": "stdout",
     "output_type": "stream",
     "text": [
      "                   all        220        407      0.871      0.774      0.832      0.619\n"
     ]
    },
    {
     "name": "stderr",
     "output_type": "stream",
     "text": [
      "\n"
     ]
    },
    {
     "name": "stdout",
     "output_type": "stream",
     "text": [
      "\n",
      "      Epoch    GPU_mem   box_loss   cls_loss   dfl_loss  Instances       Size\n"
     ]
    },
    {
     "name": "stderr",
     "output_type": "stream",
     "text": [
      "     55/100      2.64G      1.027     0.7952      1.045          6        640: 100%|██████████| 146/146 [00:19<00:00,  7.56it/s]\n",
      "                 Class     Images  Instances      Box(P          R      mAP50  mAP50-95): 100%|██████████| 7/7 [00:00<00:00,  7.43it/s]"
     ]
    },
    {
     "name": "stdout",
     "output_type": "stream",
     "text": [
      "                   all        220        407      0.898      0.777      0.839       0.64\n"
     ]
    },
    {
     "name": "stderr",
     "output_type": "stream",
     "text": [
      "\n"
     ]
    },
    {
     "name": "stdout",
     "output_type": "stream",
     "text": [
      "\n",
      "      Epoch    GPU_mem   box_loss   cls_loss   dfl_loss  Instances       Size\n"
     ]
    },
    {
     "name": "stderr",
     "output_type": "stream",
     "text": [
      "     56/100      2.64G      1.023     0.8149      1.047          6        640: 100%|██████████| 146/146 [00:16<00:00,  8.80it/s]\n",
      "                 Class     Images  Instances      Box(P          R      mAP50  mAP50-95): 100%|██████████| 7/7 [00:00<00:00,  7.56it/s]"
     ]
    },
    {
     "name": "stdout",
     "output_type": "stream",
     "text": [
      "                   all        220        407      0.892      0.776      0.839      0.639\n"
     ]
    },
    {
     "name": "stderr",
     "output_type": "stream",
     "text": [
      "\n"
     ]
    },
    {
     "name": "stdout",
     "output_type": "stream",
     "text": [
      "\n",
      "      Epoch    GPU_mem   box_loss   cls_loss   dfl_loss  Instances       Size\n"
     ]
    },
    {
     "name": "stderr",
     "output_type": "stream",
     "text": [
      "     57/100      2.64G      1.015     0.7826      1.045          3        640: 100%|██████████| 146/146 [00:23<00:00,  6.19it/s]\n",
      "                 Class     Images  Instances      Box(P          R      mAP50  mAP50-95): 100%|██████████| 7/7 [00:01<00:00,  4.44it/s]"
     ]
    },
    {
     "name": "stdout",
     "output_type": "stream",
     "text": [
      "                   all        220        407      0.882      0.792      0.844      0.635\n"
     ]
    },
    {
     "name": "stderr",
     "output_type": "stream",
     "text": [
      "\n"
     ]
    },
    {
     "name": "stdout",
     "output_type": "stream",
     "text": [
      "\n",
      "      Epoch    GPU_mem   box_loss   cls_loss   dfl_loss  Instances       Size\n"
     ]
    },
    {
     "name": "stderr",
     "output_type": "stream",
     "text": [
      "     58/100      2.64G      1.011     0.7819      1.045          6        640: 100%|██████████| 146/146 [00:21<00:00,  6.69it/s]\n",
      "                 Class     Images  Instances      Box(P          R      mAP50  mAP50-95): 100%|██████████| 7/7 [00:01<00:00,  6.08it/s]"
     ]
    },
    {
     "name": "stdout",
     "output_type": "stream",
     "text": [
      "                   all        220        407      0.905       0.75      0.841      0.628\n"
     ]
    },
    {
     "name": "stderr",
     "output_type": "stream",
     "text": [
      "\n"
     ]
    },
    {
     "name": "stdout",
     "output_type": "stream",
     "text": [
      "\n",
      "      Epoch    GPU_mem   box_loss   cls_loss   dfl_loss  Instances       Size\n"
     ]
    },
    {
     "name": "stderr",
     "output_type": "stream",
     "text": [
      "     59/100      2.64G     0.9926     0.7627      1.032          8        640: 100%|██████████| 146/146 [00:20<00:00,  6.99it/s]\n",
      "                 Class     Images  Instances      Box(P          R      mAP50  mAP50-95): 100%|██████████| 7/7 [00:01<00:00,  6.16it/s]"
     ]
    },
    {
     "name": "stdout",
     "output_type": "stream",
     "text": [
      "                   all        220        407      0.876      0.795      0.853      0.635\n"
     ]
    },
    {
     "name": "stderr",
     "output_type": "stream",
     "text": [
      "\n"
     ]
    },
    {
     "name": "stdout",
     "output_type": "stream",
     "text": [
      "\n",
      "      Epoch    GPU_mem   box_loss   cls_loss   dfl_loss  Instances       Size\n"
     ]
    },
    {
     "name": "stderr",
     "output_type": "stream",
     "text": [
      "     60/100      2.64G      1.019     0.7797      1.045         11        640: 100%|██████████| 146/146 [00:20<00:00,  7.14it/s]\n",
      "                 Class     Images  Instances      Box(P          R      mAP50  mAP50-95): 100%|██████████| 7/7 [00:00<00:00,  7.20it/s]"
     ]
    },
    {
     "name": "stdout",
     "output_type": "stream",
     "text": [
      "                   all        220        407      0.874      0.784      0.843      0.638\n"
     ]
    },
    {
     "name": "stderr",
     "output_type": "stream",
     "text": [
      "\n"
     ]
    },
    {
     "name": "stdout",
     "output_type": "stream",
     "text": [
      "\n",
      "      Epoch    GPU_mem   box_loss   cls_loss   dfl_loss  Instances       Size\n"
     ]
    },
    {
     "name": "stderr",
     "output_type": "stream",
     "text": [
      "     61/100      2.64G      1.003     0.7724      1.045         15        640: 100%|██████████| 146/146 [00:17<00:00,  8.37it/s]\n",
      "                 Class     Images  Instances      Box(P          R      mAP50  mAP50-95): 100%|██████████| 7/7 [00:00<00:00,  7.25it/s]"
     ]
    },
    {
     "name": "stdout",
     "output_type": "stream",
     "text": [
      "                   all        220        407       0.88      0.803      0.847       0.63\n"
     ]
    },
    {
     "name": "stderr",
     "output_type": "stream",
     "text": [
      "\n"
     ]
    },
    {
     "name": "stdout",
     "output_type": "stream",
     "text": [
      "\n",
      "      Epoch    GPU_mem   box_loss   cls_loss   dfl_loss  Instances       Size\n"
     ]
    },
    {
     "name": "stderr",
     "output_type": "stream",
     "text": [
      "     62/100      2.64G     0.9732     0.7495      1.031         13        640: 100%|██████████| 146/146 [00:17<00:00,  8.39it/s]\n",
      "                 Class     Images  Instances      Box(P          R      mAP50  mAP50-95): 100%|██████████| 7/7 [00:00<00:00,  7.32it/s]"
     ]
    },
    {
     "name": "stdout",
     "output_type": "stream",
     "text": [
      "                   all        220        407      0.878      0.769      0.848       0.63\n"
     ]
    },
    {
     "name": "stderr",
     "output_type": "stream",
     "text": [
      "\n"
     ]
    },
    {
     "name": "stdout",
     "output_type": "stream",
     "text": [
      "\n",
      "      Epoch    GPU_mem   box_loss   cls_loss   dfl_loss  Instances       Size\n"
     ]
    },
    {
     "name": "stderr",
     "output_type": "stream",
     "text": [
      "     63/100      2.64G      1.004     0.7697      1.034          7        640: 100%|██████████| 146/146 [00:17<00:00,  8.32it/s]\n",
      "                 Class     Images  Instances      Box(P          R      mAP50  mAP50-95): 100%|██████████| 7/7 [00:01<00:00,  6.68it/s]"
     ]
    },
    {
     "name": "stdout",
     "output_type": "stream",
     "text": [
      "                   all        220        407      0.894      0.774      0.846      0.628\n"
     ]
    },
    {
     "name": "stderr",
     "output_type": "stream",
     "text": [
      "\n"
     ]
    },
    {
     "name": "stdout",
     "output_type": "stream",
     "text": [
      "\n",
      "      Epoch    GPU_mem   box_loss   cls_loss   dfl_loss  Instances       Size\n"
     ]
    },
    {
     "name": "stderr",
     "output_type": "stream",
     "text": [
      "     64/100      2.64G     0.9897     0.7479      1.036         14        640: 100%|██████████| 146/146 [00:18<00:00,  8.09it/s]\n",
      "                 Class     Images  Instances      Box(P          R      mAP50  mAP50-95): 100%|██████████| 7/7 [00:00<00:00,  7.43it/s]"
     ]
    },
    {
     "name": "stdout",
     "output_type": "stream",
     "text": [
      "                   all        220        407       0.88      0.785      0.836      0.629\n"
     ]
    },
    {
     "name": "stderr",
     "output_type": "stream",
     "text": [
      "\n"
     ]
    },
    {
     "name": "stdout",
     "output_type": "stream",
     "text": [
      "\n",
      "      Epoch    GPU_mem   box_loss   cls_loss   dfl_loss  Instances       Size\n"
     ]
    },
    {
     "name": "stderr",
     "output_type": "stream",
     "text": [
      "     65/100      2.64G     0.9643     0.7395      1.014          9        640: 100%|██████████| 146/146 [00:17<00:00,  8.52it/s]\n",
      "                 Class     Images  Instances      Box(P          R      mAP50  mAP50-95): 100%|██████████| 7/7 [00:00<00:00,  7.34it/s]"
     ]
    },
    {
     "name": "stdout",
     "output_type": "stream",
     "text": [
      "                   all        220        407      0.879      0.778      0.849       0.64\n"
     ]
    },
    {
     "name": "stderr",
     "output_type": "stream",
     "text": [
      "\n"
     ]
    },
    {
     "name": "stdout",
     "output_type": "stream",
     "text": [
      "\n",
      "      Epoch    GPU_mem   box_loss   cls_loss   dfl_loss  Instances       Size\n"
     ]
    },
    {
     "name": "stderr",
     "output_type": "stream",
     "text": [
      "     66/100      2.64G     0.9805     0.7452      1.017         30        640: 100%|██████████| 146/146 [00:19<00:00,  7.38it/s]\n",
      "                 Class     Images  Instances      Box(P          R      mAP50  mAP50-95): 100%|██████████| 7/7 [00:01<00:00,  6.47it/s]"
     ]
    },
    {
     "name": "stdout",
     "output_type": "stream",
     "text": [
      "                   all        220        407      0.898      0.769      0.851      0.636\n"
     ]
    },
    {
     "name": "stderr",
     "output_type": "stream",
     "text": [
      "\n"
     ]
    },
    {
     "name": "stdout",
     "output_type": "stream",
     "text": [
      "\n",
      "      Epoch    GPU_mem   box_loss   cls_loss   dfl_loss  Instances       Size\n"
     ]
    },
    {
     "name": "stderr",
     "output_type": "stream",
     "text": [
      "     67/100      2.64G     0.9799     0.7328      1.027         16        640: 100%|██████████| 146/146 [00:21<00:00,  6.95it/s]\n",
      "                 Class     Images  Instances      Box(P          R      mAP50  mAP50-95): 100%|██████████| 7/7 [00:01<00:00,  6.61it/s]"
     ]
    },
    {
     "name": "stdout",
     "output_type": "stream",
     "text": [
      "                   all        220        407      0.865      0.802      0.847      0.627\n"
     ]
    },
    {
     "name": "stderr",
     "output_type": "stream",
     "text": [
      "\n"
     ]
    },
    {
     "name": "stdout",
     "output_type": "stream",
     "text": [
      "\n",
      "      Epoch    GPU_mem   box_loss   cls_loss   dfl_loss  Instances       Size\n"
     ]
    },
    {
     "name": "stderr",
     "output_type": "stream",
     "text": [
      "     68/100      2.64G     0.9707     0.7374      1.027          4        640: 100%|██████████| 146/146 [00:19<00:00,  7.59it/s]\n",
      "                 Class     Images  Instances      Box(P          R      mAP50  mAP50-95): 100%|██████████| 7/7 [00:01<00:00,  6.17it/s]"
     ]
    },
    {
     "name": "stdout",
     "output_type": "stream",
     "text": [
      "                   all        220        407      0.906      0.788      0.849      0.635\n"
     ]
    },
    {
     "name": "stderr",
     "output_type": "stream",
     "text": [
      "\n"
     ]
    },
    {
     "name": "stdout",
     "output_type": "stream",
     "text": [
      "\n",
      "      Epoch    GPU_mem   box_loss   cls_loss   dfl_loss  Instances       Size\n"
     ]
    },
    {
     "name": "stderr",
     "output_type": "stream",
     "text": [
      "     69/100      2.64G     0.9533     0.7204      1.012         11        640: 100%|██████████| 146/146 [00:23<00:00,  6.23it/s]\n",
      "                 Class     Images  Instances      Box(P          R      mAP50  mAP50-95): 100%|██████████| 7/7 [00:01<00:00,  5.11it/s]"
     ]
    },
    {
     "name": "stdout",
     "output_type": "stream",
     "text": [
      "                   all        220        407      0.892       0.79      0.845      0.623\n",
      "\n",
      "      Epoch    GPU_mem   box_loss   cls_loss   dfl_loss  Instances       Size\n"
     ]
    },
    {
     "name": "stderr",
     "output_type": "stream",
     "text": [
      "\n",
      "     70/100      2.64G     0.9664     0.7237      1.023         20        640: 100%|██████████| 146/146 [00:20<00:00,  7.02it/s]\n",
      "                 Class     Images  Instances      Box(P          R      mAP50  mAP50-95): 100%|██████████| 7/7 [00:01<00:00,  5.78it/s]"
     ]
    },
    {
     "name": "stdout",
     "output_type": "stream",
     "text": [
      "                   all        220        407       0.92       0.77      0.844      0.626\n"
     ]
    },
    {
     "name": "stderr",
     "output_type": "stream",
     "text": [
      "\n"
     ]
    },
    {
     "name": "stdout",
     "output_type": "stream",
     "text": [
      "\n",
      "      Epoch    GPU_mem   box_loss   cls_loss   dfl_loss  Instances       Size\n"
     ]
    },
    {
     "name": "stderr",
     "output_type": "stream",
     "text": [
      "     71/100      2.64G     0.9704     0.7379       1.02          3        640: 100%|██████████| 146/146 [00:20<00:00,  7.05it/s]\n",
      "                 Class     Images  Instances      Box(P          R      mAP50  mAP50-95): 100%|██████████| 7/7 [00:01<00:00,  5.83it/s]"
     ]
    },
    {
     "name": "stdout",
     "output_type": "stream",
     "text": [
      "                   all        220        407      0.904      0.781      0.844      0.634\n"
     ]
    },
    {
     "name": "stderr",
     "output_type": "stream",
     "text": [
      "\n"
     ]
    },
    {
     "name": "stdout",
     "output_type": "stream",
     "text": [
      "\n",
      "      Epoch    GPU_mem   box_loss   cls_loss   dfl_loss  Instances       Size\n"
     ]
    },
    {
     "name": "stderr",
     "output_type": "stream",
     "text": [
      "     72/100      2.64G     0.9427      0.692      1.008          7        640: 100%|██████████| 146/146 [00:20<00:00,  7.09it/s]\n",
      "                 Class     Images  Instances      Box(P          R      mAP50  mAP50-95): 100%|██████████| 7/7 [00:01<00:00,  5.77it/s]"
     ]
    },
    {
     "name": "stdout",
     "output_type": "stream",
     "text": [
      "                   all        220        407      0.906      0.783      0.841       0.63\n"
     ]
    },
    {
     "name": "stderr",
     "output_type": "stream",
     "text": [
      "\n"
     ]
    },
    {
     "name": "stdout",
     "output_type": "stream",
     "text": [
      "\n",
      "      Epoch    GPU_mem   box_loss   cls_loss   dfl_loss  Instances       Size\n"
     ]
    },
    {
     "name": "stderr",
     "output_type": "stream",
     "text": [
      "     73/100      2.64G     0.9437     0.7186      1.012          2        640: 100%|██████████| 146/146 [00:20<00:00,  7.04it/s]\n",
      "                 Class     Images  Instances      Box(P          R      mAP50  mAP50-95): 100%|██████████| 7/7 [00:01<00:00,  4.88it/s]"
     ]
    },
    {
     "name": "stdout",
     "output_type": "stream",
     "text": [
      "                   all        220        407      0.901      0.781       0.83      0.627\n"
     ]
    },
    {
     "name": "stderr",
     "output_type": "stream",
     "text": [
      "\n"
     ]
    },
    {
     "name": "stdout",
     "output_type": "stream",
     "text": [
      "\n",
      "      Epoch    GPU_mem   box_loss   cls_loss   dfl_loss  Instances       Size\n"
     ]
    },
    {
     "name": "stderr",
     "output_type": "stream",
     "text": [
      "     74/100      2.64G     0.9443     0.7002      1.012          3        640: 100%|██████████| 146/146 [00:21<00:00,  6.94it/s]\n",
      "                 Class     Images  Instances      Box(P          R      mAP50  mAP50-95): 100%|██████████| 7/7 [00:01<00:00,  6.33it/s]"
     ]
    },
    {
     "name": "stdout",
     "output_type": "stream",
     "text": [
      "                   all        220        407      0.904      0.775      0.839      0.635\n"
     ]
    },
    {
     "name": "stderr",
     "output_type": "stream",
     "text": [
      "\n"
     ]
    },
    {
     "name": "stdout",
     "output_type": "stream",
     "text": [
      "\n",
      "      Epoch    GPU_mem   box_loss   cls_loss   dfl_loss  Instances       Size\n"
     ]
    },
    {
     "name": "stderr",
     "output_type": "stream",
     "text": [
      "     75/100      2.64G     0.9529     0.7015       1.01         21        640: 100%|██████████| 146/146 [00:19<00:00,  7.40it/s]\n",
      "                 Class     Images  Instances      Box(P          R      mAP50  mAP50-95): 100%|██████████| 7/7 [00:01<00:00,  6.36it/s]"
     ]
    },
    {
     "name": "stdout",
     "output_type": "stream",
     "text": [
      "                   all        220        407      0.907      0.769      0.836      0.629\n"
     ]
    },
    {
     "name": "stderr",
     "output_type": "stream",
     "text": [
      "\n"
     ]
    },
    {
     "name": "stdout",
     "output_type": "stream",
     "text": [
      "\n",
      "      Epoch    GPU_mem   box_loss   cls_loss   dfl_loss  Instances       Size\n"
     ]
    },
    {
     "name": "stderr",
     "output_type": "stream",
     "text": [
      "     76/100      2.64G      0.933     0.6922      1.003          6        640: 100%|██████████| 146/146 [00:19<00:00,  7.46it/s]\n",
      "                 Class     Images  Instances      Box(P          R      mAP50  mAP50-95): 100%|██████████| 7/7 [00:01<00:00,  6.37it/s]"
     ]
    },
    {
     "name": "stdout",
     "output_type": "stream",
     "text": [
      "                   all        220        407      0.896      0.778      0.838      0.635\n"
     ]
    },
    {
     "name": "stderr",
     "output_type": "stream",
     "text": [
      "\n"
     ]
    },
    {
     "name": "stdout",
     "output_type": "stream",
     "text": [
      "\n",
      "      Epoch    GPU_mem   box_loss   cls_loss   dfl_loss  Instances       Size\n"
     ]
    },
    {
     "name": "stderr",
     "output_type": "stream",
     "text": [
      "     77/100      2.64G     0.9337     0.6806      1.007          9        640: 100%|██████████| 146/146 [00:19<00:00,  7.44it/s]\n",
      "                 Class     Images  Instances      Box(P          R      mAP50  mAP50-95): 100%|██████████| 7/7 [00:01<00:00,  6.29it/s]"
     ]
    },
    {
     "name": "stdout",
     "output_type": "stream",
     "text": [
      "                   all        220        407      0.911      0.778      0.846      0.635\n"
     ]
    },
    {
     "name": "stderr",
     "output_type": "stream",
     "text": [
      "\n"
     ]
    },
    {
     "name": "stdout",
     "output_type": "stream",
     "text": [
      "\n",
      "      Epoch    GPU_mem   box_loss   cls_loss   dfl_loss  Instances       Size\n"
     ]
    },
    {
     "name": "stderr",
     "output_type": "stream",
     "text": [
      "     78/100      2.64G     0.9224      0.694      1.009          7        640: 100%|██████████| 146/146 [00:19<00:00,  7.39it/s]\n",
      "                 Class     Images  Instances      Box(P          R      mAP50  mAP50-95): 100%|██████████| 7/7 [00:01<00:00,  6.35it/s]"
     ]
    },
    {
     "name": "stdout",
     "output_type": "stream",
     "text": [
      "                   all        220        407      0.886       0.79       0.84      0.637\n"
     ]
    },
    {
     "name": "stderr",
     "output_type": "stream",
     "text": [
      "\n"
     ]
    },
    {
     "name": "stdout",
     "output_type": "stream",
     "text": [
      "\n",
      "      Epoch    GPU_mem   box_loss   cls_loss   dfl_loss  Instances       Size\n"
     ]
    },
    {
     "name": "stderr",
     "output_type": "stream",
     "text": [
      "     79/100      2.64G     0.8969     0.6674     0.9945          5        640: 100%|██████████| 146/146 [00:19<00:00,  7.42it/s]\n",
      "                 Class     Images  Instances      Box(P          R      mAP50  mAP50-95): 100%|██████████| 7/7 [00:01<00:00,  6.38it/s]"
     ]
    },
    {
     "name": "stdout",
     "output_type": "stream",
     "text": [
      "                   all        220        407      0.882       0.79      0.846      0.635\n"
     ]
    },
    {
     "name": "stderr",
     "output_type": "stream",
     "text": [
      "\n"
     ]
    },
    {
     "name": "stdout",
     "output_type": "stream",
     "text": [
      "\n",
      "      Epoch    GPU_mem   box_loss   cls_loss   dfl_loss  Instances       Size\n"
     ]
    },
    {
     "name": "stderr",
     "output_type": "stream",
     "text": [
      "     80/100      2.64G     0.9233     0.6872      1.001          4        640: 100%|██████████| 146/146 [00:19<00:00,  7.42it/s]\n",
      "                 Class     Images  Instances      Box(P          R      mAP50  mAP50-95): 100%|██████████| 7/7 [00:01<00:00,  6.34it/s]"
     ]
    },
    {
     "name": "stdout",
     "output_type": "stream",
     "text": [
      "                   all        220        407      0.879      0.791      0.847       0.64\n"
     ]
    },
    {
     "name": "stderr",
     "output_type": "stream",
     "text": [
      "\n"
     ]
    },
    {
     "name": "stdout",
     "output_type": "stream",
     "text": [
      "\n",
      "      Epoch    GPU_mem   box_loss   cls_loss   dfl_loss  Instances       Size\n"
     ]
    },
    {
     "name": "stderr",
     "output_type": "stream",
     "text": [
      "     81/100      2.64G     0.9023     0.6658     0.9946          7        640: 100%|██████████| 146/146 [00:19<00:00,  7.44it/s]\n",
      "                 Class     Images  Instances      Box(P          R      mAP50  mAP50-95): 100%|██████████| 7/7 [00:01<00:00,  6.28it/s]"
     ]
    },
    {
     "name": "stdout",
     "output_type": "stream",
     "text": [
      "                   all        220        407      0.901      0.773      0.837      0.633\n"
     ]
    },
    {
     "name": "stderr",
     "output_type": "stream",
     "text": [
      "\n"
     ]
    },
    {
     "name": "stdout",
     "output_type": "stream",
     "text": [
      "\n",
      "      Epoch    GPU_mem   box_loss   cls_loss   dfl_loss  Instances       Size\n"
     ]
    },
    {
     "name": "stderr",
     "output_type": "stream",
     "text": [
      "     82/100      2.64G     0.8892     0.6501     0.9913         10        640: 100%|██████████| 146/146 [00:19<00:00,  7.46it/s]\n",
      "                 Class     Images  Instances      Box(P          R      mAP50  mAP50-95): 100%|██████████| 7/7 [00:01<00:00,  6.39it/s]"
     ]
    },
    {
     "name": "stdout",
     "output_type": "stream",
     "text": [
      "                   all        220        407      0.902       0.79       0.84      0.639\n"
     ]
    },
    {
     "name": "stderr",
     "output_type": "stream",
     "text": [
      "\n"
     ]
    },
    {
     "name": "stdout",
     "output_type": "stream",
     "text": [
      "\n",
      "      Epoch    GPU_mem   box_loss   cls_loss   dfl_loss  Instances       Size\n"
     ]
    },
    {
     "name": "stderr",
     "output_type": "stream",
     "text": [
      "     83/100      2.64G     0.8988      0.661     0.9973          6        640: 100%|██████████| 146/146 [00:19<00:00,  7.43it/s]\n",
      "                 Class     Images  Instances      Box(P          R      mAP50  mAP50-95): 100%|██████████| 7/7 [00:01<00:00,  6.43it/s]"
     ]
    },
    {
     "name": "stdout",
     "output_type": "stream",
     "text": [
      "                   all        220        407      0.906       0.79      0.841      0.638\n"
     ]
    },
    {
     "name": "stderr",
     "output_type": "stream",
     "text": [
      "\n"
     ]
    },
    {
     "name": "stdout",
     "output_type": "stream",
     "text": [
      "\n",
      "      Epoch    GPU_mem   box_loss   cls_loss   dfl_loss  Instances       Size\n"
     ]
    },
    {
     "name": "stderr",
     "output_type": "stream",
     "text": [
      "     84/100      2.64G     0.9088     0.6785      1.001          3        640: 100%|██████████| 146/146 [00:19<00:00,  7.35it/s]\n",
      "                 Class     Images  Instances      Box(P          R      mAP50  mAP50-95): 100%|██████████| 7/7 [00:01<00:00,  6.12it/s]"
     ]
    },
    {
     "name": "stdout",
     "output_type": "stream",
     "text": [
      "                   all        220        407      0.894      0.795      0.852      0.643\n"
     ]
    },
    {
     "name": "stderr",
     "output_type": "stream",
     "text": [
      "\n"
     ]
    },
    {
     "name": "stdout",
     "output_type": "stream",
     "text": [
      "\n",
      "      Epoch    GPU_mem   box_loss   cls_loss   dfl_loss  Instances       Size\n"
     ]
    },
    {
     "name": "stderr",
     "output_type": "stream",
     "text": [
      "     85/100      2.64G      0.883     0.6433     0.9991          4        640: 100%|██████████| 146/146 [00:20<00:00,  7.30it/s]\n",
      "                 Class     Images  Instances      Box(P          R      mAP50  mAP50-95): 100%|██████████| 7/7 [00:01<00:00,  6.39it/s]"
     ]
    },
    {
     "name": "stdout",
     "output_type": "stream",
     "text": [
      "                   all        220        407      0.895      0.799      0.845      0.641\n"
     ]
    },
    {
     "name": "stderr",
     "output_type": "stream",
     "text": [
      "\n"
     ]
    },
    {
     "name": "stdout",
     "output_type": "stream",
     "text": [
      "\n",
      "      Epoch    GPU_mem   box_loss   cls_loss   dfl_loss  Instances       Size\n"
     ]
    },
    {
     "name": "stderr",
     "output_type": "stream",
     "text": [
      "     86/100      2.64G     0.8677      0.634     0.9815          4        640: 100%|██████████| 146/146 [00:19<00:00,  7.45it/s]\n",
      "                 Class     Images  Instances      Box(P          R      mAP50  mAP50-95): 100%|██████████| 7/7 [00:01<00:00,  6.35it/s]"
     ]
    },
    {
     "name": "stdout",
     "output_type": "stream",
     "text": [
      "                   all        220        407      0.917      0.776      0.846      0.643\n"
     ]
    },
    {
     "name": "stderr",
     "output_type": "stream",
     "text": [
      "\n"
     ]
    },
    {
     "name": "stdout",
     "output_type": "stream",
     "text": [
      "\n",
      "      Epoch    GPU_mem   box_loss   cls_loss   dfl_loss  Instances       Size\n"
     ]
    },
    {
     "name": "stderr",
     "output_type": "stream",
     "text": [
      "     87/100      2.64G     0.8843     0.6594     0.9991          2        640: 100%|██████████| 146/146 [00:19<00:00,  7.42it/s]\n",
      "                 Class     Images  Instances      Box(P          R      mAP50  mAP50-95): 100%|██████████| 7/7 [00:01<00:00,  6.35it/s]"
     ]
    },
    {
     "name": "stdout",
     "output_type": "stream",
     "text": [
      "                   all        220        407      0.916      0.785       0.85      0.649\n"
     ]
    },
    {
     "name": "stderr",
     "output_type": "stream",
     "text": [
      "\n"
     ]
    },
    {
     "name": "stdout",
     "output_type": "stream",
     "text": [
      "\n",
      "      Epoch    GPU_mem   box_loss   cls_loss   dfl_loss  Instances       Size\n"
     ]
    },
    {
     "name": "stderr",
     "output_type": "stream",
     "text": [
      "     88/100      2.64G     0.8878     0.6483      0.985         16        640: 100%|██████████| 146/146 [00:19<00:00,  7.44it/s]\n",
      "                 Class     Images  Instances      Box(P          R      mAP50  mAP50-95): 100%|██████████| 7/7 [00:01<00:00,  6.27it/s]"
     ]
    },
    {
     "name": "stdout",
     "output_type": "stream",
     "text": [
      "                   all        220        407      0.921      0.779       0.85      0.644\n"
     ]
    },
    {
     "name": "stderr",
     "output_type": "stream",
     "text": [
      "\n"
     ]
    },
    {
     "name": "stdout",
     "output_type": "stream",
     "text": [
      "\n",
      "      Epoch    GPU_mem   box_loss   cls_loss   dfl_loss  Instances       Size\n"
     ]
    },
    {
     "name": "stderr",
     "output_type": "stream",
     "text": [
      "     89/100      2.64G     0.8679     0.6237     0.9768          7        640: 100%|██████████| 146/146 [00:19<00:00,  7.41it/s]\n",
      "                 Class     Images  Instances      Box(P          R      mAP50  mAP50-95): 100%|██████████| 7/7 [00:01<00:00,  6.36it/s]"
     ]
    },
    {
     "name": "stdout",
     "output_type": "stream",
     "text": [
      "                   all        220        407       0.93      0.775      0.848      0.643\n"
     ]
    },
    {
     "name": "stderr",
     "output_type": "stream",
     "text": [
      "\n"
     ]
    },
    {
     "name": "stdout",
     "output_type": "stream",
     "text": [
      "\n",
      "      Epoch    GPU_mem   box_loss   cls_loss   dfl_loss  Instances       Size\n"
     ]
    },
    {
     "name": "stderr",
     "output_type": "stream",
     "text": [
      "     90/100      2.64G     0.8846     0.6645     0.9957          3        640: 100%|██████████| 146/146 [00:19<00:00,  7.47it/s]\n",
      "                 Class     Images  Instances      Box(P          R      mAP50  mAP50-95): 100%|██████████| 7/7 [00:01<00:00,  6.29it/s]"
     ]
    },
    {
     "name": "stdout",
     "output_type": "stream",
     "text": [
      "                   all        220        407      0.925      0.781      0.845      0.635\n"
     ]
    },
    {
     "name": "stderr",
     "output_type": "stream",
     "text": [
      "\n"
     ]
    },
    {
     "name": "stdout",
     "output_type": "stream",
     "text": [
      "Closing dataloader mosaic\n",
      "\n",
      "      Epoch    GPU_mem   box_loss   cls_loss   dfl_loss  Instances       Size\n"
     ]
    },
    {
     "name": "stderr",
     "output_type": "stream",
     "text": [
      "     91/100      2.64G     0.8294     0.5651      0.955         11        640: 100%|██████████| 146/146 [00:19<00:00,  7.47it/s]\n",
      "                 Class     Images  Instances      Box(P          R      mAP50  mAP50-95): 100%|██████████| 7/7 [00:01<00:00,  6.41it/s]"
     ]
    },
    {
     "name": "stdout",
     "output_type": "stream",
     "text": [
      "                   all        220        407      0.918      0.785      0.841      0.626\n"
     ]
    },
    {
     "name": "stderr",
     "output_type": "stream",
     "text": [
      "\n"
     ]
    },
    {
     "name": "stdout",
     "output_type": "stream",
     "text": [
      "\n",
      "      Epoch    GPU_mem   box_loss   cls_loss   dfl_loss  Instances       Size\n"
     ]
    },
    {
     "name": "stderr",
     "output_type": "stream",
     "text": [
      "     92/100      2.64G     0.8071     0.5524     0.9441         12        640: 100%|██████████| 146/146 [00:19<00:00,  7.52it/s]\n",
      "                 Class     Images  Instances      Box(P          R      mAP50  mAP50-95): 100%|██████████| 7/7 [00:01<00:00,  6.15it/s]"
     ]
    },
    {
     "name": "stdout",
     "output_type": "stream",
     "text": [
      "                   all        220        407      0.901      0.781      0.845      0.629\n"
     ]
    },
    {
     "name": "stderr",
     "output_type": "stream",
     "text": [
      "\n"
     ]
    },
    {
     "name": "stdout",
     "output_type": "stream",
     "text": [
      "\n",
      "      Epoch    GPU_mem   box_loss   cls_loss   dfl_loss  Instances       Size\n"
     ]
    },
    {
     "name": "stderr",
     "output_type": "stream",
     "text": [
      "     93/100      2.64G     0.7973     0.5352      0.946          7        640: 100%|██████████| 146/146 [00:20<00:00,  7.20it/s]\n",
      "                 Class     Images  Instances      Box(P          R      mAP50  mAP50-95): 100%|██████████| 7/7 [00:01<00:00,  6.35it/s]"
     ]
    },
    {
     "name": "stdout",
     "output_type": "stream",
     "text": [
      "                   all        220        407      0.915      0.788      0.852      0.634\n"
     ]
    },
    {
     "name": "stderr",
     "output_type": "stream",
     "text": [
      "\n"
     ]
    },
    {
     "name": "stdout",
     "output_type": "stream",
     "text": [
      "\n",
      "      Epoch    GPU_mem   box_loss   cls_loss   dfl_loss  Instances       Size\n"
     ]
    },
    {
     "name": "stderr",
     "output_type": "stream",
     "text": [
      "     94/100      2.64G       0.79     0.5366     0.9369          4        640: 100%|██████████| 146/146 [00:19<00:00,  7.41it/s]\n",
      "                 Class     Images  Instances      Box(P          R      mAP50  mAP50-95): 100%|██████████| 7/7 [00:01<00:00,  6.41it/s]"
     ]
    },
    {
     "name": "stdout",
     "output_type": "stream",
     "text": [
      "                   all        220        407      0.925      0.781      0.852       0.64\n"
     ]
    },
    {
     "name": "stderr",
     "output_type": "stream",
     "text": [
      "\n"
     ]
    },
    {
     "name": "stdout",
     "output_type": "stream",
     "text": [
      "\n",
      "      Epoch    GPU_mem   box_loss   cls_loss   dfl_loss  Instances       Size\n"
     ]
    },
    {
     "name": "stderr",
     "output_type": "stream",
     "text": [
      "     95/100      2.64G     0.7829     0.5277     0.9399          6        640: 100%|██████████| 146/146 [00:19<00:00,  7.51it/s]\n",
      "                 Class     Images  Instances      Box(P          R      mAP50  mAP50-95): 100%|██████████| 7/7 [00:01<00:00,  6.38it/s]"
     ]
    },
    {
     "name": "stdout",
     "output_type": "stream",
     "text": [
      "                   all        220        407      0.911      0.788       0.85      0.637\n"
     ]
    },
    {
     "name": "stderr",
     "output_type": "stream",
     "text": [
      "\n"
     ]
    },
    {
     "name": "stdout",
     "output_type": "stream",
     "text": [
      "\n",
      "      Epoch    GPU_mem   box_loss   cls_loss   dfl_loss  Instances       Size\n"
     ]
    },
    {
     "name": "stderr",
     "output_type": "stream",
     "text": [
      "     96/100      2.64G     0.7807     0.5248     0.9439          6        640: 100%|██████████| 146/146 [00:19<00:00,  7.42it/s]\n",
      "                 Class     Images  Instances      Box(P          R      mAP50  mAP50-95): 100%|██████████| 7/7 [00:01<00:00,  6.41it/s]"
     ]
    },
    {
     "name": "stdout",
     "output_type": "stream",
     "text": [
      "                   all        220        407      0.921      0.775      0.849      0.638\n"
     ]
    },
    {
     "name": "stderr",
     "output_type": "stream",
     "text": [
      "\n"
     ]
    },
    {
     "name": "stdout",
     "output_type": "stream",
     "text": [
      "\n",
      "      Epoch    GPU_mem   box_loss   cls_loss   dfl_loss  Instances       Size\n"
     ]
    },
    {
     "name": "stderr",
     "output_type": "stream",
     "text": [
      "     97/100      2.64G     0.7662     0.5147     0.9283          2        640: 100%|██████████| 146/146 [00:19<00:00,  7.50it/s]\n",
      "                 Class     Images  Instances      Box(P          R      mAP50  mAP50-95): 100%|██████████| 7/7 [00:01<00:00,  6.40it/s]"
     ]
    },
    {
     "name": "stdout",
     "output_type": "stream",
     "text": [
      "                   all        220        407      0.886      0.795      0.847      0.642\n"
     ]
    },
    {
     "name": "stderr",
     "output_type": "stream",
     "text": [
      "\n"
     ]
    },
    {
     "name": "stdout",
     "output_type": "stream",
     "text": [
      "\n",
      "      Epoch    GPU_mem   box_loss   cls_loss   dfl_loss  Instances       Size\n"
     ]
    },
    {
     "name": "stderr",
     "output_type": "stream",
     "text": [
      "     98/100      2.64G     0.7717     0.5194     0.9351          7        640: 100%|██████████| 146/146 [00:19<00:00,  7.49it/s]\n",
      "                 Class     Images  Instances      Box(P          R      mAP50  mAP50-95): 100%|██████████| 7/7 [00:01<00:00,  6.43it/s]"
     ]
    },
    {
     "name": "stdout",
     "output_type": "stream",
     "text": [
      "                   all        220        407      0.899      0.787      0.848       0.64\n"
     ]
    },
    {
     "name": "stderr",
     "output_type": "stream",
     "text": [
      "\n"
     ]
    },
    {
     "name": "stdout",
     "output_type": "stream",
     "text": [
      "\n",
      "      Epoch    GPU_mem   box_loss   cls_loss   dfl_loss  Instances       Size\n"
     ]
    },
    {
     "name": "stderr",
     "output_type": "stream",
     "text": [
      "     99/100      2.64G     0.7589     0.5138     0.9258          3        640: 100%|██████████| 146/146 [00:19<00:00,  7.49it/s]\n",
      "                 Class     Images  Instances      Box(P          R      mAP50  mAP50-95): 100%|██████████| 7/7 [00:01<00:00,  6.34it/s]"
     ]
    },
    {
     "name": "stdout",
     "output_type": "stream",
     "text": [
      "                   all        220        407      0.901      0.791      0.852      0.642\n"
     ]
    },
    {
     "name": "stderr",
     "output_type": "stream",
     "text": [
      "\n"
     ]
    },
    {
     "name": "stdout",
     "output_type": "stream",
     "text": [
      "\n",
      "      Epoch    GPU_mem   box_loss   cls_loss   dfl_loss  Instances       Size\n"
     ]
    },
    {
     "name": "stderr",
     "output_type": "stream",
     "text": [
      "    100/100      2.64G     0.7696     0.5143     0.9323         14        640: 100%|██████████| 146/146 [00:19<00:00,  7.48it/s]\n",
      "                 Class     Images  Instances      Box(P          R      mAP50  mAP50-95): 100%|██████████| 7/7 [00:01<00:00,  6.41it/s]"
     ]
    },
    {
     "name": "stdout",
     "output_type": "stream",
     "text": [
      "                   all        220        407      0.904      0.791      0.853      0.644\n"
     ]
    },
    {
     "name": "stderr",
     "output_type": "stream",
     "text": [
      "\n"
     ]
    },
    {
     "name": "stdout",
     "output_type": "stream",
     "text": [
      "\n",
      "100 epochs completed in 0.584 hours.\n",
      "Optimizer stripped from runs\\detect\\train35\\weights\\last.pt, 6.3MB\n",
      "Optimizer stripped from runs\\detect\\train35\\weights\\best.pt, 6.3MB\n",
      "\n",
      "Validating runs\\detect\\train35\\weights\\best.pt...\n",
      "Ultralytics 8.3.94  Python-3.12.4 torch-2.6.0+cpu CUDA:0 (NVIDIA GeForce RTX 2070 SUPER, 8192MiB)\n",
      "Model summary (fused): 72 layers, 3,009,548 parameters, 0 gradients, 8.1 GFLOPs\n"
     ]
    },
    {
     "name": "stderr",
     "output_type": "stream",
     "text": [
      "                 Class     Images  Instances      Box(P          R      mAP50  mAP50-95): 100%|██████████| 7/7 [00:01<00:00,  5.37it/s]\n"
     ]
    },
    {
     "name": "stdout",
     "output_type": "stream",
     "text": [
      "                   all        220        407      0.916      0.785       0.85      0.649\n",
      "               Creeper         18         40      0.887        0.7      0.736      0.449\n",
      "              Enderman          5          5      0.944          1      0.995      0.746\n",
      "                   Fox         14         14      0.856          1      0.956       0.72\n",
      "             Mooshroom          6          6      0.802      0.833      0.854      0.795\n",
      "                Ocelot         14         14      0.919       0.81      0.866      0.694\n",
      "                 Panda          6          7      0.847      0.857      0.764      0.669\n",
      "            Polar Bear          9          9      0.921      0.889      0.898        0.8\n",
      "              Skeleton         17         30      0.943      0.553      0.663      0.403\n",
      "                 Slime          9          9          1          1      0.995      0.877\n",
      "                Spider         16         18      0.902      0.667      0.755      0.441\n",
      "                 Witch          3          3      0.898          1      0.995      0.882\n",
      "       Wither Skeleton          2          2      0.862          1      0.995      0.895\n",
      "                  Wolf         10         12          1      0.711      0.925        0.7\n",
      "                Zombie         18         25      0.946       0.68      0.785      0.489\n",
      "      Zombified Piglin          4          4       0.92          1      0.995      0.871\n",
      "                   bee         10         14      0.996      0.643      0.785      0.569\n",
      "               chicken         17         33      0.859      0.485       0.71       0.44\n",
      "                   cow         29         69      0.922      0.511      0.669      0.355\n",
      "            iron golem          8          8          1      0.734      0.888      0.717\n",
      "                   pig         36         85      0.899       0.63      0.769      0.474\n",
      "Speed: 0.2ms preprocess, 2.4ms inference, 0.0ms loss, 0.7ms postprocess per image\n",
      "Results saved to \u001b[1mruns\\detect\\train35\u001b[0m\n",
      "Ultralytics 8.3.94  Python-3.12.4 torch-2.6.0+cpu CUDA:0 (NVIDIA GeForce RTX 2070 SUPER, 8192MiB)\n",
      "Model summary (fused): 72 layers, 3,009,548 parameters, 0 gradients, 8.1 GFLOPs\n"
     ]
    },
    {
     "name": "stderr",
     "output_type": "stream",
     "text": [
      "\u001b[34m\u001b[1mval: \u001b[0mScanning C:\\Users\\pc\\OneDrive\\Documents\\Code\\MinecraftPorject\\mob-4\\valid\\labels.cache... 220 images, 32 backgrounds, 0 corrupt: 100%|██████████| 220/220 [00:00<?, ?it/s]\n",
      "                 Class     Images  Instances      Box(P          R      mAP50  mAP50-95): 100%|██████████| 14/14 [00:01<00:00,  8.30it/s]\n"
     ]
    },
    {
     "name": "stdout",
     "output_type": "stream",
     "text": [
      "                   all        220        407      0.916      0.785       0.85      0.649\n",
      "               Creeper         18         40      0.886        0.7      0.736      0.439\n",
      "              Enderman          5          5      0.943          1      0.995      0.746\n",
      "                   Fox         14         14      0.856          1      0.961      0.724\n",
      "             Mooshroom          6          6      0.802      0.833      0.854      0.795\n",
      "                Ocelot         14         14      0.919       0.81      0.867      0.695\n",
      "                 Panda          6          7      0.847      0.857      0.764      0.669\n",
      "            Polar Bear          9          9       0.92      0.889      0.898        0.8\n",
      "              Skeleton         17         30      0.943      0.553      0.663      0.405\n",
      "                 Slime          9          9          1          1      0.995      0.877\n",
      "                Spider         16         18      0.902      0.667      0.755      0.445\n",
      "                 Witch          3          3      0.898          1      0.995      0.882\n",
      "       Wither Skeleton          2          2      0.862          1      0.995      0.895\n",
      "                  Wolf         10         12          1      0.711      0.925        0.7\n",
      "                Zombie         18         25      0.945       0.68      0.785      0.489\n",
      "      Zombified Piglin          4          4       0.92          1      0.995      0.864\n",
      "                   bee         10         14      0.993      0.643      0.785      0.571\n",
      "               chicken         17         33      0.862      0.485      0.711      0.438\n",
      "                   cow         29         69      0.922      0.511      0.669      0.359\n",
      "            iron golem          8          8          1      0.734      0.888      0.724\n",
      "                   pig         36         85      0.899       0.63      0.769      0.474\n",
      "Speed: 0.4ms preprocess, 3.6ms inference, 0.0ms loss, 0.7ms postprocess per image\n",
      "Results saved to \u001b[1mruns\\detect\\train352\u001b[0m\n",
      "Validation Results:\n",
      "ultralytics.utils.metrics.DetMetrics object with attributes:\n",
      "\n",
      "ap_class_index: array([ 0,  1,  2,  3,  4,  5,  6,  7,  8,  9, 10, 11, 12, 13, 14, 15, 16, 17, 18, 19])\n",
      "box: ultralytics.utils.metrics.Metric object\n",
      "confusion_matrix: <ultralytics.utils.metrics.ConfusionMatrix object at 0x0000025B14D2DFA0>\n",
      "curves: ['Precision-Recall(B)', 'F1-Confidence(B)', 'Precision-Confidence(B)', 'Recall-Confidence(B)']\n",
      "curves_results: [[array([          0,    0.001001,    0.002002,    0.003003,    0.004004,    0.005005,    0.006006,    0.007007,    0.008008,    0.009009,     0.01001,    0.011011,    0.012012,    0.013013,    0.014014,    0.015015,    0.016016,    0.017017,    0.018018,    0.019019,     0.02002,    0.021021,    0.022022,    0.023023,\n",
      "          0.024024,    0.025025,    0.026026,    0.027027,    0.028028,    0.029029,     0.03003,    0.031031,    0.032032,    0.033033,    0.034034,    0.035035,    0.036036,    0.037037,    0.038038,    0.039039,     0.04004,    0.041041,    0.042042,    0.043043,    0.044044,    0.045045,    0.046046,    0.047047,\n",
      "          0.048048,    0.049049,     0.05005,    0.051051,    0.052052,    0.053053,    0.054054,    0.055055,    0.056056,    0.057057,    0.058058,    0.059059,     0.06006,    0.061061,    0.062062,    0.063063,    0.064064,    0.065065,    0.066066,    0.067067,    0.068068,    0.069069,     0.07007,    0.071071,\n",
      "          0.072072,    0.073073,    0.074074,    0.075075,    0.076076,    0.077077,    0.078078,    0.079079,     0.08008,    0.081081,    0.082082,    0.083083,    0.084084,    0.085085,    0.086086,    0.087087,    0.088088,    0.089089,     0.09009,    0.091091,    0.092092,    0.093093,    0.094094,    0.095095,\n",
      "          0.096096,    0.097097,    0.098098,    0.099099,      0.1001,      0.1011,      0.1021,      0.1031,      0.1041,     0.10511,     0.10611,     0.10711,     0.10811,     0.10911,     0.11011,     0.11111,     0.11211,     0.11311,     0.11411,     0.11512,     0.11612,     0.11712,     0.11812,     0.11912,\n",
      "           0.12012,     0.12112,     0.12212,     0.12312,     0.12412,     0.12513,     0.12613,     0.12713,     0.12813,     0.12913,     0.13013,     0.13113,     0.13213,     0.13313,     0.13413,     0.13514,     0.13614,     0.13714,     0.13814,     0.13914,     0.14014,     0.14114,     0.14214,     0.14314,\n",
      "           0.14414,     0.14515,     0.14615,     0.14715,     0.14815,     0.14915,     0.15015,     0.15115,     0.15215,     0.15315,     0.15415,     0.15516,     0.15616,     0.15716,     0.15816,     0.15916,     0.16016,     0.16116,     0.16216,     0.16316,     0.16416,     0.16517,     0.16617,     0.16717,\n",
      "           0.16817,     0.16917,     0.17017,     0.17117,     0.17217,     0.17317,     0.17417,     0.17518,     0.17618,     0.17718,     0.17818,     0.17918,     0.18018,     0.18118,     0.18218,     0.18318,     0.18418,     0.18519,     0.18619,     0.18719,     0.18819,     0.18919,     0.19019,     0.19119,\n",
      "           0.19219,     0.19319,     0.19419,      0.1952,      0.1962,      0.1972,      0.1982,      0.1992,      0.2002,      0.2012,      0.2022,      0.2032,      0.2042,     0.20521,     0.20621,     0.20721,     0.20821,     0.20921,     0.21021,     0.21121,     0.21221,     0.21321,     0.21421,     0.21522,\n",
      "           0.21622,     0.21722,     0.21822,     0.21922,     0.22022,     0.22122,     0.22222,     0.22322,     0.22422,     0.22523,     0.22623,     0.22723,     0.22823,     0.22923,     0.23023,     0.23123,     0.23223,     0.23323,     0.23423,     0.23524,     0.23624,     0.23724,     0.23824,     0.23924,\n",
      "           0.24024,     0.24124,     0.24224,     0.24324,     0.24424,     0.24525,     0.24625,     0.24725,     0.24825,     0.24925,     0.25025,     0.25125,     0.25225,     0.25325,     0.25425,     0.25526,     0.25626,     0.25726,     0.25826,     0.25926,     0.26026,     0.26126,     0.26226,     0.26326,\n",
      "           0.26426,     0.26527,     0.26627,     0.26727,     0.26827,     0.26927,     0.27027,     0.27127,     0.27227,     0.27327,     0.27427,     0.27528,     0.27628,     0.27728,     0.27828,     0.27928,     0.28028,     0.28128,     0.28228,     0.28328,     0.28428,     0.28529,     0.28629,     0.28729,\n",
      "           0.28829,     0.28929,     0.29029,     0.29129,     0.29229,     0.29329,     0.29429,      0.2953,      0.2963,      0.2973,      0.2983,      0.2993,      0.3003,      0.3013,      0.3023,      0.3033,      0.3043,     0.30531,     0.30631,     0.30731,     0.30831,     0.30931,     0.31031,     0.31131,\n",
      "           0.31231,     0.31331,     0.31431,     0.31532,     0.31632,     0.31732,     0.31832,     0.31932,     0.32032,     0.32132,     0.32232,     0.32332,     0.32432,     0.32533,     0.32633,     0.32733,     0.32833,     0.32933,     0.33033,     0.33133,     0.33233,     0.33333,     0.33433,     0.33534,\n",
      "           0.33634,     0.33734,     0.33834,     0.33934,     0.34034,     0.34134,     0.34234,     0.34334,     0.34434,     0.34535,     0.34635,     0.34735,     0.34835,     0.34935,     0.35035,     0.35135,     0.35235,     0.35335,     0.35435,     0.35536,     0.35636,     0.35736,     0.35836,     0.35936,\n",
      "           0.36036,     0.36136,     0.36236,     0.36336,     0.36436,     0.36537,     0.36637,     0.36737,     0.36837,     0.36937,     0.37037,     0.37137,     0.37237,     0.37337,     0.37437,     0.37538,     0.37638,     0.37738,     0.37838,     0.37938,     0.38038,     0.38138,     0.38238,     0.38338,\n",
      "           0.38438,     0.38539,     0.38639,     0.38739,     0.38839,     0.38939,     0.39039,     0.39139,     0.39239,     0.39339,     0.39439,      0.3954,      0.3964,      0.3974,      0.3984,      0.3994,      0.4004,      0.4014,      0.4024,      0.4034,      0.4044,     0.40541,     0.40641,     0.40741,\n",
      "           0.40841,     0.40941,     0.41041,     0.41141,     0.41241,     0.41341,     0.41441,     0.41542,     0.41642,     0.41742,     0.41842,     0.41942,     0.42042,     0.42142,     0.42242,     0.42342,     0.42442,     0.42543,     0.42643,     0.42743,     0.42843,     0.42943,     0.43043,     0.43143,\n",
      "           0.43243,     0.43343,     0.43443,     0.43544,     0.43644,     0.43744,     0.43844,     0.43944,     0.44044,     0.44144,     0.44244,     0.44344,     0.44444,     0.44545,     0.44645,     0.44745,     0.44845,     0.44945,     0.45045,     0.45145,     0.45245,     0.45345,     0.45445,     0.45546,\n",
      "           0.45646,     0.45746,     0.45846,     0.45946,     0.46046,     0.46146,     0.46246,     0.46346,     0.46446,     0.46547,     0.46647,     0.46747,     0.46847,     0.46947,     0.47047,     0.47147,     0.47247,     0.47347,     0.47447,     0.47548,     0.47648,     0.47748,     0.47848,     0.47948,\n",
      "           0.48048,     0.48148,     0.48248,     0.48348,     0.48448,     0.48549,     0.48649,     0.48749,     0.48849,     0.48949,     0.49049,     0.49149,     0.49249,     0.49349,     0.49449,      0.4955,      0.4965,      0.4975,      0.4985,      0.4995,      0.5005,      0.5015,      0.5025,      0.5035,\n",
      "            0.5045,     0.50551,     0.50651,     0.50751,     0.50851,     0.50951,     0.51051,     0.51151,     0.51251,     0.51351,     0.51451,     0.51552,     0.51652,     0.51752,     0.51852,     0.51952,     0.52052,     0.52152,     0.52252,     0.52352,     0.52452,     0.52553,     0.52653,     0.52753,\n",
      "           0.52853,     0.52953,     0.53053,     0.53153,     0.53253,     0.53353,     0.53453,     0.53554,     0.53654,     0.53754,     0.53854,     0.53954,     0.54054,     0.54154,     0.54254,     0.54354,     0.54454,     0.54555,     0.54655,     0.54755,     0.54855,     0.54955,     0.55055,     0.55155,\n",
      "           0.55255,     0.55355,     0.55455,     0.55556,     0.55656,     0.55756,     0.55856,     0.55956,     0.56056,     0.56156,     0.56256,     0.56356,     0.56456,     0.56557,     0.56657,     0.56757,     0.56857,     0.56957,     0.57057,     0.57157,     0.57257,     0.57357,     0.57457,     0.57558,\n",
      "           0.57658,     0.57758,     0.57858,     0.57958,     0.58058,     0.58158,     0.58258,     0.58358,     0.58458,     0.58559,     0.58659,     0.58759,     0.58859,     0.58959,     0.59059,     0.59159,     0.59259,     0.59359,     0.59459,      0.5956,      0.5966,      0.5976,      0.5986,      0.5996,\n",
      "            0.6006,      0.6016,      0.6026,      0.6036,      0.6046,     0.60561,     0.60661,     0.60761,     0.60861,     0.60961,     0.61061,     0.61161,     0.61261,     0.61361,     0.61461,     0.61562,     0.61662,     0.61762,     0.61862,     0.61962,     0.62062,     0.62162,     0.62262,     0.62362,\n",
      "           0.62462,     0.62563,     0.62663,     0.62763,     0.62863,     0.62963,     0.63063,     0.63163,     0.63263,     0.63363,     0.63463,     0.63564,     0.63664,     0.63764,     0.63864,     0.63964,     0.64064,     0.64164,     0.64264,     0.64364,     0.64464,     0.64565,     0.64665,     0.64765,\n",
      "           0.64865,     0.64965,     0.65065,     0.65165,     0.65265,     0.65365,     0.65465,     0.65566,     0.65666,     0.65766,     0.65866,     0.65966,     0.66066,     0.66166,     0.66266,     0.66366,     0.66466,     0.66567,     0.66667,     0.66767,     0.66867,     0.66967,     0.67067,     0.67167,\n",
      "           0.67267,     0.67367,     0.67467,     0.67568,     0.67668,     0.67768,     0.67868,     0.67968,     0.68068,     0.68168,     0.68268,     0.68368,     0.68468,     0.68569,     0.68669,     0.68769,     0.68869,     0.68969,     0.69069,     0.69169,     0.69269,     0.69369,     0.69469,      0.6957,\n",
      "            0.6967,      0.6977,      0.6987,      0.6997,      0.7007,      0.7017,      0.7027,      0.7037,      0.7047,     0.70571,     0.70671,     0.70771,     0.70871,     0.70971,     0.71071,     0.71171,     0.71271,     0.71371,     0.71471,     0.71572,     0.71672,     0.71772,     0.71872,     0.71972,\n",
      "           0.72072,     0.72172,     0.72272,     0.72372,     0.72472,     0.72573,     0.72673,     0.72773,     0.72873,     0.72973,     0.73073,     0.73173,     0.73273,     0.73373,     0.73473,     0.73574,     0.73674,     0.73774,     0.73874,     0.73974,     0.74074,     0.74174,     0.74274,     0.74374,\n",
      "           0.74474,     0.74575,     0.74675,     0.74775,     0.74875,     0.74975,     0.75075,     0.75175,     0.75275,     0.75375,     0.75475,     0.75576,     0.75676,     0.75776,     0.75876,     0.75976,     0.76076,     0.76176,     0.76276,     0.76376,     0.76476,     0.76577,     0.76677,     0.76777,\n",
      "           0.76877,     0.76977,     0.77077,     0.77177,     0.77277,     0.77377,     0.77477,     0.77578,     0.77678,     0.77778,     0.77878,     0.77978,     0.78078,     0.78178,     0.78278,     0.78378,     0.78478,     0.78579,     0.78679,     0.78779,     0.78879,     0.78979,     0.79079,     0.79179,\n",
      "           0.79279,     0.79379,     0.79479,      0.7958,      0.7968,      0.7978,      0.7988,      0.7998,      0.8008,      0.8018,      0.8028,      0.8038,      0.8048,     0.80581,     0.80681,     0.80781,     0.80881,     0.80981,     0.81081,     0.81181,     0.81281,     0.81381,     0.81481,     0.81582,\n",
      "           0.81682,     0.81782,     0.81882,     0.81982,     0.82082,     0.82182,     0.82282,     0.82382,     0.82482,     0.82583,     0.82683,     0.82783,     0.82883,     0.82983,     0.83083,     0.83183,     0.83283,     0.83383,     0.83483,     0.83584,     0.83684,     0.83784,     0.83884,     0.83984,\n",
      "           0.84084,     0.84184,     0.84284,     0.84384,     0.84484,     0.84585,     0.84685,     0.84785,     0.84885,     0.84985,     0.85085,     0.85185,     0.85285,     0.85385,     0.85485,     0.85586,     0.85686,     0.85786,     0.85886,     0.85986,     0.86086,     0.86186,     0.86286,     0.86386,\n",
      "           0.86486,     0.86587,     0.86687,     0.86787,     0.86887,     0.86987,     0.87087,     0.87187,     0.87287,     0.87387,     0.87487,     0.87588,     0.87688,     0.87788,     0.87888,     0.87988,     0.88088,     0.88188,     0.88288,     0.88388,     0.88488,     0.88589,     0.88689,     0.88789,\n",
      "           0.88889,     0.88989,     0.89089,     0.89189,     0.89289,     0.89389,     0.89489,      0.8959,      0.8969,      0.8979,      0.8989,      0.8999,      0.9009,      0.9019,      0.9029,      0.9039,      0.9049,     0.90591,     0.90691,     0.90791,     0.90891,     0.90991,     0.91091,     0.91191,\n",
      "           0.91291,     0.91391,     0.91491,     0.91592,     0.91692,     0.91792,     0.91892,     0.91992,     0.92092,     0.92192,     0.92292,     0.92392,     0.92492,     0.92593,     0.92693,     0.92793,     0.92893,     0.92993,     0.93093,     0.93193,     0.93293,     0.93393,     0.93493,     0.93594,\n",
      "           0.93694,     0.93794,     0.93894,     0.93994,     0.94094,     0.94194,     0.94294,     0.94394,     0.94494,     0.94595,     0.94695,     0.94795,     0.94895,     0.94995,     0.95095,     0.95195,     0.95295,     0.95395,     0.95495,     0.95596,     0.95696,     0.95796,     0.95896,     0.95996,\n",
      "           0.96096,     0.96196,     0.96296,     0.96396,     0.96496,     0.96597,     0.96697,     0.96797,     0.96897,     0.96997,     0.97097,     0.97197,     0.97297,     0.97397,     0.97497,     0.97598,     0.97698,     0.97798,     0.97898,     0.97998,     0.98098,     0.98198,     0.98298,     0.98398,\n",
      "           0.98498,     0.98599,     0.98699,     0.98799,     0.98899,     0.98999,     0.99099,     0.99199,     0.99299,     0.99399,     0.99499,       0.996,       0.997,       0.998,       0.999,           1]), array([[          1,           1,           1, ...,   0.0007274,   0.0003637,           0],\n",
      "       [          1,           1,           1, ...,           1,           1,           0],\n",
      "       [          1,           1,           1, ...,       0.875,       0.875,           0],\n",
      "       ...,\n",
      "       [          1,           1,           1, ...,  0.00076584,  0.00038292,           0],\n",
      "       [          1,           1,           1, ...,         0.5,         0.5,           0],\n",
      "       [          1,           1,           1, ...,     0.00213,    0.001065,           0]]), 'Recall', 'Precision'], [array([          0,    0.001001,    0.002002,    0.003003,    0.004004,    0.005005,    0.006006,    0.007007,    0.008008,    0.009009,     0.01001,    0.011011,    0.012012,    0.013013,    0.014014,    0.015015,    0.016016,    0.017017,    0.018018,    0.019019,     0.02002,    0.021021,    0.022022,    0.023023,\n",
      "          0.024024,    0.025025,    0.026026,    0.027027,    0.028028,    0.029029,     0.03003,    0.031031,    0.032032,    0.033033,    0.034034,    0.035035,    0.036036,    0.037037,    0.038038,    0.039039,     0.04004,    0.041041,    0.042042,    0.043043,    0.044044,    0.045045,    0.046046,    0.047047,\n",
      "          0.048048,    0.049049,     0.05005,    0.051051,    0.052052,    0.053053,    0.054054,    0.055055,    0.056056,    0.057057,    0.058058,    0.059059,     0.06006,    0.061061,    0.062062,    0.063063,    0.064064,    0.065065,    0.066066,    0.067067,    0.068068,    0.069069,     0.07007,    0.071071,\n",
      "          0.072072,    0.073073,    0.074074,    0.075075,    0.076076,    0.077077,    0.078078,    0.079079,     0.08008,    0.081081,    0.082082,    0.083083,    0.084084,    0.085085,    0.086086,    0.087087,    0.088088,    0.089089,     0.09009,    0.091091,    0.092092,    0.093093,    0.094094,    0.095095,\n",
      "          0.096096,    0.097097,    0.098098,    0.099099,      0.1001,      0.1011,      0.1021,      0.1031,      0.1041,     0.10511,     0.10611,     0.10711,     0.10811,     0.10911,     0.11011,     0.11111,     0.11211,     0.11311,     0.11411,     0.11512,     0.11612,     0.11712,     0.11812,     0.11912,\n",
      "           0.12012,     0.12112,     0.12212,     0.12312,     0.12412,     0.12513,     0.12613,     0.12713,     0.12813,     0.12913,     0.13013,     0.13113,     0.13213,     0.13313,     0.13413,     0.13514,     0.13614,     0.13714,     0.13814,     0.13914,     0.14014,     0.14114,     0.14214,     0.14314,\n",
      "           0.14414,     0.14515,     0.14615,     0.14715,     0.14815,     0.14915,     0.15015,     0.15115,     0.15215,     0.15315,     0.15415,     0.15516,     0.15616,     0.15716,     0.15816,     0.15916,     0.16016,     0.16116,     0.16216,     0.16316,     0.16416,     0.16517,     0.16617,     0.16717,\n",
      "           0.16817,     0.16917,     0.17017,     0.17117,     0.17217,     0.17317,     0.17417,     0.17518,     0.17618,     0.17718,     0.17818,     0.17918,     0.18018,     0.18118,     0.18218,     0.18318,     0.18418,     0.18519,     0.18619,     0.18719,     0.18819,     0.18919,     0.19019,     0.19119,\n",
      "           0.19219,     0.19319,     0.19419,      0.1952,      0.1962,      0.1972,      0.1982,      0.1992,      0.2002,      0.2012,      0.2022,      0.2032,      0.2042,     0.20521,     0.20621,     0.20721,     0.20821,     0.20921,     0.21021,     0.21121,     0.21221,     0.21321,     0.21421,     0.21522,\n",
      "           0.21622,     0.21722,     0.21822,     0.21922,     0.22022,     0.22122,     0.22222,     0.22322,     0.22422,     0.22523,     0.22623,     0.22723,     0.22823,     0.22923,     0.23023,     0.23123,     0.23223,     0.23323,     0.23423,     0.23524,     0.23624,     0.23724,     0.23824,     0.23924,\n",
      "           0.24024,     0.24124,     0.24224,     0.24324,     0.24424,     0.24525,     0.24625,     0.24725,     0.24825,     0.24925,     0.25025,     0.25125,     0.25225,     0.25325,     0.25425,     0.25526,     0.25626,     0.25726,     0.25826,     0.25926,     0.26026,     0.26126,     0.26226,     0.26326,\n",
      "           0.26426,     0.26527,     0.26627,     0.26727,     0.26827,     0.26927,     0.27027,     0.27127,     0.27227,     0.27327,     0.27427,     0.27528,     0.27628,     0.27728,     0.27828,     0.27928,     0.28028,     0.28128,     0.28228,     0.28328,     0.28428,     0.28529,     0.28629,     0.28729,\n",
      "           0.28829,     0.28929,     0.29029,     0.29129,     0.29229,     0.29329,     0.29429,      0.2953,      0.2963,      0.2973,      0.2983,      0.2993,      0.3003,      0.3013,      0.3023,      0.3033,      0.3043,     0.30531,     0.30631,     0.30731,     0.30831,     0.30931,     0.31031,     0.31131,\n",
      "           0.31231,     0.31331,     0.31431,     0.31532,     0.31632,     0.31732,     0.31832,     0.31932,     0.32032,     0.32132,     0.32232,     0.32332,     0.32432,     0.32533,     0.32633,     0.32733,     0.32833,     0.32933,     0.33033,     0.33133,     0.33233,     0.33333,     0.33433,     0.33534,\n",
      "           0.33634,     0.33734,     0.33834,     0.33934,     0.34034,     0.34134,     0.34234,     0.34334,     0.34434,     0.34535,     0.34635,     0.34735,     0.34835,     0.34935,     0.35035,     0.35135,     0.35235,     0.35335,     0.35435,     0.35536,     0.35636,     0.35736,     0.35836,     0.35936,\n",
      "           0.36036,     0.36136,     0.36236,     0.36336,     0.36436,     0.36537,     0.36637,     0.36737,     0.36837,     0.36937,     0.37037,     0.37137,     0.37237,     0.37337,     0.37437,     0.37538,     0.37638,     0.37738,     0.37838,     0.37938,     0.38038,     0.38138,     0.38238,     0.38338,\n",
      "           0.38438,     0.38539,     0.38639,     0.38739,     0.38839,     0.38939,     0.39039,     0.39139,     0.39239,     0.39339,     0.39439,      0.3954,      0.3964,      0.3974,      0.3984,      0.3994,      0.4004,      0.4014,      0.4024,      0.4034,      0.4044,     0.40541,     0.40641,     0.40741,\n",
      "           0.40841,     0.40941,     0.41041,     0.41141,     0.41241,     0.41341,     0.41441,     0.41542,     0.41642,     0.41742,     0.41842,     0.41942,     0.42042,     0.42142,     0.42242,     0.42342,     0.42442,     0.42543,     0.42643,     0.42743,     0.42843,     0.42943,     0.43043,     0.43143,\n",
      "           0.43243,     0.43343,     0.43443,     0.43544,     0.43644,     0.43744,     0.43844,     0.43944,     0.44044,     0.44144,     0.44244,     0.44344,     0.44444,     0.44545,     0.44645,     0.44745,     0.44845,     0.44945,     0.45045,     0.45145,     0.45245,     0.45345,     0.45445,     0.45546,\n",
      "           0.45646,     0.45746,     0.45846,     0.45946,     0.46046,     0.46146,     0.46246,     0.46346,     0.46446,     0.46547,     0.46647,     0.46747,     0.46847,     0.46947,     0.47047,     0.47147,     0.47247,     0.47347,     0.47447,     0.47548,     0.47648,     0.47748,     0.47848,     0.47948,\n",
      "           0.48048,     0.48148,     0.48248,     0.48348,     0.48448,     0.48549,     0.48649,     0.48749,     0.48849,     0.48949,     0.49049,     0.49149,     0.49249,     0.49349,     0.49449,      0.4955,      0.4965,      0.4975,      0.4985,      0.4995,      0.5005,      0.5015,      0.5025,      0.5035,\n",
      "            0.5045,     0.50551,     0.50651,     0.50751,     0.50851,     0.50951,     0.51051,     0.51151,     0.51251,     0.51351,     0.51451,     0.51552,     0.51652,     0.51752,     0.51852,     0.51952,     0.52052,     0.52152,     0.52252,     0.52352,     0.52452,     0.52553,     0.52653,     0.52753,\n",
      "           0.52853,     0.52953,     0.53053,     0.53153,     0.53253,     0.53353,     0.53453,     0.53554,     0.53654,     0.53754,     0.53854,     0.53954,     0.54054,     0.54154,     0.54254,     0.54354,     0.54454,     0.54555,     0.54655,     0.54755,     0.54855,     0.54955,     0.55055,     0.55155,\n",
      "           0.55255,     0.55355,     0.55455,     0.55556,     0.55656,     0.55756,     0.55856,     0.55956,     0.56056,     0.56156,     0.56256,     0.56356,     0.56456,     0.56557,     0.56657,     0.56757,     0.56857,     0.56957,     0.57057,     0.57157,     0.57257,     0.57357,     0.57457,     0.57558,\n",
      "           0.57658,     0.57758,     0.57858,     0.57958,     0.58058,     0.58158,     0.58258,     0.58358,     0.58458,     0.58559,     0.58659,     0.58759,     0.58859,     0.58959,     0.59059,     0.59159,     0.59259,     0.59359,     0.59459,      0.5956,      0.5966,      0.5976,      0.5986,      0.5996,\n",
      "            0.6006,      0.6016,      0.6026,      0.6036,      0.6046,     0.60561,     0.60661,     0.60761,     0.60861,     0.60961,     0.61061,     0.61161,     0.61261,     0.61361,     0.61461,     0.61562,     0.61662,     0.61762,     0.61862,     0.61962,     0.62062,     0.62162,     0.62262,     0.62362,\n",
      "           0.62462,     0.62563,     0.62663,     0.62763,     0.62863,     0.62963,     0.63063,     0.63163,     0.63263,     0.63363,     0.63463,     0.63564,     0.63664,     0.63764,     0.63864,     0.63964,     0.64064,     0.64164,     0.64264,     0.64364,     0.64464,     0.64565,     0.64665,     0.64765,\n",
      "           0.64865,     0.64965,     0.65065,     0.65165,     0.65265,     0.65365,     0.65465,     0.65566,     0.65666,     0.65766,     0.65866,     0.65966,     0.66066,     0.66166,     0.66266,     0.66366,     0.66466,     0.66567,     0.66667,     0.66767,     0.66867,     0.66967,     0.67067,     0.67167,\n",
      "           0.67267,     0.67367,     0.67467,     0.67568,     0.67668,     0.67768,     0.67868,     0.67968,     0.68068,     0.68168,     0.68268,     0.68368,     0.68468,     0.68569,     0.68669,     0.68769,     0.68869,     0.68969,     0.69069,     0.69169,     0.69269,     0.69369,     0.69469,      0.6957,\n",
      "            0.6967,      0.6977,      0.6987,      0.6997,      0.7007,      0.7017,      0.7027,      0.7037,      0.7047,     0.70571,     0.70671,     0.70771,     0.70871,     0.70971,     0.71071,     0.71171,     0.71271,     0.71371,     0.71471,     0.71572,     0.71672,     0.71772,     0.71872,     0.71972,\n",
      "           0.72072,     0.72172,     0.72272,     0.72372,     0.72472,     0.72573,     0.72673,     0.72773,     0.72873,     0.72973,     0.73073,     0.73173,     0.73273,     0.73373,     0.73473,     0.73574,     0.73674,     0.73774,     0.73874,     0.73974,     0.74074,     0.74174,     0.74274,     0.74374,\n",
      "           0.74474,     0.74575,     0.74675,     0.74775,     0.74875,     0.74975,     0.75075,     0.75175,     0.75275,     0.75375,     0.75475,     0.75576,     0.75676,     0.75776,     0.75876,     0.75976,     0.76076,     0.76176,     0.76276,     0.76376,     0.76476,     0.76577,     0.76677,     0.76777,\n",
      "           0.76877,     0.76977,     0.77077,     0.77177,     0.77277,     0.77377,     0.77477,     0.77578,     0.77678,     0.77778,     0.77878,     0.77978,     0.78078,     0.78178,     0.78278,     0.78378,     0.78478,     0.78579,     0.78679,     0.78779,     0.78879,     0.78979,     0.79079,     0.79179,\n",
      "           0.79279,     0.79379,     0.79479,      0.7958,      0.7968,      0.7978,      0.7988,      0.7998,      0.8008,      0.8018,      0.8028,      0.8038,      0.8048,     0.80581,     0.80681,     0.80781,     0.80881,     0.80981,     0.81081,     0.81181,     0.81281,     0.81381,     0.81481,     0.81582,\n",
      "           0.81682,     0.81782,     0.81882,     0.81982,     0.82082,     0.82182,     0.82282,     0.82382,     0.82482,     0.82583,     0.82683,     0.82783,     0.82883,     0.82983,     0.83083,     0.83183,     0.83283,     0.83383,     0.83483,     0.83584,     0.83684,     0.83784,     0.83884,     0.83984,\n",
      "           0.84084,     0.84184,     0.84284,     0.84384,     0.84484,     0.84585,     0.84685,     0.84785,     0.84885,     0.84985,     0.85085,     0.85185,     0.85285,     0.85385,     0.85485,     0.85586,     0.85686,     0.85786,     0.85886,     0.85986,     0.86086,     0.86186,     0.86286,     0.86386,\n",
      "           0.86486,     0.86587,     0.86687,     0.86787,     0.86887,     0.86987,     0.87087,     0.87187,     0.87287,     0.87387,     0.87487,     0.87588,     0.87688,     0.87788,     0.87888,     0.87988,     0.88088,     0.88188,     0.88288,     0.88388,     0.88488,     0.88589,     0.88689,     0.88789,\n",
      "           0.88889,     0.88989,     0.89089,     0.89189,     0.89289,     0.89389,     0.89489,      0.8959,      0.8969,      0.8979,      0.8989,      0.8999,      0.9009,      0.9019,      0.9029,      0.9039,      0.9049,     0.90591,     0.90691,     0.90791,     0.90891,     0.90991,     0.91091,     0.91191,\n",
      "           0.91291,     0.91391,     0.91491,     0.91592,     0.91692,     0.91792,     0.91892,     0.91992,     0.92092,     0.92192,     0.92292,     0.92392,     0.92492,     0.92593,     0.92693,     0.92793,     0.92893,     0.92993,     0.93093,     0.93193,     0.93293,     0.93393,     0.93493,     0.93594,\n",
      "           0.93694,     0.93794,     0.93894,     0.93994,     0.94094,     0.94194,     0.94294,     0.94394,     0.94494,     0.94595,     0.94695,     0.94795,     0.94895,     0.94995,     0.95095,     0.95195,     0.95295,     0.95395,     0.95495,     0.95596,     0.95696,     0.95796,     0.95896,     0.95996,\n",
      "           0.96096,     0.96196,     0.96296,     0.96396,     0.96496,     0.96597,     0.96697,     0.96797,     0.96897,     0.96997,     0.97097,     0.97197,     0.97297,     0.97397,     0.97497,     0.97598,     0.97698,     0.97798,     0.97898,     0.97998,     0.98098,     0.98198,     0.98298,     0.98398,\n",
      "           0.98498,     0.98599,     0.98699,     0.98799,     0.98899,     0.98999,     0.99099,     0.99199,     0.99299,     0.99399,     0.99499,       0.996,       0.997,       0.998,       0.999,           1]), array([[    0.11807,     0.11807,     0.17255, ...,           0,           0,           0],\n",
      "       [    0.28571,     0.28571,     0.43396, ...,           0,           0,           0],\n",
      "       [    0.26667,     0.26667,     0.33808, ...,           0,           0,           0],\n",
      "       ...,\n",
      "       [    0.13239,      0.1324,     0.18432, ...,           0,           0,           0],\n",
      "       [    0.17978,     0.17978,     0.28454, ...,           0,           0,           0],\n",
      "       [    0.25569,     0.25569,     0.34376, ...,           0,           0,           0]]), 'Confidence', 'F1'], [array([          0,    0.001001,    0.002002,    0.003003,    0.004004,    0.005005,    0.006006,    0.007007,    0.008008,    0.009009,     0.01001,    0.011011,    0.012012,    0.013013,    0.014014,    0.015015,    0.016016,    0.017017,    0.018018,    0.019019,     0.02002,    0.021021,    0.022022,    0.023023,\n",
      "          0.024024,    0.025025,    0.026026,    0.027027,    0.028028,    0.029029,     0.03003,    0.031031,    0.032032,    0.033033,    0.034034,    0.035035,    0.036036,    0.037037,    0.038038,    0.039039,     0.04004,    0.041041,    0.042042,    0.043043,    0.044044,    0.045045,    0.046046,    0.047047,\n",
      "          0.048048,    0.049049,     0.05005,    0.051051,    0.052052,    0.053053,    0.054054,    0.055055,    0.056056,    0.057057,    0.058058,    0.059059,     0.06006,    0.061061,    0.062062,    0.063063,    0.064064,    0.065065,    0.066066,    0.067067,    0.068068,    0.069069,     0.07007,    0.071071,\n",
      "          0.072072,    0.073073,    0.074074,    0.075075,    0.076076,    0.077077,    0.078078,    0.079079,     0.08008,    0.081081,    0.082082,    0.083083,    0.084084,    0.085085,    0.086086,    0.087087,    0.088088,    0.089089,     0.09009,    0.091091,    0.092092,    0.093093,    0.094094,    0.095095,\n",
      "          0.096096,    0.097097,    0.098098,    0.099099,      0.1001,      0.1011,      0.1021,      0.1031,      0.1041,     0.10511,     0.10611,     0.10711,     0.10811,     0.10911,     0.11011,     0.11111,     0.11211,     0.11311,     0.11411,     0.11512,     0.11612,     0.11712,     0.11812,     0.11912,\n",
      "           0.12012,     0.12112,     0.12212,     0.12312,     0.12412,     0.12513,     0.12613,     0.12713,     0.12813,     0.12913,     0.13013,     0.13113,     0.13213,     0.13313,     0.13413,     0.13514,     0.13614,     0.13714,     0.13814,     0.13914,     0.14014,     0.14114,     0.14214,     0.14314,\n",
      "           0.14414,     0.14515,     0.14615,     0.14715,     0.14815,     0.14915,     0.15015,     0.15115,     0.15215,     0.15315,     0.15415,     0.15516,     0.15616,     0.15716,     0.15816,     0.15916,     0.16016,     0.16116,     0.16216,     0.16316,     0.16416,     0.16517,     0.16617,     0.16717,\n",
      "           0.16817,     0.16917,     0.17017,     0.17117,     0.17217,     0.17317,     0.17417,     0.17518,     0.17618,     0.17718,     0.17818,     0.17918,     0.18018,     0.18118,     0.18218,     0.18318,     0.18418,     0.18519,     0.18619,     0.18719,     0.18819,     0.18919,     0.19019,     0.19119,\n",
      "           0.19219,     0.19319,     0.19419,      0.1952,      0.1962,      0.1972,      0.1982,      0.1992,      0.2002,      0.2012,      0.2022,      0.2032,      0.2042,     0.20521,     0.20621,     0.20721,     0.20821,     0.20921,     0.21021,     0.21121,     0.21221,     0.21321,     0.21421,     0.21522,\n",
      "           0.21622,     0.21722,     0.21822,     0.21922,     0.22022,     0.22122,     0.22222,     0.22322,     0.22422,     0.22523,     0.22623,     0.22723,     0.22823,     0.22923,     0.23023,     0.23123,     0.23223,     0.23323,     0.23423,     0.23524,     0.23624,     0.23724,     0.23824,     0.23924,\n",
      "           0.24024,     0.24124,     0.24224,     0.24324,     0.24424,     0.24525,     0.24625,     0.24725,     0.24825,     0.24925,     0.25025,     0.25125,     0.25225,     0.25325,     0.25425,     0.25526,     0.25626,     0.25726,     0.25826,     0.25926,     0.26026,     0.26126,     0.26226,     0.26326,\n",
      "           0.26426,     0.26527,     0.26627,     0.26727,     0.26827,     0.26927,     0.27027,     0.27127,     0.27227,     0.27327,     0.27427,     0.27528,     0.27628,     0.27728,     0.27828,     0.27928,     0.28028,     0.28128,     0.28228,     0.28328,     0.28428,     0.28529,     0.28629,     0.28729,\n",
      "           0.28829,     0.28929,     0.29029,     0.29129,     0.29229,     0.29329,     0.29429,      0.2953,      0.2963,      0.2973,      0.2983,      0.2993,      0.3003,      0.3013,      0.3023,      0.3033,      0.3043,     0.30531,     0.30631,     0.30731,     0.30831,     0.30931,     0.31031,     0.31131,\n",
      "           0.31231,     0.31331,     0.31431,     0.31532,     0.31632,     0.31732,     0.31832,     0.31932,     0.32032,     0.32132,     0.32232,     0.32332,     0.32432,     0.32533,     0.32633,     0.32733,     0.32833,     0.32933,     0.33033,     0.33133,     0.33233,     0.33333,     0.33433,     0.33534,\n",
      "           0.33634,     0.33734,     0.33834,     0.33934,     0.34034,     0.34134,     0.34234,     0.34334,     0.34434,     0.34535,     0.34635,     0.34735,     0.34835,     0.34935,     0.35035,     0.35135,     0.35235,     0.35335,     0.35435,     0.35536,     0.35636,     0.35736,     0.35836,     0.35936,\n",
      "           0.36036,     0.36136,     0.36236,     0.36336,     0.36436,     0.36537,     0.36637,     0.36737,     0.36837,     0.36937,     0.37037,     0.37137,     0.37237,     0.37337,     0.37437,     0.37538,     0.37638,     0.37738,     0.37838,     0.37938,     0.38038,     0.38138,     0.38238,     0.38338,\n",
      "           0.38438,     0.38539,     0.38639,     0.38739,     0.38839,     0.38939,     0.39039,     0.39139,     0.39239,     0.39339,     0.39439,      0.3954,      0.3964,      0.3974,      0.3984,      0.3994,      0.4004,      0.4014,      0.4024,      0.4034,      0.4044,     0.40541,     0.40641,     0.40741,\n",
      "           0.40841,     0.40941,     0.41041,     0.41141,     0.41241,     0.41341,     0.41441,     0.41542,     0.41642,     0.41742,     0.41842,     0.41942,     0.42042,     0.42142,     0.42242,     0.42342,     0.42442,     0.42543,     0.42643,     0.42743,     0.42843,     0.42943,     0.43043,     0.43143,\n",
      "           0.43243,     0.43343,     0.43443,     0.43544,     0.43644,     0.43744,     0.43844,     0.43944,     0.44044,     0.44144,     0.44244,     0.44344,     0.44444,     0.44545,     0.44645,     0.44745,     0.44845,     0.44945,     0.45045,     0.45145,     0.45245,     0.45345,     0.45445,     0.45546,\n",
      "           0.45646,     0.45746,     0.45846,     0.45946,     0.46046,     0.46146,     0.46246,     0.46346,     0.46446,     0.46547,     0.46647,     0.46747,     0.46847,     0.46947,     0.47047,     0.47147,     0.47247,     0.47347,     0.47447,     0.47548,     0.47648,     0.47748,     0.47848,     0.47948,\n",
      "           0.48048,     0.48148,     0.48248,     0.48348,     0.48448,     0.48549,     0.48649,     0.48749,     0.48849,     0.48949,     0.49049,     0.49149,     0.49249,     0.49349,     0.49449,      0.4955,      0.4965,      0.4975,      0.4985,      0.4995,      0.5005,      0.5015,      0.5025,      0.5035,\n",
      "            0.5045,     0.50551,     0.50651,     0.50751,     0.50851,     0.50951,     0.51051,     0.51151,     0.51251,     0.51351,     0.51451,     0.51552,     0.51652,     0.51752,     0.51852,     0.51952,     0.52052,     0.52152,     0.52252,     0.52352,     0.52452,     0.52553,     0.52653,     0.52753,\n",
      "           0.52853,     0.52953,     0.53053,     0.53153,     0.53253,     0.53353,     0.53453,     0.53554,     0.53654,     0.53754,     0.53854,     0.53954,     0.54054,     0.54154,     0.54254,     0.54354,     0.54454,     0.54555,     0.54655,     0.54755,     0.54855,     0.54955,     0.55055,     0.55155,\n",
      "           0.55255,     0.55355,     0.55455,     0.55556,     0.55656,     0.55756,     0.55856,     0.55956,     0.56056,     0.56156,     0.56256,     0.56356,     0.56456,     0.56557,     0.56657,     0.56757,     0.56857,     0.56957,     0.57057,     0.57157,     0.57257,     0.57357,     0.57457,     0.57558,\n",
      "           0.57658,     0.57758,     0.57858,     0.57958,     0.58058,     0.58158,     0.58258,     0.58358,     0.58458,     0.58559,     0.58659,     0.58759,     0.58859,     0.58959,     0.59059,     0.59159,     0.59259,     0.59359,     0.59459,      0.5956,      0.5966,      0.5976,      0.5986,      0.5996,\n",
      "            0.6006,      0.6016,      0.6026,      0.6036,      0.6046,     0.60561,     0.60661,     0.60761,     0.60861,     0.60961,     0.61061,     0.61161,     0.61261,     0.61361,     0.61461,     0.61562,     0.61662,     0.61762,     0.61862,     0.61962,     0.62062,     0.62162,     0.62262,     0.62362,\n",
      "           0.62462,     0.62563,     0.62663,     0.62763,     0.62863,     0.62963,     0.63063,     0.63163,     0.63263,     0.63363,     0.63463,     0.63564,     0.63664,     0.63764,     0.63864,     0.63964,     0.64064,     0.64164,     0.64264,     0.64364,     0.64464,     0.64565,     0.64665,     0.64765,\n",
      "           0.64865,     0.64965,     0.65065,     0.65165,     0.65265,     0.65365,     0.65465,     0.65566,     0.65666,     0.65766,     0.65866,     0.65966,     0.66066,     0.66166,     0.66266,     0.66366,     0.66466,     0.66567,     0.66667,     0.66767,     0.66867,     0.66967,     0.67067,     0.67167,\n",
      "           0.67267,     0.67367,     0.67467,     0.67568,     0.67668,     0.67768,     0.67868,     0.67968,     0.68068,     0.68168,     0.68268,     0.68368,     0.68468,     0.68569,     0.68669,     0.68769,     0.68869,     0.68969,     0.69069,     0.69169,     0.69269,     0.69369,     0.69469,      0.6957,\n",
      "            0.6967,      0.6977,      0.6987,      0.6997,      0.7007,      0.7017,      0.7027,      0.7037,      0.7047,     0.70571,     0.70671,     0.70771,     0.70871,     0.70971,     0.71071,     0.71171,     0.71271,     0.71371,     0.71471,     0.71572,     0.71672,     0.71772,     0.71872,     0.71972,\n",
      "           0.72072,     0.72172,     0.72272,     0.72372,     0.72472,     0.72573,     0.72673,     0.72773,     0.72873,     0.72973,     0.73073,     0.73173,     0.73273,     0.73373,     0.73473,     0.73574,     0.73674,     0.73774,     0.73874,     0.73974,     0.74074,     0.74174,     0.74274,     0.74374,\n",
      "           0.74474,     0.74575,     0.74675,     0.74775,     0.74875,     0.74975,     0.75075,     0.75175,     0.75275,     0.75375,     0.75475,     0.75576,     0.75676,     0.75776,     0.75876,     0.75976,     0.76076,     0.76176,     0.76276,     0.76376,     0.76476,     0.76577,     0.76677,     0.76777,\n",
      "           0.76877,     0.76977,     0.77077,     0.77177,     0.77277,     0.77377,     0.77477,     0.77578,     0.77678,     0.77778,     0.77878,     0.77978,     0.78078,     0.78178,     0.78278,     0.78378,     0.78478,     0.78579,     0.78679,     0.78779,     0.78879,     0.78979,     0.79079,     0.79179,\n",
      "           0.79279,     0.79379,     0.79479,      0.7958,      0.7968,      0.7978,      0.7988,      0.7998,      0.8008,      0.8018,      0.8028,      0.8038,      0.8048,     0.80581,     0.80681,     0.80781,     0.80881,     0.80981,     0.81081,     0.81181,     0.81281,     0.81381,     0.81481,     0.81582,\n",
      "           0.81682,     0.81782,     0.81882,     0.81982,     0.82082,     0.82182,     0.82282,     0.82382,     0.82482,     0.82583,     0.82683,     0.82783,     0.82883,     0.82983,     0.83083,     0.83183,     0.83283,     0.83383,     0.83483,     0.83584,     0.83684,     0.83784,     0.83884,     0.83984,\n",
      "           0.84084,     0.84184,     0.84284,     0.84384,     0.84484,     0.84585,     0.84685,     0.84785,     0.84885,     0.84985,     0.85085,     0.85185,     0.85285,     0.85385,     0.85485,     0.85586,     0.85686,     0.85786,     0.85886,     0.85986,     0.86086,     0.86186,     0.86286,     0.86386,\n",
      "           0.86486,     0.86587,     0.86687,     0.86787,     0.86887,     0.86987,     0.87087,     0.87187,     0.87287,     0.87387,     0.87487,     0.87588,     0.87688,     0.87788,     0.87888,     0.87988,     0.88088,     0.88188,     0.88288,     0.88388,     0.88488,     0.88589,     0.88689,     0.88789,\n",
      "           0.88889,     0.88989,     0.89089,     0.89189,     0.89289,     0.89389,     0.89489,      0.8959,      0.8969,      0.8979,      0.8989,      0.8999,      0.9009,      0.9019,      0.9029,      0.9039,      0.9049,     0.90591,     0.90691,     0.90791,     0.90891,     0.90991,     0.91091,     0.91191,\n",
      "           0.91291,     0.91391,     0.91491,     0.91592,     0.91692,     0.91792,     0.91892,     0.91992,     0.92092,     0.92192,     0.92292,     0.92392,     0.92492,     0.92593,     0.92693,     0.92793,     0.92893,     0.92993,     0.93093,     0.93193,     0.93293,     0.93393,     0.93493,     0.93594,\n",
      "           0.93694,     0.93794,     0.93894,     0.93994,     0.94094,     0.94194,     0.94294,     0.94394,     0.94494,     0.94595,     0.94695,     0.94795,     0.94895,     0.94995,     0.95095,     0.95195,     0.95295,     0.95395,     0.95495,     0.95596,     0.95696,     0.95796,     0.95896,     0.95996,\n",
      "           0.96096,     0.96196,     0.96296,     0.96396,     0.96496,     0.96597,     0.96697,     0.96797,     0.96897,     0.96997,     0.97097,     0.97197,     0.97297,     0.97397,     0.97497,     0.97598,     0.97698,     0.97798,     0.97898,     0.97998,     0.98098,     0.98198,     0.98298,     0.98398,\n",
      "           0.98498,     0.98599,     0.98699,     0.98799,     0.98899,     0.98999,     0.99099,     0.99199,     0.99299,     0.99399,     0.99499,       0.996,       0.997,       0.998,       0.999,           1]), array([[   0.063584,    0.063584,    0.096702, ...,           1,           1,           1],\n",
      "       [    0.16667,     0.16667,     0.27711, ...,           1,           1,           1],\n",
      "       [    0.15385,     0.15385,     0.20343, ...,           1,           1,           1],\n",
      "       ...,\n",
      "       [   0.072072,    0.072081,     0.10446, ...,           1,           1,           1],\n",
      "       [   0.098765,    0.098765,     0.16587, ...,           1,           1,           1],\n",
      "       [    0.15021,     0.15021,     0.21489, ...,           1,           1,           1]]), 'Confidence', 'Precision'], [array([          0,    0.001001,    0.002002,    0.003003,    0.004004,    0.005005,    0.006006,    0.007007,    0.008008,    0.009009,     0.01001,    0.011011,    0.012012,    0.013013,    0.014014,    0.015015,    0.016016,    0.017017,    0.018018,    0.019019,     0.02002,    0.021021,    0.022022,    0.023023,\n",
      "          0.024024,    0.025025,    0.026026,    0.027027,    0.028028,    0.029029,     0.03003,    0.031031,    0.032032,    0.033033,    0.034034,    0.035035,    0.036036,    0.037037,    0.038038,    0.039039,     0.04004,    0.041041,    0.042042,    0.043043,    0.044044,    0.045045,    0.046046,    0.047047,\n",
      "          0.048048,    0.049049,     0.05005,    0.051051,    0.052052,    0.053053,    0.054054,    0.055055,    0.056056,    0.057057,    0.058058,    0.059059,     0.06006,    0.061061,    0.062062,    0.063063,    0.064064,    0.065065,    0.066066,    0.067067,    0.068068,    0.069069,     0.07007,    0.071071,\n",
      "          0.072072,    0.073073,    0.074074,    0.075075,    0.076076,    0.077077,    0.078078,    0.079079,     0.08008,    0.081081,    0.082082,    0.083083,    0.084084,    0.085085,    0.086086,    0.087087,    0.088088,    0.089089,     0.09009,    0.091091,    0.092092,    0.093093,    0.094094,    0.095095,\n",
      "          0.096096,    0.097097,    0.098098,    0.099099,      0.1001,      0.1011,      0.1021,      0.1031,      0.1041,     0.10511,     0.10611,     0.10711,     0.10811,     0.10911,     0.11011,     0.11111,     0.11211,     0.11311,     0.11411,     0.11512,     0.11612,     0.11712,     0.11812,     0.11912,\n",
      "           0.12012,     0.12112,     0.12212,     0.12312,     0.12412,     0.12513,     0.12613,     0.12713,     0.12813,     0.12913,     0.13013,     0.13113,     0.13213,     0.13313,     0.13413,     0.13514,     0.13614,     0.13714,     0.13814,     0.13914,     0.14014,     0.14114,     0.14214,     0.14314,\n",
      "           0.14414,     0.14515,     0.14615,     0.14715,     0.14815,     0.14915,     0.15015,     0.15115,     0.15215,     0.15315,     0.15415,     0.15516,     0.15616,     0.15716,     0.15816,     0.15916,     0.16016,     0.16116,     0.16216,     0.16316,     0.16416,     0.16517,     0.16617,     0.16717,\n",
      "           0.16817,     0.16917,     0.17017,     0.17117,     0.17217,     0.17317,     0.17417,     0.17518,     0.17618,     0.17718,     0.17818,     0.17918,     0.18018,     0.18118,     0.18218,     0.18318,     0.18418,     0.18519,     0.18619,     0.18719,     0.18819,     0.18919,     0.19019,     0.19119,\n",
      "           0.19219,     0.19319,     0.19419,      0.1952,      0.1962,      0.1972,      0.1982,      0.1992,      0.2002,      0.2012,      0.2022,      0.2032,      0.2042,     0.20521,     0.20621,     0.20721,     0.20821,     0.20921,     0.21021,     0.21121,     0.21221,     0.21321,     0.21421,     0.21522,\n",
      "           0.21622,     0.21722,     0.21822,     0.21922,     0.22022,     0.22122,     0.22222,     0.22322,     0.22422,     0.22523,     0.22623,     0.22723,     0.22823,     0.22923,     0.23023,     0.23123,     0.23223,     0.23323,     0.23423,     0.23524,     0.23624,     0.23724,     0.23824,     0.23924,\n",
      "           0.24024,     0.24124,     0.24224,     0.24324,     0.24424,     0.24525,     0.24625,     0.24725,     0.24825,     0.24925,     0.25025,     0.25125,     0.25225,     0.25325,     0.25425,     0.25526,     0.25626,     0.25726,     0.25826,     0.25926,     0.26026,     0.26126,     0.26226,     0.26326,\n",
      "           0.26426,     0.26527,     0.26627,     0.26727,     0.26827,     0.26927,     0.27027,     0.27127,     0.27227,     0.27327,     0.27427,     0.27528,     0.27628,     0.27728,     0.27828,     0.27928,     0.28028,     0.28128,     0.28228,     0.28328,     0.28428,     0.28529,     0.28629,     0.28729,\n",
      "           0.28829,     0.28929,     0.29029,     0.29129,     0.29229,     0.29329,     0.29429,      0.2953,      0.2963,      0.2973,      0.2983,      0.2993,      0.3003,      0.3013,      0.3023,      0.3033,      0.3043,     0.30531,     0.30631,     0.30731,     0.30831,     0.30931,     0.31031,     0.31131,\n",
      "           0.31231,     0.31331,     0.31431,     0.31532,     0.31632,     0.31732,     0.31832,     0.31932,     0.32032,     0.32132,     0.32232,     0.32332,     0.32432,     0.32533,     0.32633,     0.32733,     0.32833,     0.32933,     0.33033,     0.33133,     0.33233,     0.33333,     0.33433,     0.33534,\n",
      "           0.33634,     0.33734,     0.33834,     0.33934,     0.34034,     0.34134,     0.34234,     0.34334,     0.34434,     0.34535,     0.34635,     0.34735,     0.34835,     0.34935,     0.35035,     0.35135,     0.35235,     0.35335,     0.35435,     0.35536,     0.35636,     0.35736,     0.35836,     0.35936,\n",
      "           0.36036,     0.36136,     0.36236,     0.36336,     0.36436,     0.36537,     0.36637,     0.36737,     0.36837,     0.36937,     0.37037,     0.37137,     0.37237,     0.37337,     0.37437,     0.37538,     0.37638,     0.37738,     0.37838,     0.37938,     0.38038,     0.38138,     0.38238,     0.38338,\n",
      "           0.38438,     0.38539,     0.38639,     0.38739,     0.38839,     0.38939,     0.39039,     0.39139,     0.39239,     0.39339,     0.39439,      0.3954,      0.3964,      0.3974,      0.3984,      0.3994,      0.4004,      0.4014,      0.4024,      0.4034,      0.4044,     0.40541,     0.40641,     0.40741,\n",
      "           0.40841,     0.40941,     0.41041,     0.41141,     0.41241,     0.41341,     0.41441,     0.41542,     0.41642,     0.41742,     0.41842,     0.41942,     0.42042,     0.42142,     0.42242,     0.42342,     0.42442,     0.42543,     0.42643,     0.42743,     0.42843,     0.42943,     0.43043,     0.43143,\n",
      "           0.43243,     0.43343,     0.43443,     0.43544,     0.43644,     0.43744,     0.43844,     0.43944,     0.44044,     0.44144,     0.44244,     0.44344,     0.44444,     0.44545,     0.44645,     0.44745,     0.44845,     0.44945,     0.45045,     0.45145,     0.45245,     0.45345,     0.45445,     0.45546,\n",
      "           0.45646,     0.45746,     0.45846,     0.45946,     0.46046,     0.46146,     0.46246,     0.46346,     0.46446,     0.46547,     0.46647,     0.46747,     0.46847,     0.46947,     0.47047,     0.47147,     0.47247,     0.47347,     0.47447,     0.47548,     0.47648,     0.47748,     0.47848,     0.47948,\n",
      "           0.48048,     0.48148,     0.48248,     0.48348,     0.48448,     0.48549,     0.48649,     0.48749,     0.48849,     0.48949,     0.49049,     0.49149,     0.49249,     0.49349,     0.49449,      0.4955,      0.4965,      0.4975,      0.4985,      0.4995,      0.5005,      0.5015,      0.5025,      0.5035,\n",
      "            0.5045,     0.50551,     0.50651,     0.50751,     0.50851,     0.50951,     0.51051,     0.51151,     0.51251,     0.51351,     0.51451,     0.51552,     0.51652,     0.51752,     0.51852,     0.51952,     0.52052,     0.52152,     0.52252,     0.52352,     0.52452,     0.52553,     0.52653,     0.52753,\n",
      "           0.52853,     0.52953,     0.53053,     0.53153,     0.53253,     0.53353,     0.53453,     0.53554,     0.53654,     0.53754,     0.53854,     0.53954,     0.54054,     0.54154,     0.54254,     0.54354,     0.54454,     0.54555,     0.54655,     0.54755,     0.54855,     0.54955,     0.55055,     0.55155,\n",
      "           0.55255,     0.55355,     0.55455,     0.55556,     0.55656,     0.55756,     0.55856,     0.55956,     0.56056,     0.56156,     0.56256,     0.56356,     0.56456,     0.56557,     0.56657,     0.56757,     0.56857,     0.56957,     0.57057,     0.57157,     0.57257,     0.57357,     0.57457,     0.57558,\n",
      "           0.57658,     0.57758,     0.57858,     0.57958,     0.58058,     0.58158,     0.58258,     0.58358,     0.58458,     0.58559,     0.58659,     0.58759,     0.58859,     0.58959,     0.59059,     0.59159,     0.59259,     0.59359,     0.59459,      0.5956,      0.5966,      0.5976,      0.5986,      0.5996,\n",
      "            0.6006,      0.6016,      0.6026,      0.6036,      0.6046,     0.60561,     0.60661,     0.60761,     0.60861,     0.60961,     0.61061,     0.61161,     0.61261,     0.61361,     0.61461,     0.61562,     0.61662,     0.61762,     0.61862,     0.61962,     0.62062,     0.62162,     0.62262,     0.62362,\n",
      "           0.62462,     0.62563,     0.62663,     0.62763,     0.62863,     0.62963,     0.63063,     0.63163,     0.63263,     0.63363,     0.63463,     0.63564,     0.63664,     0.63764,     0.63864,     0.63964,     0.64064,     0.64164,     0.64264,     0.64364,     0.64464,     0.64565,     0.64665,     0.64765,\n",
      "           0.64865,     0.64965,     0.65065,     0.65165,     0.65265,     0.65365,     0.65465,     0.65566,     0.65666,     0.65766,     0.65866,     0.65966,     0.66066,     0.66166,     0.66266,     0.66366,     0.66466,     0.66567,     0.66667,     0.66767,     0.66867,     0.66967,     0.67067,     0.67167,\n",
      "           0.67267,     0.67367,     0.67467,     0.67568,     0.67668,     0.67768,     0.67868,     0.67968,     0.68068,     0.68168,     0.68268,     0.68368,     0.68468,     0.68569,     0.68669,     0.68769,     0.68869,     0.68969,     0.69069,     0.69169,     0.69269,     0.69369,     0.69469,      0.6957,\n",
      "            0.6967,      0.6977,      0.6987,      0.6997,      0.7007,      0.7017,      0.7027,      0.7037,      0.7047,     0.70571,     0.70671,     0.70771,     0.70871,     0.70971,     0.71071,     0.71171,     0.71271,     0.71371,     0.71471,     0.71572,     0.71672,     0.71772,     0.71872,     0.71972,\n",
      "           0.72072,     0.72172,     0.72272,     0.72372,     0.72472,     0.72573,     0.72673,     0.72773,     0.72873,     0.72973,     0.73073,     0.73173,     0.73273,     0.73373,     0.73473,     0.73574,     0.73674,     0.73774,     0.73874,     0.73974,     0.74074,     0.74174,     0.74274,     0.74374,\n",
      "           0.74474,     0.74575,     0.74675,     0.74775,     0.74875,     0.74975,     0.75075,     0.75175,     0.75275,     0.75375,     0.75475,     0.75576,     0.75676,     0.75776,     0.75876,     0.75976,     0.76076,     0.76176,     0.76276,     0.76376,     0.76476,     0.76577,     0.76677,     0.76777,\n",
      "           0.76877,     0.76977,     0.77077,     0.77177,     0.77277,     0.77377,     0.77477,     0.77578,     0.77678,     0.77778,     0.77878,     0.77978,     0.78078,     0.78178,     0.78278,     0.78378,     0.78478,     0.78579,     0.78679,     0.78779,     0.78879,     0.78979,     0.79079,     0.79179,\n",
      "           0.79279,     0.79379,     0.79479,      0.7958,      0.7968,      0.7978,      0.7988,      0.7998,      0.8008,      0.8018,      0.8028,      0.8038,      0.8048,     0.80581,     0.80681,     0.80781,     0.80881,     0.80981,     0.81081,     0.81181,     0.81281,     0.81381,     0.81481,     0.81582,\n",
      "           0.81682,     0.81782,     0.81882,     0.81982,     0.82082,     0.82182,     0.82282,     0.82382,     0.82482,     0.82583,     0.82683,     0.82783,     0.82883,     0.82983,     0.83083,     0.83183,     0.83283,     0.83383,     0.83483,     0.83584,     0.83684,     0.83784,     0.83884,     0.83984,\n",
      "           0.84084,     0.84184,     0.84284,     0.84384,     0.84484,     0.84585,     0.84685,     0.84785,     0.84885,     0.84985,     0.85085,     0.85185,     0.85285,     0.85385,     0.85485,     0.85586,     0.85686,     0.85786,     0.85886,     0.85986,     0.86086,     0.86186,     0.86286,     0.86386,\n",
      "           0.86486,     0.86587,     0.86687,     0.86787,     0.86887,     0.86987,     0.87087,     0.87187,     0.87287,     0.87387,     0.87487,     0.87588,     0.87688,     0.87788,     0.87888,     0.87988,     0.88088,     0.88188,     0.88288,     0.88388,     0.88488,     0.88589,     0.88689,     0.88789,\n",
      "           0.88889,     0.88989,     0.89089,     0.89189,     0.89289,     0.89389,     0.89489,      0.8959,      0.8969,      0.8979,      0.8989,      0.8999,      0.9009,      0.9019,      0.9029,      0.9039,      0.9049,     0.90591,     0.90691,     0.90791,     0.90891,     0.90991,     0.91091,     0.91191,\n",
      "           0.91291,     0.91391,     0.91491,     0.91592,     0.91692,     0.91792,     0.91892,     0.91992,     0.92092,     0.92192,     0.92292,     0.92392,     0.92492,     0.92593,     0.92693,     0.92793,     0.92893,     0.92993,     0.93093,     0.93193,     0.93293,     0.93393,     0.93493,     0.93594,\n",
      "           0.93694,     0.93794,     0.93894,     0.93994,     0.94094,     0.94194,     0.94294,     0.94394,     0.94494,     0.94595,     0.94695,     0.94795,     0.94895,     0.94995,     0.95095,     0.95195,     0.95295,     0.95395,     0.95495,     0.95596,     0.95696,     0.95796,     0.95896,     0.95996,\n",
      "           0.96096,     0.96196,     0.96296,     0.96396,     0.96496,     0.96597,     0.96697,     0.96797,     0.96897,     0.96997,     0.97097,     0.97197,     0.97297,     0.97397,     0.97497,     0.97598,     0.97698,     0.97798,     0.97898,     0.97998,     0.98098,     0.98198,     0.98298,     0.98398,\n",
      "           0.98498,     0.98599,     0.98699,     0.98799,     0.98899,     0.98999,     0.99099,     0.99199,     0.99299,     0.99399,     0.99499,       0.996,       0.997,       0.998,       0.999,           1]), array([[      0.825,       0.825,         0.8, ...,           0,           0,           0],\n",
      "       [          1,           1,           1, ...,           0,           0,           0],\n",
      "       [          1,           1,           1, ...,           0,           0,           0],\n",
      "       ...,\n",
      "       [    0.81159,     0.81159,     0.78261, ...,           0,           0,           0],\n",
      "       [          1,           1,           1, ...,           0,           0,           0],\n",
      "       [    0.85882,     0.85882,     0.85882, ...,           0,           0,           0]]), 'Confidence', 'Recall']]\n",
      "fitness: 0.6695701396240035\n",
      "keys: ['metrics/precision(B)', 'metrics/recall(B)', 'metrics/mAP50(B)', 'metrics/mAP50-95(B)']\n",
      "maps: array([    0.43909,     0.74629,     0.72371,     0.79451,     0.69546,     0.66943,     0.79963,     0.40454,     0.87694,     0.44467,     0.88182,      0.8955,     0.69974,     0.48905,     0.86442,     0.57094,     0.43823,     0.35858,     0.72371,     0.47357])\n",
      "names: {0: 'Creeper', 1: 'Enderman', 2: 'Fox', 3: 'Mooshroom', 4: 'Ocelot', 5: 'Panda', 6: 'Polar Bear', 7: 'Skeleton', 8: 'Slime', 9: 'Spider', 10: 'Witch', 11: 'Wither Skeleton', 12: 'Wolf', 13: 'Zombie', 14: 'Zombified Piglin', 15: 'bee', 16: 'chicken', 17: 'cow', 18: 'iron golem', 19: 'pig'}\n",
      "plot: True\n",
      "results_dict: {'metrics/precision(B)': 0.9159768779456134, 'metrics/recall(B)': 0.7851292799822874, 'metrics/mAP50(B)': 0.8502798860462146, 'metrics/mAP50-95(B)': 0.6494912789104245, 'fitness': 0.6695701396240035}\n",
      "save_dir: WindowsPath('runs/detect/train352')\n",
      "speed: {'preprocess': 0.43683954543005465, 'inference': 3.6214872727214242, 'loss': 0.0011036363916487476, 'postprocess': 0.6728586363516859}\n",
      "task: 'detect'\n",
      "\n"
     ]
    },
    {
     "ename": "FileNotFoundError",
     "evalue": "path/to/test/image.jpg does not exist",
     "output_type": "error",
     "traceback": [
      "\u001b[1;31m---------------------------------------------------------------------------\u001b[0m",
      "\u001b[1;31mFileNotFoundError\u001b[0m                         Traceback (most recent call last)",
      "Cell \u001b[1;32mIn[10], line 25\u001b[0m\n\u001b[0;32m     22\u001b[0m \u001b[38;5;28mprint\u001b[39m(metrics)\n\u001b[0;32m     24\u001b[0m \u001b[38;5;66;03m# Predict using the model\u001b[39;00m\n\u001b[1;32m---> 25\u001b[0m results \u001b[38;5;241m=\u001b[39m model\u001b[38;5;241m.\u001b[39mpredict(source\u001b[38;5;241m=\u001b[39m\u001b[38;5;124m\"\u001b[39m\u001b[38;5;124mpath/to/test/image.jpg\u001b[39m\u001b[38;5;124m\"\u001b[39m, save\u001b[38;5;241m=\u001b[39m\u001b[38;5;28;01mTrue\u001b[39;00m)\n\u001b[0;32m     27\u001b[0m \u001b[38;5;66;03m# Display prediction results\u001b[39;00m\n\u001b[0;32m     28\u001b[0m \u001b[38;5;28;01mfor\u001b[39;00m result \u001b[38;5;129;01min\u001b[39;00m results:\n",
      "File \u001b[1;32mc:\\Users\\pc\\anaconda3\\Lib\\site-packages\\ultralytics\\engine\\model.py:550\u001b[0m, in \u001b[0;36mModel.predict\u001b[1;34m(self, source, stream, predictor, **kwargs)\u001b[0m\n\u001b[0;32m    548\u001b[0m \u001b[38;5;28;01mif\u001b[39;00m prompts \u001b[38;5;129;01mand\u001b[39;00m \u001b[38;5;28mhasattr\u001b[39m(\u001b[38;5;28mself\u001b[39m\u001b[38;5;241m.\u001b[39mpredictor, \u001b[38;5;124m\"\u001b[39m\u001b[38;5;124mset_prompts\u001b[39m\u001b[38;5;124m\"\u001b[39m):  \u001b[38;5;66;03m# for SAM-type models\u001b[39;00m\n\u001b[0;32m    549\u001b[0m     \u001b[38;5;28mself\u001b[39m\u001b[38;5;241m.\u001b[39mpredictor\u001b[38;5;241m.\u001b[39mset_prompts(prompts)\n\u001b[1;32m--> 550\u001b[0m \u001b[38;5;28;01mreturn\u001b[39;00m \u001b[38;5;28mself\u001b[39m\u001b[38;5;241m.\u001b[39mpredictor\u001b[38;5;241m.\u001b[39mpredict_cli(source\u001b[38;5;241m=\u001b[39msource) \u001b[38;5;28;01mif\u001b[39;00m is_cli \u001b[38;5;28;01melse\u001b[39;00m \u001b[38;5;28mself\u001b[39m\u001b[38;5;241m.\u001b[39mpredictor(source\u001b[38;5;241m=\u001b[39msource, stream\u001b[38;5;241m=\u001b[39mstream)\n",
      "File \u001b[1;32mc:\\Users\\pc\\anaconda3\\Lib\\site-packages\\ultralytics\\engine\\predictor.py:214\u001b[0m, in \u001b[0;36mBasePredictor.__call__\u001b[1;34m(self, source, model, stream, *args, **kwargs)\u001b[0m\n\u001b[0;32m    212\u001b[0m     \u001b[38;5;28;01mreturn\u001b[39;00m \u001b[38;5;28mself\u001b[39m\u001b[38;5;241m.\u001b[39mstream_inference(source, model, \u001b[38;5;241m*\u001b[39margs, \u001b[38;5;241m*\u001b[39m\u001b[38;5;241m*\u001b[39mkwargs)\n\u001b[0;32m    213\u001b[0m \u001b[38;5;28;01melse\u001b[39;00m:\n\u001b[1;32m--> 214\u001b[0m     \u001b[38;5;28;01mreturn\u001b[39;00m \u001b[38;5;28mlist\u001b[39m(\u001b[38;5;28mself\u001b[39m\u001b[38;5;241m.\u001b[39mstream_inference(source, model, \u001b[38;5;241m*\u001b[39margs, \u001b[38;5;241m*\u001b[39m\u001b[38;5;241m*\u001b[39mkwargs))\n",
      "File \u001b[1;32mc:\\Users\\pc\\anaconda3\\Lib\\site-packages\\torch\\utils\\_contextlib.py:36\u001b[0m, in \u001b[0;36m_wrap_generator.<locals>.generator_context\u001b[1;34m(*args, **kwargs)\u001b[0m\n\u001b[0;32m     33\u001b[0m \u001b[38;5;28;01mtry\u001b[39;00m:\n\u001b[0;32m     34\u001b[0m     \u001b[38;5;66;03m# Issuing `None` to a generator fires it up\u001b[39;00m\n\u001b[0;32m     35\u001b[0m     \u001b[38;5;28;01mwith\u001b[39;00m ctx_factory():\n\u001b[1;32m---> 36\u001b[0m         response \u001b[38;5;241m=\u001b[39m gen\u001b[38;5;241m.\u001b[39msend(\u001b[38;5;28;01mNone\u001b[39;00m)\n\u001b[0;32m     38\u001b[0m     \u001b[38;5;28;01mwhile\u001b[39;00m \u001b[38;5;28;01mTrue\u001b[39;00m:\n\u001b[0;32m     39\u001b[0m         \u001b[38;5;28;01mtry\u001b[39;00m:\n\u001b[0;32m     40\u001b[0m             \u001b[38;5;66;03m# Forward the response to our caller and get its next request\u001b[39;00m\n",
      "File \u001b[1;32mc:\\Users\\pc\\anaconda3\\Lib\\site-packages\\ultralytics\\engine\\predictor.py:295\u001b[0m, in \u001b[0;36mBasePredictor.stream_inference\u001b[1;34m(self, source, model, *args, **kwargs)\u001b[0m\n\u001b[0;32m    291\u001b[0m     \u001b[38;5;28mself\u001b[39m\u001b[38;5;241m.\u001b[39msetup_model(model)\n\u001b[0;32m    293\u001b[0m \u001b[38;5;28;01mwith\u001b[39;00m \u001b[38;5;28mself\u001b[39m\u001b[38;5;241m.\u001b[39m_lock:  \u001b[38;5;66;03m# for thread-safe inference\u001b[39;00m\n\u001b[0;32m    294\u001b[0m     \u001b[38;5;66;03m# Setup source every time predict is called\u001b[39;00m\n\u001b[1;32m--> 295\u001b[0m     \u001b[38;5;28mself\u001b[39m\u001b[38;5;241m.\u001b[39msetup_source(source \u001b[38;5;28;01mif\u001b[39;00m source \u001b[38;5;129;01mis\u001b[39;00m \u001b[38;5;129;01mnot\u001b[39;00m \u001b[38;5;28;01mNone\u001b[39;00m \u001b[38;5;28;01melse\u001b[39;00m \u001b[38;5;28mself\u001b[39m\u001b[38;5;241m.\u001b[39margs\u001b[38;5;241m.\u001b[39msource)\n\u001b[0;32m    297\u001b[0m     \u001b[38;5;66;03m# Check if save_dir/ label file exists\u001b[39;00m\n\u001b[0;32m    298\u001b[0m     \u001b[38;5;28;01mif\u001b[39;00m \u001b[38;5;28mself\u001b[39m\u001b[38;5;241m.\u001b[39margs\u001b[38;5;241m.\u001b[39msave \u001b[38;5;129;01mor\u001b[39;00m \u001b[38;5;28mself\u001b[39m\u001b[38;5;241m.\u001b[39margs\u001b[38;5;241m.\u001b[39msave_txt:\n",
      "File \u001b[1;32mc:\\Users\\pc\\anaconda3\\Lib\\site-packages\\ultralytics\\engine\\predictor.py:255\u001b[0m, in \u001b[0;36mBasePredictor.setup_source\u001b[1;34m(self, source)\u001b[0m\n\u001b[0;32m    245\u001b[0m \u001b[38;5;28mself\u001b[39m\u001b[38;5;241m.\u001b[39mimgsz \u001b[38;5;241m=\u001b[39m check_imgsz(\u001b[38;5;28mself\u001b[39m\u001b[38;5;241m.\u001b[39margs\u001b[38;5;241m.\u001b[39mimgsz, stride\u001b[38;5;241m=\u001b[39m\u001b[38;5;28mself\u001b[39m\u001b[38;5;241m.\u001b[39mmodel\u001b[38;5;241m.\u001b[39mstride, min_dim\u001b[38;5;241m=\u001b[39m\u001b[38;5;241m2\u001b[39m)  \u001b[38;5;66;03m# check image size\u001b[39;00m\n\u001b[0;32m    246\u001b[0m \u001b[38;5;28mself\u001b[39m\u001b[38;5;241m.\u001b[39mtransforms \u001b[38;5;241m=\u001b[39m (\n\u001b[0;32m    247\u001b[0m     \u001b[38;5;28mgetattr\u001b[39m(\n\u001b[0;32m    248\u001b[0m         \u001b[38;5;28mself\u001b[39m\u001b[38;5;241m.\u001b[39mmodel\u001b[38;5;241m.\u001b[39mmodel,\n\u001b[1;32m   (...)\u001b[0m\n\u001b[0;32m    253\u001b[0m     \u001b[38;5;28;01melse\u001b[39;00m \u001b[38;5;28;01mNone\u001b[39;00m\n\u001b[0;32m    254\u001b[0m )\n\u001b[1;32m--> 255\u001b[0m \u001b[38;5;28mself\u001b[39m\u001b[38;5;241m.\u001b[39mdataset \u001b[38;5;241m=\u001b[39m load_inference_source(\n\u001b[0;32m    256\u001b[0m     source\u001b[38;5;241m=\u001b[39msource,\n\u001b[0;32m    257\u001b[0m     batch\u001b[38;5;241m=\u001b[39m\u001b[38;5;28mself\u001b[39m\u001b[38;5;241m.\u001b[39margs\u001b[38;5;241m.\u001b[39mbatch,\n\u001b[0;32m    258\u001b[0m     vid_stride\u001b[38;5;241m=\u001b[39m\u001b[38;5;28mself\u001b[39m\u001b[38;5;241m.\u001b[39margs\u001b[38;5;241m.\u001b[39mvid_stride,\n\u001b[0;32m    259\u001b[0m     buffer\u001b[38;5;241m=\u001b[39m\u001b[38;5;28mself\u001b[39m\u001b[38;5;241m.\u001b[39margs\u001b[38;5;241m.\u001b[39mstream_buffer,\n\u001b[0;32m    260\u001b[0m )\n\u001b[0;32m    261\u001b[0m \u001b[38;5;28mself\u001b[39m\u001b[38;5;241m.\u001b[39msource_type \u001b[38;5;241m=\u001b[39m \u001b[38;5;28mself\u001b[39m\u001b[38;5;241m.\u001b[39mdataset\u001b[38;5;241m.\u001b[39msource_type\n\u001b[0;32m    262\u001b[0m \u001b[38;5;28;01mif\u001b[39;00m \u001b[38;5;129;01mnot\u001b[39;00m \u001b[38;5;28mgetattr\u001b[39m(\u001b[38;5;28mself\u001b[39m, \u001b[38;5;124m\"\u001b[39m\u001b[38;5;124mstream\u001b[39m\u001b[38;5;124m\"\u001b[39m, \u001b[38;5;28;01mTrue\u001b[39;00m) \u001b[38;5;129;01mand\u001b[39;00m (\n\u001b[0;32m    263\u001b[0m     \u001b[38;5;28mself\u001b[39m\u001b[38;5;241m.\u001b[39msource_type\u001b[38;5;241m.\u001b[39mstream\n\u001b[0;32m    264\u001b[0m     \u001b[38;5;129;01mor\u001b[39;00m \u001b[38;5;28mself\u001b[39m\u001b[38;5;241m.\u001b[39msource_type\u001b[38;5;241m.\u001b[39mscreenshot\n\u001b[0;32m    265\u001b[0m     \u001b[38;5;129;01mor\u001b[39;00m \u001b[38;5;28mlen\u001b[39m(\u001b[38;5;28mself\u001b[39m\u001b[38;5;241m.\u001b[39mdataset) \u001b[38;5;241m>\u001b[39m \u001b[38;5;241m1000\u001b[39m  \u001b[38;5;66;03m# many images\u001b[39;00m\n\u001b[0;32m    266\u001b[0m     \u001b[38;5;129;01mor\u001b[39;00m \u001b[38;5;28many\u001b[39m(\u001b[38;5;28mgetattr\u001b[39m(\u001b[38;5;28mself\u001b[39m\u001b[38;5;241m.\u001b[39mdataset, \u001b[38;5;124m\"\u001b[39m\u001b[38;5;124mvideo_flag\u001b[39m\u001b[38;5;124m\"\u001b[39m, [\u001b[38;5;28;01mFalse\u001b[39;00m]))\n\u001b[0;32m    267\u001b[0m ):  \u001b[38;5;66;03m# videos\u001b[39;00m\n",
      "File \u001b[1;32mc:\\Users\\pc\\anaconda3\\Lib\\site-packages\\ultralytics\\data\\build.py:253\u001b[0m, in \u001b[0;36mload_inference_source\u001b[1;34m(source, batch, vid_stride, buffer)\u001b[0m\n\u001b[0;32m    251\u001b[0m     dataset \u001b[38;5;241m=\u001b[39m LoadPilAndNumpy(source)\n\u001b[0;32m    252\u001b[0m \u001b[38;5;28;01melse\u001b[39;00m:\n\u001b[1;32m--> 253\u001b[0m     dataset \u001b[38;5;241m=\u001b[39m LoadImagesAndVideos(source, batch\u001b[38;5;241m=\u001b[39mbatch, vid_stride\u001b[38;5;241m=\u001b[39mvid_stride)\n\u001b[0;32m    255\u001b[0m \u001b[38;5;66;03m# Attach source types to the dataset\u001b[39;00m\n\u001b[0;32m    256\u001b[0m \u001b[38;5;28msetattr\u001b[39m(dataset, \u001b[38;5;124m\"\u001b[39m\u001b[38;5;124msource_type\u001b[39m\u001b[38;5;124m\"\u001b[39m, source_type)\n",
      "File \u001b[1;32mc:\\Users\\pc\\anaconda3\\Lib\\site-packages\\ultralytics\\data\\loaders.py:342\u001b[0m, in \u001b[0;36mLoadImagesAndVideos.__init__\u001b[1;34m(self, path, batch, vid_stride)\u001b[0m\n\u001b[0;32m    340\u001b[0m         files\u001b[38;5;241m.\u001b[39mappend(\u001b[38;5;28mstr\u001b[39m((parent \u001b[38;5;241m/\u001b[39m p)\u001b[38;5;241m.\u001b[39mabsolute()))  \u001b[38;5;66;03m# files (relative to *.txt file parent)\u001b[39;00m\n\u001b[0;32m    341\u001b[0m     \u001b[38;5;28;01melse\u001b[39;00m:\n\u001b[1;32m--> 342\u001b[0m         \u001b[38;5;28;01mraise\u001b[39;00m \u001b[38;5;167;01mFileNotFoundError\u001b[39;00m(\u001b[38;5;124mf\u001b[39m\u001b[38;5;124m\"\u001b[39m\u001b[38;5;132;01m{\u001b[39;00mp\u001b[38;5;132;01m}\u001b[39;00m\u001b[38;5;124m does not exist\u001b[39m\u001b[38;5;124m\"\u001b[39m)\n\u001b[0;32m    344\u001b[0m \u001b[38;5;66;03m# Define files as images or videos\u001b[39;00m\n\u001b[0;32m    345\u001b[0m images, videos \u001b[38;5;241m=\u001b[39m [], []\n",
      "\u001b[1;31mFileNotFoundError\u001b[0m: path/to/test/image.jpg does not exist"
     ]
    }
   ],
   "source": [
    "from ultralytics import YOLO\n",
    "\n",
    "# Load the YOLOv8 model (you can change to your trained model)\n",
    "model = YOLO(\"yolov8n.pt\")  # Use \"runs/detect/train3/weights/best.pt\" for your trained model\n",
    "\n",
    "# Train the model\n",
    "model.train(\n",
    "    data=f\"{dataset_path}/data.yaml\",\n",
    "    epochs=100,\n",
    "    imgsz=640,\n",
    "    batch=16,\n",
    "    project=\"runs/detect\",\n",
    "    name=\"train3\",\n",
    "    save=True\n",
    ")\n",
    "\n",
    "# Validate the model\n",
    "metrics = model.val()\n",
    "\n",
    "# Print the metrics\n",
    "print(\"Validation Results:\")\n",
    "print(metrics)\n"
   ]
  },
  {
   "cell_type": "code",
   "execution_count": 16,
   "metadata": {},
   "outputs": [
    {
     "name": "stdout",
     "output_type": "stream",
     "text": [
      "Processing c:\\Users\\pc\\OneDrive\\Documents\\Code\\MinecraftPorject\\mob-4\\test\\images\\2023-10-18_11-07-52_png.rf.399ff9a5ee57dcf9e7872a1c0f12bd0e.jpg...\n",
      "\n",
      "image 1/1 c:\\Users\\pc\\OneDrive\\Documents\\Code\\MinecraftPorject\\mob-4\\test\\images\\2023-10-18_11-07-52_png.rf.399ff9a5ee57dcf9e7872a1c0f12bd0e.jpg: 640x640 1 pig, 3.3ms\n",
      "Speed: 1.5ms preprocess, 3.3ms inference, 0.9ms postprocess per image at shape (1, 3, 640, 640)\n",
      "Results saved to \u001b[1mruns\\detect\\predict\u001b[0m\n",
      "Detected classes: {0: 'Creeper', 1: 'Enderman', 2: 'Fox', 3: 'Mooshroom', 4: 'Ocelot', 5: 'Panda', 6: 'Polar Bear', 7: 'Skeleton', 8: 'Slime', 9: 'Spider', 10: 'Witch', 11: 'Wither Skeleton', 12: 'Wolf', 13: 'Zombie', 14: 'Zombified Piglin', 15: 'bee', 16: 'chicken', 17: 'cow', 18: 'iron golem', 19: 'pig'}\n",
      "Bounding boxes (xyxy): tensor([[291.1913, 284.8312, 302.9765, 305.6390]], device='cuda:0')\n",
      "----------------------------------------\n",
      "Processing c:\\Users\\pc\\OneDrive\\Documents\\Code\\MinecraftPorject\\mob-4\\test\\images\\2023-10-18_11-08-54_png.rf.d207821b79bd52bbf568217f890dc108.jpg...\n",
      "\n",
      "image 1/1 c:\\Users\\pc\\OneDrive\\Documents\\Code\\MinecraftPorject\\mob-4\\test\\images\\2023-10-18_11-08-54_png.rf.d207821b79bd52bbf568217f890dc108.jpg: 640x640 (no detections), 5.3ms\n",
      "Speed: 1.9ms preprocess, 5.3ms inference, 0.4ms postprocess per image at shape (1, 3, 640, 640)\n",
      "Results saved to \u001b[1mruns\\detect\\predict\u001b[0m\n",
      "Detected classes: {0: 'Creeper', 1: 'Enderman', 2: 'Fox', 3: 'Mooshroom', 4: 'Ocelot', 5: 'Panda', 6: 'Polar Bear', 7: 'Skeleton', 8: 'Slime', 9: 'Spider', 10: 'Witch', 11: 'Wither Skeleton', 12: 'Wolf', 13: 'Zombie', 14: 'Zombified Piglin', 15: 'bee', 16: 'chicken', 17: 'cow', 18: 'iron golem', 19: 'pig'}\n",
      "Bounding boxes (xyxy): tensor([], device='cuda:0', size=(0, 4))\n",
      "----------------------------------------\n",
      "Processing c:\\Users\\pc\\OneDrive\\Documents\\Code\\MinecraftPorject\\mob-4\\test\\images\\2023-10-18_11-09-15_png.rf.801fbc86616431d0508a6cdba85854d5.jpg...\n",
      "\n",
      "image 1/1 c:\\Users\\pc\\OneDrive\\Documents\\Code\\MinecraftPorject\\mob-4\\test\\images\\2023-10-18_11-09-15_png.rf.801fbc86616431d0508a6cdba85854d5.jpg: 640x640 (no detections), 4.7ms\n",
      "Speed: 1.7ms preprocess, 4.7ms inference, 0.4ms postprocess per image at shape (1, 3, 640, 640)\n",
      "Results saved to \u001b[1mruns\\detect\\predict\u001b[0m\n",
      "Detected classes: {0: 'Creeper', 1: 'Enderman', 2: 'Fox', 3: 'Mooshroom', 4: 'Ocelot', 5: 'Panda', 6: 'Polar Bear', 7: 'Skeleton', 8: 'Slime', 9: 'Spider', 10: 'Witch', 11: 'Wither Skeleton', 12: 'Wolf', 13: 'Zombie', 14: 'Zombified Piglin', 15: 'bee', 16: 'chicken', 17: 'cow', 18: 'iron golem', 19: 'pig'}\n",
      "Bounding boxes (xyxy): tensor([], device='cuda:0', size=(0, 4))\n",
      "----------------------------------------\n",
      "Processing c:\\Users\\pc\\OneDrive\\Documents\\Code\\MinecraftPorject\\mob-4\\test\\images\\2023-10-18_11-10-56_png.rf.7c6c34eaf866276eac7802fd78bc4684.jpg...\n",
      "\n",
      "image 1/1 c:\\Users\\pc\\OneDrive\\Documents\\Code\\MinecraftPorject\\mob-4\\test\\images\\2023-10-18_11-10-56_png.rf.7c6c34eaf866276eac7802fd78bc4684.jpg: 640x640 2 chickens, 5.2ms\n",
      "Speed: 1.6ms preprocess, 5.2ms inference, 1.1ms postprocess per image at shape (1, 3, 640, 640)\n",
      "Results saved to \u001b[1mruns\\detect\\predict\u001b[0m\n",
      "Detected classes: {0: 'Creeper', 1: 'Enderman', 2: 'Fox', 3: 'Mooshroom', 4: 'Ocelot', 5: 'Panda', 6: 'Polar Bear', 7: 'Skeleton', 8: 'Slime', 9: 'Spider', 10: 'Witch', 11: 'Wither Skeleton', 12: 'Wolf', 13: 'Zombie', 14: 'Zombified Piglin', 15: 'bee', 16: 'chicken', 17: 'cow', 18: 'iron golem', 19: 'pig'}\n",
      "Bounding boxes (xyxy): tensor([[244.7069, 202.8811, 260.4043, 227.5741],\n",
      "        [244.6786, 202.5505, 262.4789, 234.6543]], device='cuda:0')\n",
      "----------------------------------------\n",
      "Processing c:\\Users\\pc\\OneDrive\\Documents\\Code\\MinecraftPorject\\mob-4\\test\\images\\2023-10-18_11-16-03_png.rf.41c5da721afbcbfe294ab675ad5ac7b4.jpg...\n",
      "\n",
      "image 1/1 c:\\Users\\pc\\OneDrive\\Documents\\Code\\MinecraftPorject\\mob-4\\test\\images\\2023-10-18_11-16-03_png.rf.41c5da721afbcbfe294ab675ad5ac7b4.jpg: 640x640 1 Creeper, 3.6ms\n",
      "Speed: 1.6ms preprocess, 3.6ms inference, 1.2ms postprocess per image at shape (1, 3, 640, 640)\n",
      "Results saved to \u001b[1mruns\\detect\\predict\u001b[0m\n",
      "Detected classes: {0: 'Creeper', 1: 'Enderman', 2: 'Fox', 3: 'Mooshroom', 4: 'Ocelot', 5: 'Panda', 6: 'Polar Bear', 7: 'Skeleton', 8: 'Slime', 9: 'Spider', 10: 'Witch', 11: 'Wither Skeleton', 12: 'Wolf', 13: 'Zombie', 14: 'Zombified Piglin', 15: 'bee', 16: 'chicken', 17: 'cow', 18: 'iron golem', 19: 'pig'}\n",
      "Bounding boxes (xyxy): tensor([[253.2364, 208.9509, 323.0686, 464.1665]], device='cuda:0')\n",
      "----------------------------------------\n",
      "Processing c:\\Users\\pc\\OneDrive\\Documents\\Code\\MinecraftPorject\\mob-4\\test\\images\\2023-10-18_11-16-28_png.rf.318dd45097aca1427be81adc06021e6d.jpg...\n",
      "\n",
      "image 1/1 c:\\Users\\pc\\OneDrive\\Documents\\Code\\MinecraftPorject\\mob-4\\test\\images\\2023-10-18_11-16-28_png.rf.318dd45097aca1427be81adc06021e6d.jpg: 640x640 5 Creepers, 1 cow, 1 pig, 3.6ms\n",
      "Speed: 1.6ms preprocess, 3.6ms inference, 1.0ms postprocess per image at shape (1, 3, 640, 640)\n",
      "Results saved to \u001b[1mruns\\detect\\predict\u001b[0m\n",
      "Detected classes: {0: 'Creeper', 1: 'Enderman', 2: 'Fox', 3: 'Mooshroom', 4: 'Ocelot', 5: 'Panda', 6: 'Polar Bear', 7: 'Skeleton', 8: 'Slime', 9: 'Spider', 10: 'Witch', 11: 'Wither Skeleton', 12: 'Wolf', 13: 'Zombie', 14: 'Zombified Piglin', 15: 'bee', 16: 'chicken', 17: 'cow', 18: 'iron golem', 19: 'pig'}\n",
      "Bounding boxes (xyxy): tensor([[385.3151, 239.5329, 404.5376, 300.5977],\n",
      "        [417.4978, 112.0650, 430.8208, 130.7744],\n",
      "        [218.0327, 309.8452, 244.6387, 379.4660],\n",
      "        [345.4629, 197.1946, 360.3041, 240.1545],\n",
      "        [411.5972, 232.8583, 425.1755, 270.4791],\n",
      "        [388.1786, 131.0273, 398.3240, 146.9647],\n",
      "        [324.2270, 203.4104, 339.2762, 247.7533]], device='cuda:0')\n",
      "----------------------------------------\n",
      "Processing c:\\Users\\pc\\OneDrive\\Documents\\Code\\MinecraftPorject\\mob-4\\test\\images\\2023-10-18_12-41-01_png.rf.af0e2e3635c7f2fa7f0a580b95056a49.jpg...\n",
      "\n",
      "image 1/1 c:\\Users\\pc\\OneDrive\\Documents\\Code\\MinecraftPorject\\mob-4\\test\\images\\2023-10-18_12-41-01_png.rf.af0e2e3635c7f2fa7f0a580b95056a49.jpg: 640x640 1 chicken, 1 cow, 3.0ms\n",
      "Speed: 1.6ms preprocess, 3.0ms inference, 0.8ms postprocess per image at shape (1, 3, 640, 640)\n",
      "Results saved to \u001b[1mruns\\detect\\predict\u001b[0m\n",
      "Detected classes: {0: 'Creeper', 1: 'Enderman', 2: 'Fox', 3: 'Mooshroom', 4: 'Ocelot', 5: 'Panda', 6: 'Polar Bear', 7: 'Skeleton', 8: 'Slime', 9: 'Spider', 10: 'Witch', 11: 'Wither Skeleton', 12: 'Wolf', 13: 'Zombie', 14: 'Zombified Piglin', 15: 'bee', 16: 'chicken', 17: 'cow', 18: 'iron golem', 19: 'pig'}\n",
      "Bounding boxes (xyxy): tensor([[228.8470, 210.2276, 258.0197, 278.0539],\n",
      "        [392.5246, 345.1000, 421.3188, 409.7511]], device='cuda:0')\n",
      "----------------------------------------\n",
      "Processing c:\\Users\\pc\\OneDrive\\Documents\\Code\\MinecraftPorject\\mob-4\\test\\images\\2023-11-01_18-31-27_png.rf.c4b28cc33e074e2dc56770b73e11e347.jpg...\n",
      "\n",
      "image 1/1 c:\\Users\\pc\\OneDrive\\Documents\\Code\\MinecraftPorject\\mob-4\\test\\images\\2023-11-01_18-31-27_png.rf.c4b28cc33e074e2dc56770b73e11e347.jpg: 640x640 1 bee, 3.9ms\n",
      "Speed: 1.5ms preprocess, 3.9ms inference, 0.9ms postprocess per image at shape (1, 3, 640, 640)\n",
      "Results saved to \u001b[1mruns\\detect\\predict\u001b[0m\n",
      "Detected classes: {0: 'Creeper', 1: 'Enderman', 2: 'Fox', 3: 'Mooshroom', 4: 'Ocelot', 5: 'Panda', 6: 'Polar Bear', 7: 'Skeleton', 8: 'Slime', 9: 'Spider', 10: 'Witch', 11: 'Wither Skeleton', 12: 'Wolf', 13: 'Zombie', 14: 'Zombified Piglin', 15: 'bee', 16: 'chicken', 17: 'cow', 18: 'iron golem', 19: 'pig'}\n",
      "Bounding boxes (xyxy): tensor([[235.8216, 149.7892, 415.3413, 376.7170]], device='cuda:0')\n",
      "----------------------------------------\n",
      "Processing c:\\Users\\pc\\OneDrive\\Documents\\Code\\MinecraftPorject\\mob-4\\test\\images\\2023-11-01_18-32-42_png.rf.010ad4204bbd806ebdaf379bf2e915ea.jpg...\n",
      "\n",
      "image 1/1 c:\\Users\\pc\\OneDrive\\Documents\\Code\\MinecraftPorject\\mob-4\\test\\images\\2023-11-01_18-32-42_png.rf.010ad4204bbd806ebdaf379bf2e915ea.jpg: 640x640 (no detections), 5.0ms\n",
      "Speed: 1.9ms preprocess, 5.0ms inference, 0.6ms postprocess per image at shape (1, 3, 640, 640)\n",
      "Results saved to \u001b[1mruns\\detect\\predict\u001b[0m\n",
      "Detected classes: {0: 'Creeper', 1: 'Enderman', 2: 'Fox', 3: 'Mooshroom', 4: 'Ocelot', 5: 'Panda', 6: 'Polar Bear', 7: 'Skeleton', 8: 'Slime', 9: 'Spider', 10: 'Witch', 11: 'Wither Skeleton', 12: 'Wolf', 13: 'Zombie', 14: 'Zombified Piglin', 15: 'bee', 16: 'chicken', 17: 'cow', 18: 'iron golem', 19: 'pig'}\n",
      "Bounding boxes (xyxy): tensor([], device='cuda:0', size=(0, 4))\n",
      "----------------------------------------\n",
      "Processing c:\\Users\\pc\\OneDrive\\Documents\\Code\\MinecraftPorject\\mob-4\\test\\images\\2023-11-01_18-33-16_png.rf.86d03617c22bc158293afead0ef715c7.jpg...\n",
      "\n",
      "image 1/1 c:\\Users\\pc\\OneDrive\\Documents\\Code\\MinecraftPorject\\mob-4\\test\\images\\2023-11-01_18-33-16_png.rf.86d03617c22bc158293afead0ef715c7.jpg: 640x640 1 Polar Bear, 5.1ms\n",
      "Speed: 1.6ms preprocess, 5.1ms inference, 1.0ms postprocess per image at shape (1, 3, 640, 640)\n",
      "Results saved to \u001b[1mruns\\detect\\predict\u001b[0m\n",
      "Detected classes: {0: 'Creeper', 1: 'Enderman', 2: 'Fox', 3: 'Mooshroom', 4: 'Ocelot', 5: 'Panda', 6: 'Polar Bear', 7: 'Skeleton', 8: 'Slime', 9: 'Spider', 10: 'Witch', 11: 'Wither Skeleton', 12: 'Wolf', 13: 'Zombie', 14: 'Zombified Piglin', 15: 'bee', 16: 'chicken', 17: 'cow', 18: 'iron golem', 19: 'pig'}\n",
      "Bounding boxes (xyxy): tensor([[237.4570,  57.2811, 567.5442, 513.3667]], device='cuda:0')\n",
      "----------------------------------------\n",
      "Processing c:\\Users\\pc\\OneDrive\\Documents\\Code\\MinecraftPorject\\mob-4\\test\\images\\2023-11-02_21-10-31_png.rf.52a069920c8003ecba850f29b403c442.jpg...\n",
      "\n",
      "image 1/1 c:\\Users\\pc\\OneDrive\\Documents\\Code\\MinecraftPorject\\mob-4\\test\\images\\2023-11-02_21-10-31_png.rf.52a069920c8003ecba850f29b403c442.jpg: 640x640 (no detections), 4.6ms\n",
      "Speed: 2.3ms preprocess, 4.6ms inference, 0.5ms postprocess per image at shape (1, 3, 640, 640)\n",
      "Results saved to \u001b[1mruns\\detect\\predict\u001b[0m\n",
      "Detected classes: {0: 'Creeper', 1: 'Enderman', 2: 'Fox', 3: 'Mooshroom', 4: 'Ocelot', 5: 'Panda', 6: 'Polar Bear', 7: 'Skeleton', 8: 'Slime', 9: 'Spider', 10: 'Witch', 11: 'Wither Skeleton', 12: 'Wolf', 13: 'Zombie', 14: 'Zombified Piglin', 15: 'bee', 16: 'chicken', 17: 'cow', 18: 'iron golem', 19: 'pig'}\n",
      "Bounding boxes (xyxy): tensor([], device='cuda:0', size=(0, 4))\n",
      "----------------------------------------\n",
      "Processing c:\\Users\\pc\\OneDrive\\Documents\\Code\\MinecraftPorject\\mob-4\\test\\images\\2023-11-02_21-11-15_png.rf.1ea4739ac2abdf76dbdc8af325530958.jpg...\n",
      "\n",
      "image 1/1 c:\\Users\\pc\\OneDrive\\Documents\\Code\\MinecraftPorject\\mob-4\\test\\images\\2023-11-02_21-11-15_png.rf.1ea4739ac2abdf76dbdc8af325530958.jpg: 640x640 2 cows, 1 pig, 5.1ms\n",
      "Speed: 1.7ms preprocess, 5.1ms inference, 0.8ms postprocess per image at shape (1, 3, 640, 640)\n",
      "Results saved to \u001b[1mruns\\detect\\predict\u001b[0m\n",
      "Detected classes: {0: 'Creeper', 1: 'Enderman', 2: 'Fox', 3: 'Mooshroom', 4: 'Ocelot', 5: 'Panda', 6: 'Polar Bear', 7: 'Skeleton', 8: 'Slime', 9: 'Spider', 10: 'Witch', 11: 'Wither Skeleton', 12: 'Wolf', 13: 'Zombie', 14: 'Zombified Piglin', 15: 'bee', 16: 'chicken', 17: 'cow', 18: 'iron golem', 19: 'pig'}\n",
      "Bounding boxes (xyxy): tensor([[340.2720,  44.2985, 350.1093,  63.3206],\n",
      "        [230.3924, 569.3446, 250.2212, 594.1213],\n",
      "        [327.5676,  50.9608, 337.6484,  66.7033]], device='cuda:0')\n",
      "----------------------------------------\n",
      "Processing c:\\Users\\pc\\OneDrive\\Documents\\Code\\MinecraftPorject\\mob-4\\test\\images\\2023-11-02_21-12-24_png.rf.bc5567d55f079fc3e5e2b56fbb010794.jpg...\n",
      "\n",
      "image 1/1 c:\\Users\\pc\\OneDrive\\Documents\\Code\\MinecraftPorject\\mob-4\\test\\images\\2023-11-02_21-12-24_png.rf.bc5567d55f079fc3e5e2b56fbb010794.jpg: 640x640 (no detections), 4.5ms\n",
      "Speed: 1.5ms preprocess, 4.5ms inference, 0.6ms postprocess per image at shape (1, 3, 640, 640)\n",
      "Results saved to \u001b[1mruns\\detect\\predict\u001b[0m\n",
      "Detected classes: {0: 'Creeper', 1: 'Enderman', 2: 'Fox', 3: 'Mooshroom', 4: 'Ocelot', 5: 'Panda', 6: 'Polar Bear', 7: 'Skeleton', 8: 'Slime', 9: 'Spider', 10: 'Witch', 11: 'Wither Skeleton', 12: 'Wolf', 13: 'Zombie', 14: 'Zombified Piglin', 15: 'bee', 16: 'chicken', 17: 'cow', 18: 'iron golem', 19: 'pig'}\n",
      "Bounding boxes (xyxy): tensor([], device='cuda:0', size=(0, 4))\n",
      "----------------------------------------\n",
      "Processing c:\\Users\\pc\\OneDrive\\Documents\\Code\\MinecraftPorject\\mob-4\\test\\images\\2023-11-02_21-15-50_png.rf.27477ec0b535eadcda2c99a903acd17c.jpg...\n",
      "\n",
      "image 1/1 c:\\Users\\pc\\OneDrive\\Documents\\Code\\MinecraftPorject\\mob-4\\test\\images\\2023-11-02_21-15-50_png.rf.27477ec0b535eadcda2c99a903acd17c.jpg: 640x640 (no detections), 4.0ms\n",
      "Speed: 1.6ms preprocess, 4.0ms inference, 1.5ms postprocess per image at shape (1, 3, 640, 640)\n",
      "Results saved to \u001b[1mruns\\detect\\predict\u001b[0m\n",
      "Detected classes: {0: 'Creeper', 1: 'Enderman', 2: 'Fox', 3: 'Mooshroom', 4: 'Ocelot', 5: 'Panda', 6: 'Polar Bear', 7: 'Skeleton', 8: 'Slime', 9: 'Spider', 10: 'Witch', 11: 'Wither Skeleton', 12: 'Wolf', 13: 'Zombie', 14: 'Zombified Piglin', 15: 'bee', 16: 'chicken', 17: 'cow', 18: 'iron golem', 19: 'pig'}\n",
      "Bounding boxes (xyxy): tensor([], device='cuda:0', size=(0, 4))\n",
      "----------------------------------------\n",
      "Processing c:\\Users\\pc\\OneDrive\\Documents\\Code\\MinecraftPorject\\mob-4\\test\\images\\2023-11-02_21-16-13_png.rf.31191da2db7eaa9b8c7625f1a01fb128.jpg...\n",
      "\n",
      "image 1/1 c:\\Users\\pc\\OneDrive\\Documents\\Code\\MinecraftPorject\\mob-4\\test\\images\\2023-11-02_21-16-13_png.rf.31191da2db7eaa9b8c7625f1a01fb128.jpg: 640x640 1 bee, 2 cows, 5.8ms\n",
      "Speed: 1.6ms preprocess, 5.8ms inference, 1.0ms postprocess per image at shape (1, 3, 640, 640)\n",
      "Results saved to \u001b[1mruns\\detect\\predict\u001b[0m\n",
      "Detected classes: {0: 'Creeper', 1: 'Enderman', 2: 'Fox', 3: 'Mooshroom', 4: 'Ocelot', 5: 'Panda', 6: 'Polar Bear', 7: 'Skeleton', 8: 'Slime', 9: 'Spider', 10: 'Witch', 11: 'Wither Skeleton', 12: 'Wolf', 13: 'Zombie', 14: 'Zombified Piglin', 15: 'bee', 16: 'chicken', 17: 'cow', 18: 'iron golem', 19: 'pig'}\n",
      "Bounding boxes (xyxy): tensor([[6.0706e+02, 0.0000e+00, 6.4000e+02, 5.0543e+01],\n",
      "        [3.8049e+02, 0.0000e+00, 4.2136e+02, 2.7148e+01],\n",
      "        [2.1826e+02, 2.5633e-02, 2.7010e+02, 3.0615e+01]], device='cuda:0')\n",
      "----------------------------------------\n",
      "Processing c:\\Users\\pc\\OneDrive\\Documents\\Code\\MinecraftPorject\\mob-4\\test\\images\\2023-11-02_21-17-59_png.rf.69d7be49f3b3857466e4782f837b7f5c.jpg...\n",
      "\n",
      "image 1/1 c:\\Users\\pc\\OneDrive\\Documents\\Code\\MinecraftPorject\\mob-4\\test\\images\\2023-11-02_21-17-59_png.rf.69d7be49f3b3857466e4782f837b7f5c.jpg: 640x640 (no detections), 5.1ms\n",
      "Speed: 1.9ms preprocess, 5.1ms inference, 0.7ms postprocess per image at shape (1, 3, 640, 640)\n",
      "Results saved to \u001b[1mruns\\detect\\predict\u001b[0m\n",
      "Detected classes: {0: 'Creeper', 1: 'Enderman', 2: 'Fox', 3: 'Mooshroom', 4: 'Ocelot', 5: 'Panda', 6: 'Polar Bear', 7: 'Skeleton', 8: 'Slime', 9: 'Spider', 10: 'Witch', 11: 'Wither Skeleton', 12: 'Wolf', 13: 'Zombie', 14: 'Zombified Piglin', 15: 'bee', 16: 'chicken', 17: 'cow', 18: 'iron golem', 19: 'pig'}\n",
      "Bounding boxes (xyxy): tensor([], device='cuda:0', size=(0, 4))\n",
      "----------------------------------------\n",
      "Processing c:\\Users\\pc\\OneDrive\\Documents\\Code\\MinecraftPorject\\mob-4\\test\\images\\2023-11-02_21-20-23_png.rf.2bbcdd5a8d988a54755ff1c7f097dea1.jpg...\n",
      "\n",
      "image 1/1 c:\\Users\\pc\\OneDrive\\Documents\\Code\\MinecraftPorject\\mob-4\\test\\images\\2023-11-02_21-20-23_png.rf.2bbcdd5a8d988a54755ff1c7f097dea1.jpg: 640x640 1 Fox, 4.0ms\n",
      "Speed: 1.8ms preprocess, 4.0ms inference, 0.9ms postprocess per image at shape (1, 3, 640, 640)\n",
      "Results saved to \u001b[1mruns\\detect\\predict\u001b[0m\n",
      "Detected classes: {0: 'Creeper', 1: 'Enderman', 2: 'Fox', 3: 'Mooshroom', 4: 'Ocelot', 5: 'Panda', 6: 'Polar Bear', 7: 'Skeleton', 8: 'Slime', 9: 'Spider', 10: 'Witch', 11: 'Wither Skeleton', 12: 'Wolf', 13: 'Zombie', 14: 'Zombified Piglin', 15: 'bee', 16: 'chicken', 17: 'cow', 18: 'iron golem', 19: 'pig'}\n",
      "Bounding boxes (xyxy): tensor([[226.5272, 277.6593, 337.3741, 484.0983]], device='cuda:0')\n",
      "----------------------------------------\n",
      "Processing c:\\Users\\pc\\OneDrive\\Documents\\Code\\MinecraftPorject\\mob-4\\test\\images\\2023-11-02_21-22-33_png.rf.f0c46c0dbc6fee142f64c8d4848d65cb.jpg...\n",
      "\n",
      "image 1/1 c:\\Users\\pc\\OneDrive\\Documents\\Code\\MinecraftPorject\\mob-4\\test\\images\\2023-11-02_21-22-33_png.rf.f0c46c0dbc6fee142f64c8d4848d65cb.jpg: 640x640 (no detections), 5.7ms\n",
      "Speed: 1.8ms preprocess, 5.7ms inference, 0.5ms postprocess per image at shape (1, 3, 640, 640)\n",
      "Results saved to \u001b[1mruns\\detect\\predict\u001b[0m\n",
      "Detected classes: {0: 'Creeper', 1: 'Enderman', 2: 'Fox', 3: 'Mooshroom', 4: 'Ocelot', 5: 'Panda', 6: 'Polar Bear', 7: 'Skeleton', 8: 'Slime', 9: 'Spider', 10: 'Witch', 11: 'Wither Skeleton', 12: 'Wolf', 13: 'Zombie', 14: 'Zombified Piglin', 15: 'bee', 16: 'chicken', 17: 'cow', 18: 'iron golem', 19: 'pig'}\n",
      "Bounding boxes (xyxy): tensor([], device='cuda:0', size=(0, 4))\n",
      "----------------------------------------\n",
      "Processing c:\\Users\\pc\\OneDrive\\Documents\\Code\\MinecraftPorject\\mob-4\\test\\images\\2023-11-02_21-22-37_png.rf.7818ca5cba4b5f102691938b053b44b7.jpg...\n",
      "\n",
      "image 1/1 c:\\Users\\pc\\OneDrive\\Documents\\Code\\MinecraftPorject\\mob-4\\test\\images\\2023-11-02_21-22-37_png.rf.7818ca5cba4b5f102691938b053b44b7.jpg: 640x640 (no detections), 4.9ms\n",
      "Speed: 1.6ms preprocess, 4.9ms inference, 0.4ms postprocess per image at shape (1, 3, 640, 640)\n",
      "Results saved to \u001b[1mruns\\detect\\predict\u001b[0m\n",
      "Detected classes: {0: 'Creeper', 1: 'Enderman', 2: 'Fox', 3: 'Mooshroom', 4: 'Ocelot', 5: 'Panda', 6: 'Polar Bear', 7: 'Skeleton', 8: 'Slime', 9: 'Spider', 10: 'Witch', 11: 'Wither Skeleton', 12: 'Wolf', 13: 'Zombie', 14: 'Zombified Piglin', 15: 'bee', 16: 'chicken', 17: 'cow', 18: 'iron golem', 19: 'pig'}\n",
      "Bounding boxes (xyxy): tensor([], device='cuda:0', size=(0, 4))\n",
      "----------------------------------------\n",
      "Processing c:\\Users\\pc\\OneDrive\\Documents\\Code\\MinecraftPorject\\mob-4\\test\\images\\2023-11-02_21-22-50_png.rf.a440dff875e3359d4f8963345ff8d9a6.jpg...\n",
      "\n",
      "image 1/1 c:\\Users\\pc\\OneDrive\\Documents\\Code\\MinecraftPorject\\mob-4\\test\\images\\2023-11-02_21-22-50_png.rf.a440dff875e3359d4f8963345ff8d9a6.jpg: 640x640 (no detections), 5.4ms\n",
      "Speed: 1.7ms preprocess, 5.4ms inference, 0.4ms postprocess per image at shape (1, 3, 640, 640)\n",
      "Results saved to \u001b[1mruns\\detect\\predict\u001b[0m\n",
      "Detected classes: {0: 'Creeper', 1: 'Enderman', 2: 'Fox', 3: 'Mooshroom', 4: 'Ocelot', 5: 'Panda', 6: 'Polar Bear', 7: 'Skeleton', 8: 'Slime', 9: 'Spider', 10: 'Witch', 11: 'Wither Skeleton', 12: 'Wolf', 13: 'Zombie', 14: 'Zombified Piglin', 15: 'bee', 16: 'chicken', 17: 'cow', 18: 'iron golem', 19: 'pig'}\n",
      "Bounding boxes (xyxy): tensor([], device='cuda:0', size=(0, 4))\n",
      "----------------------------------------\n",
      "Processing c:\\Users\\pc\\OneDrive\\Documents\\Code\\MinecraftPorject\\mob-4\\test\\images\\2023-11-02_21-23-19_png.rf.94f3e7a1711796d9b6ce46b24da06760.jpg...\n",
      "\n",
      "image 1/1 c:\\Users\\pc\\OneDrive\\Documents\\Code\\MinecraftPorject\\mob-4\\test\\images\\2023-11-02_21-23-19_png.rf.94f3e7a1711796d9b6ce46b24da06760.jpg: 640x640 1 Fox, 5.6ms\n",
      "Speed: 1.8ms preprocess, 5.6ms inference, 2.5ms postprocess per image at shape (1, 3, 640, 640)\n",
      "Results saved to \u001b[1mruns\\detect\\predict\u001b[0m\n",
      "Detected classes: {0: 'Creeper', 1: 'Enderman', 2: 'Fox', 3: 'Mooshroom', 4: 'Ocelot', 5: 'Panda', 6: 'Polar Bear', 7: 'Skeleton', 8: 'Slime', 9: 'Spider', 10: 'Witch', 11: 'Wither Skeleton', 12: 'Wolf', 13: 'Zombie', 14: 'Zombified Piglin', 15: 'bee', 16: 'chicken', 17: 'cow', 18: 'iron golem', 19: 'pig'}\n",
      "Bounding boxes (xyxy): tensor([[205.6596, 225.4106, 368.7154, 448.3148]], device='cuda:0')\n",
      "----------------------------------------\n",
      "Processing c:\\Users\\pc\\OneDrive\\Documents\\Code\\MinecraftPorject\\mob-4\\test\\images\\2023-11-02_21-24-56_png.rf.ef920f98d9bc75ab7f2f83a69b6de1ec.jpg...\n",
      "\n",
      "image 1/1 c:\\Users\\pc\\OneDrive\\Documents\\Code\\MinecraftPorject\\mob-4\\test\\images\\2023-11-02_21-24-56_png.rf.ef920f98d9bc75ab7f2f83a69b6de1ec.jpg: 640x640 1 Fox, 1 Mooshroom, 6.0ms\n",
      "Speed: 1.8ms preprocess, 6.0ms inference, 1.9ms postprocess per image at shape (1, 3, 640, 640)\n",
      "Results saved to \u001b[1mruns\\detect\\predict\u001b[0m\n",
      "Detected classes: {0: 'Creeper', 1: 'Enderman', 2: 'Fox', 3: 'Mooshroom', 4: 'Ocelot', 5: 'Panda', 6: 'Polar Bear', 7: 'Skeleton', 8: 'Slime', 9: 'Spider', 10: 'Witch', 11: 'Wither Skeleton', 12: 'Wolf', 13: 'Zombie', 14: 'Zombified Piglin', 15: 'bee', 16: 'chicken', 17: 'cow', 18: 'iron golem', 19: 'pig'}\n",
      "Bounding boxes (xyxy): tensor([[171.7422, 211.3360, 289.8015, 448.2267],\n",
      "        [132.8329, 283.2713, 156.2804, 302.1037]], device='cuda:0')\n",
      "----------------------------------------\n",
      "Processing c:\\Users\\pc\\OneDrive\\Documents\\Code\\MinecraftPorject\\mob-4\\test\\images\\2023-11-02_21-26-13_png.rf.a408e0832e9966d43cd1a7ad8612c8f1.jpg...\n",
      "\n",
      "image 1/1 c:\\Users\\pc\\OneDrive\\Documents\\Code\\MinecraftPorject\\mob-4\\test\\images\\2023-11-02_21-26-13_png.rf.a408e0832e9966d43cd1a7ad8612c8f1.jpg: 640x640 (no detections), 4.8ms\n",
      "Speed: 1.6ms preprocess, 4.8ms inference, 0.4ms postprocess per image at shape (1, 3, 640, 640)\n",
      "Results saved to \u001b[1mruns\\detect\\predict\u001b[0m\n",
      "Detected classes: {0: 'Creeper', 1: 'Enderman', 2: 'Fox', 3: 'Mooshroom', 4: 'Ocelot', 5: 'Panda', 6: 'Polar Bear', 7: 'Skeleton', 8: 'Slime', 9: 'Spider', 10: 'Witch', 11: 'Wither Skeleton', 12: 'Wolf', 13: 'Zombie', 14: 'Zombified Piglin', 15: 'bee', 16: 'chicken', 17: 'cow', 18: 'iron golem', 19: 'pig'}\n",
      "Bounding boxes (xyxy): tensor([], device='cuda:0', size=(0, 4))\n",
      "----------------------------------------\n",
      "Processing c:\\Users\\pc\\OneDrive\\Documents\\Code\\MinecraftPorject\\mob-4\\test\\images\\2023-11-02_21-26-35_png.rf.6d727735b17a125f211cbc888912491c.jpg...\n",
      "\n",
      "image 1/1 c:\\Users\\pc\\OneDrive\\Documents\\Code\\MinecraftPorject\\mob-4\\test\\images\\2023-11-02_21-26-35_png.rf.6d727735b17a125f211cbc888912491c.jpg: 640x640 (no detections), 4.3ms\n",
      "Speed: 1.7ms preprocess, 4.3ms inference, 0.4ms postprocess per image at shape (1, 3, 640, 640)\n",
      "Results saved to \u001b[1mruns\\detect\\predict\u001b[0m\n",
      "Detected classes: {0: 'Creeper', 1: 'Enderman', 2: 'Fox', 3: 'Mooshroom', 4: 'Ocelot', 5: 'Panda', 6: 'Polar Bear', 7: 'Skeleton', 8: 'Slime', 9: 'Spider', 10: 'Witch', 11: 'Wither Skeleton', 12: 'Wolf', 13: 'Zombie', 14: 'Zombified Piglin', 15: 'bee', 16: 'chicken', 17: 'cow', 18: 'iron golem', 19: 'pig'}\n",
      "Bounding boxes (xyxy): tensor([], device='cuda:0', size=(0, 4))\n",
      "----------------------------------------\n",
      "Processing c:\\Users\\pc\\OneDrive\\Documents\\Code\\MinecraftPorject\\mob-4\\test\\images\\2023-11-02_21-27-03_png.rf.c9b225c882a4aaeef9111aa61681f05a.jpg...\n",
      "\n",
      "image 1/1 c:\\Users\\pc\\OneDrive\\Documents\\Code\\MinecraftPorject\\mob-4\\test\\images\\2023-11-02_21-27-03_png.rf.c9b225c882a4aaeef9111aa61681f05a.jpg: 640x640 (no detections), 5.0ms\n",
      "Speed: 1.6ms preprocess, 5.0ms inference, 0.4ms postprocess per image at shape (1, 3, 640, 640)\n",
      "Results saved to \u001b[1mruns\\detect\\predict\u001b[0m\n",
      "Detected classes: {0: 'Creeper', 1: 'Enderman', 2: 'Fox', 3: 'Mooshroom', 4: 'Ocelot', 5: 'Panda', 6: 'Polar Bear', 7: 'Skeleton', 8: 'Slime', 9: 'Spider', 10: 'Witch', 11: 'Wither Skeleton', 12: 'Wolf', 13: 'Zombie', 14: 'Zombified Piglin', 15: 'bee', 16: 'chicken', 17: 'cow', 18: 'iron golem', 19: 'pig'}\n",
      "Bounding boxes (xyxy): tensor([], device='cuda:0', size=(0, 4))\n",
      "----------------------------------------\n",
      "Processing c:\\Users\\pc\\OneDrive\\Documents\\Code\\MinecraftPorject\\mob-4\\test\\images\\2023-11-04_14-54-20_png.rf.dd1aa43f3b4d155b6df3838f86ddbdcb.jpg...\n",
      "\n",
      "image 1/1 c:\\Users\\pc\\OneDrive\\Documents\\Code\\MinecraftPorject\\mob-4\\test\\images\\2023-11-04_14-54-20_png.rf.dd1aa43f3b4d155b6df3838f86ddbdcb.jpg: 640x640 2 pigs, 4.6ms\n",
      "Speed: 1.6ms preprocess, 4.6ms inference, 1.4ms postprocess per image at shape (1, 3, 640, 640)\n",
      "Results saved to \u001b[1mruns\\detect\\predict\u001b[0m\n",
      "Detected classes: {0: 'Creeper', 1: 'Enderman', 2: 'Fox', 3: 'Mooshroom', 4: 'Ocelot', 5: 'Panda', 6: 'Polar Bear', 7: 'Skeleton', 8: 'Slime', 9: 'Spider', 10: 'Witch', 11: 'Wither Skeleton', 12: 'Wolf', 13: 'Zombie', 14: 'Zombified Piglin', 15: 'bee', 16: 'chicken', 17: 'cow', 18: 'iron golem', 19: 'pig'}\n",
      "Bounding boxes (xyxy): tensor([[170.5647, 199.9063, 232.3877, 294.2349],\n",
      "        [384.0035, 223.1048, 491.2386, 369.1343]], device='cuda:0')\n",
      "----------------------------------------\n",
      "Processing c:\\Users\\pc\\OneDrive\\Documents\\Code\\MinecraftPorject\\mob-4\\test\\images\\2023-11-04_14-55-23_png.rf.5ad01e7d2c0e16201f55cc2d604d5ed6.jpg...\n",
      "\n",
      "image 1/1 c:\\Users\\pc\\OneDrive\\Documents\\Code\\MinecraftPorject\\mob-4\\test\\images\\2023-11-04_14-55-23_png.rf.5ad01e7d2c0e16201f55cc2d604d5ed6.jpg: 640x640 2 Foxs, 6.2ms\n",
      "Speed: 1.5ms preprocess, 6.2ms inference, 0.8ms postprocess per image at shape (1, 3, 640, 640)\n",
      "Results saved to \u001b[1mruns\\detect\\predict\u001b[0m\n",
      "Detected classes: {0: 'Creeper', 1: 'Enderman', 2: 'Fox', 3: 'Mooshroom', 4: 'Ocelot', 5: 'Panda', 6: 'Polar Bear', 7: 'Skeleton', 8: 'Slime', 9: 'Spider', 10: 'Witch', 11: 'Wither Skeleton', 12: 'Wolf', 13: 'Zombie', 14: 'Zombified Piglin', 15: 'bee', 16: 'chicken', 17: 'cow', 18: 'iron golem', 19: 'pig'}\n",
      "Bounding boxes (xyxy): tensor([[169.3842, 125.5739, 261.0883, 213.8107],\n",
      "        [304.5091, 312.3923, 442.8783, 601.8755]], device='cuda:0')\n",
      "----------------------------------------\n",
      "Processing c:\\Users\\pc\\OneDrive\\Documents\\Code\\MinecraftPorject\\mob-4\\test\\images\\2023-11-04_14-55-51_png.rf.f75abc83acee395c4b5575e771f57897.jpg...\n",
      "\n",
      "image 1/1 c:\\Users\\pc\\OneDrive\\Documents\\Code\\MinecraftPorject\\mob-4\\test\\images\\2023-11-04_14-55-51_png.rf.f75abc83acee395c4b5575e771f57897.jpg: 640x640 3 chickens, 3.0ms\n",
      "Speed: 1.6ms preprocess, 3.0ms inference, 0.8ms postprocess per image at shape (1, 3, 640, 640)\n",
      "Results saved to \u001b[1mruns\\detect\\predict\u001b[0m\n",
      "Detected classes: {0: 'Creeper', 1: 'Enderman', 2: 'Fox', 3: 'Mooshroom', 4: 'Ocelot', 5: 'Panda', 6: 'Polar Bear', 7: 'Skeleton', 8: 'Slime', 9: 'Spider', 10: 'Witch', 11: 'Wither Skeleton', 12: 'Wolf', 13: 'Zombie', 14: 'Zombified Piglin', 15: 'bee', 16: 'chicken', 17: 'cow', 18: 'iron golem', 19: 'pig'}\n",
      "Bounding boxes (xyxy): tensor([[243.4093, 309.8372, 288.2366, 409.1494],\n",
      "        [208.6291, 268.7670, 240.8336, 322.2065],\n",
      "        [356.9638, 247.9492, 428.1627, 353.0086]], device='cuda:0')\n",
      "----------------------------------------\n",
      "Processing c:\\Users\\pc\\OneDrive\\Documents\\Code\\MinecraftPorject\\mob-4\\test\\images\\2023-11-04_15-01-20_png.rf.2986866d3918b762e10cf780e1e4cb16.jpg...\n",
      "\n",
      "image 1/1 c:\\Users\\pc\\OneDrive\\Documents\\Code\\MinecraftPorject\\mob-4\\test\\images\\2023-11-04_15-01-20_png.rf.2986866d3918b762e10cf780e1e4cb16.jpg: 640x640 (no detections), 3.2ms\n",
      "Speed: 1.6ms preprocess, 3.2ms inference, 0.8ms postprocess per image at shape (1, 3, 640, 640)\n",
      "Results saved to \u001b[1mruns\\detect\\predict\u001b[0m\n",
      "Detected classes: {0: 'Creeper', 1: 'Enderman', 2: 'Fox', 3: 'Mooshroom', 4: 'Ocelot', 5: 'Panda', 6: 'Polar Bear', 7: 'Skeleton', 8: 'Slime', 9: 'Spider', 10: 'Witch', 11: 'Wither Skeleton', 12: 'Wolf', 13: 'Zombie', 14: 'Zombified Piglin', 15: 'bee', 16: 'chicken', 17: 'cow', 18: 'iron golem', 19: 'pig'}\n",
      "Bounding boxes (xyxy): tensor([], device='cuda:0', size=(0, 4))\n",
      "----------------------------------------\n",
      "Processing c:\\Users\\pc\\OneDrive\\Documents\\Code\\MinecraftPorject\\mob-4\\test\\images\\2023-11-04_15-01-28_png.rf.90177b2c0bce879c51c3a570bb9f906e.jpg...\n",
      "\n",
      "image 1/1 c:\\Users\\pc\\OneDrive\\Documents\\Code\\MinecraftPorject\\mob-4\\test\\images\\2023-11-04_15-01-28_png.rf.90177b2c0bce879c51c3a570bb9f906e.jpg: 640x640 (no detections), 3.0ms\n",
      "Speed: 1.6ms preprocess, 3.0ms inference, 0.4ms postprocess per image at shape (1, 3, 640, 640)\n",
      "Results saved to \u001b[1mruns\\detect\\predict\u001b[0m\n",
      "Detected classes: {0: 'Creeper', 1: 'Enderman', 2: 'Fox', 3: 'Mooshroom', 4: 'Ocelot', 5: 'Panda', 6: 'Polar Bear', 7: 'Skeleton', 8: 'Slime', 9: 'Spider', 10: 'Witch', 11: 'Wither Skeleton', 12: 'Wolf', 13: 'Zombie', 14: 'Zombified Piglin', 15: 'bee', 16: 'chicken', 17: 'cow', 18: 'iron golem', 19: 'pig'}\n",
      "Bounding boxes (xyxy): tensor([], device='cuda:0', size=(0, 4))\n",
      "----------------------------------------\n",
      "Processing c:\\Users\\pc\\OneDrive\\Documents\\Code\\MinecraftPorject\\mob-4\\test\\images\\2023-11-04_15-02-37_png.rf.65b15ae1a50c0bc4c59a0ca5afd6e179.jpg...\n",
      "\n",
      "image 1/1 c:\\Users\\pc\\OneDrive\\Documents\\Code\\MinecraftPorject\\mob-4\\test\\images\\2023-11-04_15-02-37_png.rf.65b15ae1a50c0bc4c59a0ca5afd6e179.jpg: 640x640 (no detections), 3.1ms\n",
      "Speed: 1.7ms preprocess, 3.1ms inference, 0.4ms postprocess per image at shape (1, 3, 640, 640)\n",
      "Results saved to \u001b[1mruns\\detect\\predict\u001b[0m\n",
      "Detected classes: {0: 'Creeper', 1: 'Enderman', 2: 'Fox', 3: 'Mooshroom', 4: 'Ocelot', 5: 'Panda', 6: 'Polar Bear', 7: 'Skeleton', 8: 'Slime', 9: 'Spider', 10: 'Witch', 11: 'Wither Skeleton', 12: 'Wolf', 13: 'Zombie', 14: 'Zombified Piglin', 15: 'bee', 16: 'chicken', 17: 'cow', 18: 'iron golem', 19: 'pig'}\n",
      "Bounding boxes (xyxy): tensor([], device='cuda:0', size=(0, 4))\n",
      "----------------------------------------\n",
      "Processing c:\\Users\\pc\\OneDrive\\Documents\\Code\\MinecraftPorject\\mob-4\\test\\images\\2023-11-04_15-06-04_png.rf.4a324f4c1463e394c4815124d19c7b7f.jpg...\n",
      "\n",
      "image 1/1 c:\\Users\\pc\\OneDrive\\Documents\\Code\\MinecraftPorject\\mob-4\\test\\images\\2023-11-04_15-06-04_png.rf.4a324f4c1463e394c4815124d19c7b7f.jpg: 640x640 2 Polar Bears, 5.3ms\n",
      "Speed: 1.6ms preprocess, 5.3ms inference, 1.3ms postprocess per image at shape (1, 3, 640, 640)\n",
      "Results saved to \u001b[1mruns\\detect\\predict\u001b[0m\n",
      "Detected classes: {0: 'Creeper', 1: 'Enderman', 2: 'Fox', 3: 'Mooshroom', 4: 'Ocelot', 5: 'Panda', 6: 'Polar Bear', 7: 'Skeleton', 8: 'Slime', 9: 'Spider', 10: 'Witch', 11: 'Wither Skeleton', 12: 'Wolf', 13: 'Zombie', 14: 'Zombified Piglin', 15: 'bee', 16: 'chicken', 17: 'cow', 18: 'iron golem', 19: 'pig'}\n",
      "Bounding boxes (xyxy): tensor([[256.9273, 338.7004, 418.8197, 510.7117],\n",
      "        [329.7227, 267.5134, 360.0554, 301.8929]], device='cuda:0')\n",
      "----------------------------------------\n",
      "Processing c:\\Users\\pc\\OneDrive\\Documents\\Code\\MinecraftPorject\\mob-4\\test\\images\\2023-11-04_15-06-35_png.rf.9f68906500e87682d93b1958f6b73c1e.jpg...\n",
      "\n",
      "image 1/1 c:\\Users\\pc\\OneDrive\\Documents\\Code\\MinecraftPorject\\mob-4\\test\\images\\2023-11-04_15-06-35_png.rf.9f68906500e87682d93b1958f6b73c1e.jpg: 640x640 2 chickens, 2 cows, 4.2ms\n",
      "Speed: 1.6ms preprocess, 4.2ms inference, 0.9ms postprocess per image at shape (1, 3, 640, 640)\n",
      "Results saved to \u001b[1mruns\\detect\\predict\u001b[0m\n",
      "Detected classes: {0: 'Creeper', 1: 'Enderman', 2: 'Fox', 3: 'Mooshroom', 4: 'Ocelot', 5: 'Panda', 6: 'Polar Bear', 7: 'Skeleton', 8: 'Slime', 9: 'Spider', 10: 'Witch', 11: 'Wither Skeleton', 12: 'Wolf', 13: 'Zombie', 14: 'Zombified Piglin', 15: 'bee', 16: 'chicken', 17: 'cow', 18: 'iron golem', 19: 'pig'}\n",
      "Bounding boxes (xyxy): tensor([[339.3010, 242.3456, 451.1648, 458.9098],\n",
      "        [228.5375, 255.9396, 249.3899, 286.9959],\n",
      "        [160.7851, 258.5211, 181.7526, 287.9843],\n",
      "        [481.2457,  86.3102, 554.7263, 209.7439]], device='cuda:0')\n",
      "----------------------------------------\n",
      "Processing c:\\Users\\pc\\OneDrive\\Documents\\Code\\MinecraftPorject\\mob-4\\test\\images\\2023-11-04_15-07-00_png.rf.2ba57c6e07033a09974c9a489c0584c5.jpg...\n",
      "\n",
      "image 1/1 c:\\Users\\pc\\OneDrive\\Documents\\Code\\MinecraftPorject\\mob-4\\test\\images\\2023-11-04_15-07-00_png.rf.2ba57c6e07033a09974c9a489c0584c5.jpg: 640x640 4 cows, 5.4ms\n",
      "Speed: 1.7ms preprocess, 5.4ms inference, 0.9ms postprocess per image at shape (1, 3, 640, 640)\n",
      "Results saved to \u001b[1mruns\\detect\\predict\u001b[0m\n",
      "Detected classes: {0: 'Creeper', 1: 'Enderman', 2: 'Fox', 3: 'Mooshroom', 4: 'Ocelot', 5: 'Panda', 6: 'Polar Bear', 7: 'Skeleton', 8: 'Slime', 9: 'Spider', 10: 'Witch', 11: 'Wither Skeleton', 12: 'Wolf', 13: 'Zombie', 14: 'Zombified Piglin', 15: 'bee', 16: 'chicken', 17: 'cow', 18: 'iron golem', 19: 'pig'}\n",
      "Bounding boxes (xyxy): tensor([[422.2300, 137.3245, 441.9727, 162.8166],\n",
      "        [401.2169,  95.1191, 410.9285, 112.7099],\n",
      "        [353.9781, 187.1930, 388.9384, 244.8515],\n",
      "        [447.1683, 108.7997, 458.7703, 129.7639]], device='cuda:0')\n",
      "----------------------------------------\n",
      "Processing c:\\Users\\pc\\OneDrive\\Documents\\Code\\MinecraftPorject\\mob-4\\test\\images\\2023-11-04_15-09-17_png.rf.2358644cf39743fb424efbc441f92332.jpg...\n",
      "\n",
      "image 1/1 c:\\Users\\pc\\OneDrive\\Documents\\Code\\MinecraftPorject\\mob-4\\test\\images\\2023-11-04_15-09-17_png.rf.2358644cf39743fb424efbc441f92332.jpg: 640x640 5 cows, 3.0ms\n",
      "Speed: 1.7ms preprocess, 3.0ms inference, 0.8ms postprocess per image at shape (1, 3, 640, 640)\n",
      "Results saved to \u001b[1mruns\\detect\\predict\u001b[0m\n",
      "Detected classes: {0: 'Creeper', 1: 'Enderman', 2: 'Fox', 3: 'Mooshroom', 4: 'Ocelot', 5: 'Panda', 6: 'Polar Bear', 7: 'Skeleton', 8: 'Slime', 9: 'Spider', 10: 'Witch', 11: 'Wither Skeleton', 12: 'Wolf', 13: 'Zombie', 14: 'Zombified Piglin', 15: 'bee', 16: 'chicken', 17: 'cow', 18: 'iron golem', 19: 'pig'}\n",
      "Bounding boxes (xyxy): tensor([[3.5244e+02, 2.6291e+02, 3.9525e+02, 3.2296e+02],\n",
      "        [2.6703e+02, 2.3239e+02, 3.0999e+02, 3.0427e+02],\n",
      "        [3.5108e+02, 3.2662e+02, 4.4895e+02, 4.6117e+02],\n",
      "        [3.1129e+02, 2.2367e+02, 3.3774e+02, 2.6832e+02],\n",
      "        [1.8313e+02, 2.5726e-02, 2.2542e+02, 3.3818e+01]], device='cuda:0')\n",
      "----------------------------------------\n",
      "Processing c:\\Users\\pc\\OneDrive\\Documents\\Code\\MinecraftPorject\\mob-4\\test\\images\\2023-11-04_15-09-23_png.rf.3bb50d7dcc7cba2707ee483e1b5610a1.jpg...\n",
      "\n",
      "image 1/1 c:\\Users\\pc\\OneDrive\\Documents\\Code\\MinecraftPorject\\mob-4\\test\\images\\2023-11-04_15-09-23_png.rf.3bb50d7dcc7cba2707ee483e1b5610a1.jpg: 640x640 1 cow, 3.5ms\n",
      "Speed: 1.8ms preprocess, 3.5ms inference, 1.0ms postprocess per image at shape (1, 3, 640, 640)\n",
      "Results saved to \u001b[1mruns\\detect\\predict\u001b[0m\n",
      "Detected classes: {0: 'Creeper', 1: 'Enderman', 2: 'Fox', 3: 'Mooshroom', 4: 'Ocelot', 5: 'Panda', 6: 'Polar Bear', 7: 'Skeleton', 8: 'Slime', 9: 'Spider', 10: 'Witch', 11: 'Wither Skeleton', 12: 'Wolf', 13: 'Zombie', 14: 'Zombified Piglin', 15: 'bee', 16: 'chicken', 17: 'cow', 18: 'iron golem', 19: 'pig'}\n",
      "Bounding boxes (xyxy): tensor([[329.0675, 212.1794, 439.8367, 286.3767]], device='cuda:0')\n",
      "----------------------------------------\n",
      "Processing c:\\Users\\pc\\OneDrive\\Documents\\Code\\MinecraftPorject\\mob-4\\test\\images\\2023-11-06_13-56-19_png.rf.f55d689595b9a1673be7265f58018f32.jpg...\n",
      "\n",
      "image 1/1 c:\\Users\\pc\\OneDrive\\Documents\\Code\\MinecraftPorject\\mob-4\\test\\images\\2023-11-06_13-56-19_png.rf.f55d689595b9a1673be7265f58018f32.jpg: 640x640 1 Skeleton, 3.1ms\n",
      "Speed: 1.8ms preprocess, 3.1ms inference, 2.1ms postprocess per image at shape (1, 3, 640, 640)\n",
      "Results saved to \u001b[1mruns\\detect\\predict\u001b[0m\n",
      "Detected classes: {0: 'Creeper', 1: 'Enderman', 2: 'Fox', 3: 'Mooshroom', 4: 'Ocelot', 5: 'Panda', 6: 'Polar Bear', 7: 'Skeleton', 8: 'Slime', 9: 'Spider', 10: 'Witch', 11: 'Wither Skeleton', 12: 'Wolf', 13: 'Zombie', 14: 'Zombified Piglin', 15: 'bee', 16: 'chicken', 17: 'cow', 18: 'iron golem', 19: 'pig'}\n",
      "Bounding boxes (xyxy): tensor([[283.8619, 257.7621, 334.5613, 421.7557]], device='cuda:0')\n",
      "----------------------------------------\n",
      "Processing c:\\Users\\pc\\OneDrive\\Documents\\Code\\MinecraftPorject\\mob-4\\test\\images\\2023-11-06_13-57-10_png.rf.fa8bb85ea69ab548971038390f67cfe9.jpg...\n",
      "\n",
      "image 1/1 c:\\Users\\pc\\OneDrive\\Documents\\Code\\MinecraftPorject\\mob-4\\test\\images\\2023-11-06_13-57-10_png.rf.fa8bb85ea69ab548971038390f67cfe9.jpg: 640x640 1 Creeper, 1 Zombie, 3.5ms\n",
      "Speed: 2.6ms preprocess, 3.5ms inference, 0.9ms postprocess per image at shape (1, 3, 640, 640)\n",
      "Results saved to \u001b[1mruns\\detect\\predict\u001b[0m\n",
      "Detected classes: {0: 'Creeper', 1: 'Enderman', 2: 'Fox', 3: 'Mooshroom', 4: 'Ocelot', 5: 'Panda', 6: 'Polar Bear', 7: 'Skeleton', 8: 'Slime', 9: 'Spider', 10: 'Witch', 11: 'Wither Skeleton', 12: 'Wolf', 13: 'Zombie', 14: 'Zombified Piglin', 15: 'bee', 16: 'chicken', 17: 'cow', 18: 'iron golem', 19: 'pig'}\n",
      "Bounding boxes (xyxy): tensor([[360.7390, 200.3121, 445.8311, 449.8517],\n",
      "        [310.9025, 188.3311, 351.4532, 286.7201]], device='cuda:0')\n",
      "----------------------------------------\n",
      "Processing c:\\Users\\pc\\OneDrive\\Documents\\Code\\MinecraftPorject\\mob-4\\test\\images\\2023-11-06_14-00-43_png.rf.2a8265b5408327e3e5ec2bd13722787e.jpg...\n",
      "\n",
      "image 1/1 c:\\Users\\pc\\OneDrive\\Documents\\Code\\MinecraftPorject\\mob-4\\test\\images\\2023-11-06_14-00-43_png.rf.2a8265b5408327e3e5ec2bd13722787e.jpg: 640x640 1 Skeleton, 3.1ms\n",
      "Speed: 1.6ms preprocess, 3.1ms inference, 0.8ms postprocess per image at shape (1, 3, 640, 640)\n",
      "Results saved to \u001b[1mruns\\detect\\predict\u001b[0m\n",
      "Detected classes: {0: 'Creeper', 1: 'Enderman', 2: 'Fox', 3: 'Mooshroom', 4: 'Ocelot', 5: 'Panda', 6: 'Polar Bear', 7: 'Skeleton', 8: 'Slime', 9: 'Spider', 10: 'Witch', 11: 'Wither Skeleton', 12: 'Wolf', 13: 'Zombie', 14: 'Zombified Piglin', 15: 'bee', 16: 'chicken', 17: 'cow', 18: 'iron golem', 19: 'pig'}\n",
      "Bounding boxes (xyxy): tensor([[255.8533, 142.1350, 363.8456, 465.3887]], device='cuda:0')\n",
      "----------------------------------------\n",
      "Processing c:\\Users\\pc\\OneDrive\\Documents\\Code\\MinecraftPorject\\mob-4\\test\\images\\2023-11-06_14-05-02_png.rf.51cd12c707fbd820f0ae28dbcbe61236.jpg...\n",
      "\n",
      "image 1/1 c:\\Users\\pc\\OneDrive\\Documents\\Code\\MinecraftPorject\\mob-4\\test\\images\\2023-11-06_14-05-02_png.rf.51cd12c707fbd820f0ae28dbcbe61236.jpg: 640x640 1 Ocelot, 1 Spider, 3.0ms\n",
      "Speed: 1.7ms preprocess, 3.0ms inference, 0.8ms postprocess per image at shape (1, 3, 640, 640)\n",
      "Results saved to \u001b[1mruns\\detect\\predict\u001b[0m\n",
      "Detected classes: {0: 'Creeper', 1: 'Enderman', 2: 'Fox', 3: 'Mooshroom', 4: 'Ocelot', 5: 'Panda', 6: 'Polar Bear', 7: 'Skeleton', 8: 'Slime', 9: 'Spider', 10: 'Witch', 11: 'Wither Skeleton', 12: 'Wolf', 13: 'Zombie', 14: 'Zombified Piglin', 15: 'bee', 16: 'chicken', 17: 'cow', 18: 'iron golem', 19: 'pig'}\n",
      "Bounding boxes (xyxy): tensor([[261.5250, 198.2526, 428.4213, 392.3993],\n",
      "        [ 83.3290, 371.1268, 156.1661, 478.0278]], device='cuda:0')\n",
      "----------------------------------------\n",
      "Processing c:\\Users\\pc\\OneDrive\\Documents\\Code\\MinecraftPorject\\mob-4\\test\\images\\2023-11-06_14-06-49_png.rf.a40e4f049f557a732b6b85e33df9c9a6.jpg...\n",
      "\n",
      "image 1/1 c:\\Users\\pc\\OneDrive\\Documents\\Code\\MinecraftPorject\\mob-4\\test\\images\\2023-11-06_14-06-49_png.rf.a40e4f049f557a732b6b85e33df9c9a6.jpg: 640x640 1 Creeper, 2 Skeletons, 1 Spider, 2 Zombies, 2 chickens, 2 pigs, 3.0ms\n",
      "Speed: 1.6ms preprocess, 3.0ms inference, 0.8ms postprocess per image at shape (1, 3, 640, 640)\n",
      "Results saved to \u001b[1mruns\\detect\\predict\u001b[0m\n",
      "Detected classes: {0: 'Creeper', 1: 'Enderman', 2: 'Fox', 3: 'Mooshroom', 4: 'Ocelot', 5: 'Panda', 6: 'Polar Bear', 7: 'Skeleton', 8: 'Slime', 9: 'Spider', 10: 'Witch', 11: 'Wither Skeleton', 12: 'Wolf', 13: 'Zombie', 14: 'Zombified Piglin', 15: 'bee', 16: 'chicken', 17: 'cow', 18: 'iron golem', 19: 'pig'}\n",
      "Bounding boxes (xyxy): tensor([[ 45.5301, 261.6172, 195.1141, 386.5870],\n",
      "        [396.0223, 118.3060, 520.5568, 475.6076],\n",
      "        [197.0037, 201.0686, 228.4322, 286.6380],\n",
      "        [ 91.5924, 191.1121, 107.4962, 232.7493],\n",
      "        [260.8832, 243.6685, 279.0805, 275.9393],\n",
      "        [260.5319, 243.0159, 287.7155, 278.2073],\n",
      "        [366.4232, 255.5547, 380.6321, 281.9050],\n",
      "        [503.5826, 194.7440, 515.7697, 222.5490],\n",
      "        [523.8672, 251.6463, 537.1394, 276.4585],\n",
      "        [371.6234, 254.8475, 382.7402, 280.8852]], device='cuda:0')\n",
      "----------------------------------------\n",
      "Processing c:\\Users\\pc\\OneDrive\\Documents\\Code\\MinecraftPorject\\mob-4\\test\\images\\2023-11-06_14-06-52_png.rf.f2905b29178e7bb3cbd97d9f792729cd.jpg...\n",
      "\n",
      "image 1/1 c:\\Users\\pc\\OneDrive\\Documents\\Code\\MinecraftPorject\\mob-4\\test\\images\\2023-11-06_14-06-52_png.rf.f2905b29178e7bb3cbd97d9f792729cd.jpg: 640x640 1 Creeper, 1 Skeleton, 3 Spiders, 4 Zombies, 1 pig, 3.3ms\n",
      "Speed: 1.7ms preprocess, 3.3ms inference, 1.0ms postprocess per image at shape (1, 3, 640, 640)\n",
      "Results saved to \u001b[1mruns\\detect\\predict\u001b[0m\n",
      "Detected classes: {0: 'Creeper', 1: 'Enderman', 2: 'Fox', 3: 'Mooshroom', 4: 'Ocelot', 5: 'Panda', 6: 'Polar Bear', 7: 'Skeleton', 8: 'Slime', 9: 'Spider', 10: 'Witch', 11: 'Wither Skeleton', 12: 'Wolf', 13: 'Zombie', 14: 'Zombified Piglin', 15: 'bee', 16: 'chicken', 17: 'cow', 18: 'iron golem', 19: 'pig'}\n",
      "Bounding boxes (xyxy): tensor([[225.8780, 251.7160, 289.1367, 435.2196],\n",
      "        [268.5486, 284.1675, 315.3475, 332.4491],\n",
      "        [392.2376, 309.0534, 425.8383, 360.1582],\n",
      "        [167.9732, 227.6564, 183.5139, 263.8464],\n",
      "        [376.0370, 281.6933, 391.5732, 313.0704],\n",
      "        [ 62.4701, 191.7170,  81.7668, 245.1412],\n",
      "        [319.2199, 261.7813, 331.9122, 286.5562],\n",
      "        [481.7058, 287.9153, 496.0862, 327.1369],\n",
      "        [297.0523, 255.1589, 312.6809, 272.7293],\n",
      "        [401.8462, 283.6696, 413.1364, 298.5673]], device='cuda:0')\n",
      "----------------------------------------\n",
      "Processing c:\\Users\\pc\\OneDrive\\Documents\\Code\\MinecraftPorject\\mob-4\\test\\images\\2023-11-06_14-07-20_png.rf.8d16b332623ef8ba9d6bd3a74b957640.jpg...\n",
      "\n",
      "image 1/1 c:\\Users\\pc\\OneDrive\\Documents\\Code\\MinecraftPorject\\mob-4\\test\\images\\2023-11-06_14-07-20_png.rf.8d16b332623ef8ba9d6bd3a74b957640.jpg: 640x640 1 Enderman, 4.9ms\n",
      "Speed: 1.6ms preprocess, 4.9ms inference, 0.9ms postprocess per image at shape (1, 3, 640, 640)\n",
      "Results saved to \u001b[1mruns\\detect\\predict\u001b[0m\n",
      "Detected classes: {0: 'Creeper', 1: 'Enderman', 2: 'Fox', 3: 'Mooshroom', 4: 'Ocelot', 5: 'Panda', 6: 'Polar Bear', 7: 'Skeleton', 8: 'Slime', 9: 'Spider', 10: 'Witch', 11: 'Wither Skeleton', 12: 'Wolf', 13: 'Zombie', 14: 'Zombified Piglin', 15: 'bee', 16: 'chicken', 17: 'cow', 18: 'iron golem', 19: 'pig'}\n",
      "Bounding boxes (xyxy): tensor([[305.2111, 140.5895, 352.0391, 291.1664]], device='cuda:0')\n",
      "----------------------------------------\n",
      "Processing c:\\Users\\pc\\OneDrive\\Documents\\Code\\MinecraftPorject\\mob-4\\test\\images\\2023-11-06_14-09-12_png.rf.ff1c7e7253942a142e1fbc0f2f3861a1.jpg...\n",
      "\n",
      "image 1/1 c:\\Users\\pc\\OneDrive\\Documents\\Code\\MinecraftPorject\\mob-4\\test\\images\\2023-11-06_14-09-12_png.rf.ff1c7e7253942a142e1fbc0f2f3861a1.jpg: 640x640 2 Skeletons, 1 chicken, 3.0ms\n",
      "Speed: 1.6ms preprocess, 3.0ms inference, 1.6ms postprocess per image at shape (1, 3, 640, 640)\n",
      "Results saved to \u001b[1mruns\\detect\\predict\u001b[0m\n",
      "Detected classes: {0: 'Creeper', 1: 'Enderman', 2: 'Fox', 3: 'Mooshroom', 4: 'Ocelot', 5: 'Panda', 6: 'Polar Bear', 7: 'Skeleton', 8: 'Slime', 9: 'Spider', 10: 'Witch', 11: 'Wither Skeleton', 12: 'Wolf', 13: 'Zombie', 14: 'Zombified Piglin', 15: 'bee', 16: 'chicken', 17: 'cow', 18: 'iron golem', 19: 'pig'}\n",
      "Bounding boxes (xyxy): tensor([[  0.0000, 154.0583,  23.3532, 337.5129],\n",
      "        [239.3946, 123.5980, 400.5518, 596.2814],\n",
      "        [237.4951, 129.2249, 405.2982, 601.0577]], device='cuda:0')\n",
      "----------------------------------------\n",
      "Processing c:\\Users\\pc\\OneDrive\\Documents\\Code\\MinecraftPorject\\mob-4\\test\\images\\2023-11-06_14-09-38_png.rf.da6521c3ffbfde4fb9f04ccd96980fb0.jpg...\n",
      "\n",
      "image 1/1 c:\\Users\\pc\\OneDrive\\Documents\\Code\\MinecraftPorject\\mob-4\\test\\images\\2023-11-06_14-09-38_png.rf.da6521c3ffbfde4fb9f04ccd96980fb0.jpg: 640x640 1 Creeper, 1 Skeleton, 1 Spider, 1 Zombie, 4 pigs, 3.1ms\n",
      "Speed: 1.7ms preprocess, 3.1ms inference, 0.8ms postprocess per image at shape (1, 3, 640, 640)\n",
      "Results saved to \u001b[1mruns\\detect\\predict\u001b[0m\n",
      "Detected classes: {0: 'Creeper', 1: 'Enderman', 2: 'Fox', 3: 'Mooshroom', 4: 'Ocelot', 5: 'Panda', 6: 'Polar Bear', 7: 'Skeleton', 8: 'Slime', 9: 'Spider', 10: 'Witch', 11: 'Wither Skeleton', 12: 'Wolf', 13: 'Zombie', 14: 'Zombified Piglin', 15: 'bee', 16: 'chicken', 17: 'cow', 18: 'iron golem', 19: 'pig'}\n",
      "Bounding boxes (xyxy): tensor([[288.2448, 305.9441, 359.6830, 526.2500],\n",
      "        [204.0794, 230.6719, 250.7033, 285.3134],\n",
      "        [543.7635, 235.8364, 561.2406, 278.8750],\n",
      "        [361.3450, 228.5638, 386.4841, 265.8268],\n",
      "        [307.0343, 190.7858, 334.2926, 232.6772],\n",
      "        [585.6141, 244.8738, 598.8273, 263.6522],\n",
      "        [492.7324, 235.3100, 502.1062, 261.9206],\n",
      "        [622.6567, 234.1834, 639.3350, 255.3743]], device='cuda:0')\n",
      "----------------------------------------\n",
      "Processing c:\\Users\\pc\\OneDrive\\Documents\\Code\\MinecraftPorject\\mob-4\\test\\images\\2023-11-06_17-50-43_png.rf.7c0169dd8781c266ea0151adc5930d2f.jpg...\n",
      "\n",
      "image 1/1 c:\\Users\\pc\\OneDrive\\Documents\\Code\\MinecraftPorject\\mob-4\\test\\images\\2023-11-06_17-50-43_png.rf.7c0169dd8781c266ea0151adc5930d2f.jpg: 640x640 (no detections), 5.0ms\n",
      "Speed: 1.9ms preprocess, 5.0ms inference, 0.8ms postprocess per image at shape (1, 3, 640, 640)\n",
      "Results saved to \u001b[1mruns\\detect\\predict\u001b[0m\n",
      "Detected classes: {0: 'Creeper', 1: 'Enderman', 2: 'Fox', 3: 'Mooshroom', 4: 'Ocelot', 5: 'Panda', 6: 'Polar Bear', 7: 'Skeleton', 8: 'Slime', 9: 'Spider', 10: 'Witch', 11: 'Wither Skeleton', 12: 'Wolf', 13: 'Zombie', 14: 'Zombified Piglin', 15: 'bee', 16: 'chicken', 17: 'cow', 18: 'iron golem', 19: 'pig'}\n",
      "Bounding boxes (xyxy): tensor([], device='cuda:0', size=(0, 4))\n",
      "----------------------------------------\n",
      "Processing c:\\Users\\pc\\OneDrive\\Documents\\Code\\MinecraftPorject\\mob-4\\test\\images\\2023-11-06_17-51-34_png.rf.ac4be457789b3a2cd4a64f1cff5ce8ab.jpg...\n",
      "\n",
      "image 1/1 c:\\Users\\pc\\OneDrive\\Documents\\Code\\MinecraftPorject\\mob-4\\test\\images\\2023-11-06_17-51-34_png.rf.ac4be457789b3a2cd4a64f1cff5ce8ab.jpg: 640x640 (no detections), 3.0ms\n",
      "Speed: 1.6ms preprocess, 3.0ms inference, 0.5ms postprocess per image at shape (1, 3, 640, 640)\n",
      "Results saved to \u001b[1mruns\\detect\\predict\u001b[0m\n",
      "Detected classes: {0: 'Creeper', 1: 'Enderman', 2: 'Fox', 3: 'Mooshroom', 4: 'Ocelot', 5: 'Panda', 6: 'Polar Bear', 7: 'Skeleton', 8: 'Slime', 9: 'Spider', 10: 'Witch', 11: 'Wither Skeleton', 12: 'Wolf', 13: 'Zombie', 14: 'Zombified Piglin', 15: 'bee', 16: 'chicken', 17: 'cow', 18: 'iron golem', 19: 'pig'}\n",
      "Bounding boxes (xyxy): tensor([], device='cuda:0', size=(0, 4))\n",
      "----------------------------------------\n",
      "Processing c:\\Users\\pc\\OneDrive\\Documents\\Code\\MinecraftPorject\\mob-4\\test\\images\\2023-11-06_17-55-22_png.rf.da8b8c4ba98f2a7c25cd2f6a31f1251d.jpg...\n",
      "\n",
      "image 1/1 c:\\Users\\pc\\OneDrive\\Documents\\Code\\MinecraftPorject\\mob-4\\test\\images\\2023-11-06_17-55-22_png.rf.da8b8c4ba98f2a7c25cd2f6a31f1251d.jpg: 640x640 (no detections), 3.1ms\n",
      "Speed: 1.6ms preprocess, 3.1ms inference, 0.4ms postprocess per image at shape (1, 3, 640, 640)\n",
      "Results saved to \u001b[1mruns\\detect\\predict\u001b[0m\n",
      "Detected classes: {0: 'Creeper', 1: 'Enderman', 2: 'Fox', 3: 'Mooshroom', 4: 'Ocelot', 5: 'Panda', 6: 'Polar Bear', 7: 'Skeleton', 8: 'Slime', 9: 'Spider', 10: 'Witch', 11: 'Wither Skeleton', 12: 'Wolf', 13: 'Zombie', 14: 'Zombified Piglin', 15: 'bee', 16: 'chicken', 17: 'cow', 18: 'iron golem', 19: 'pig'}\n",
      "Bounding boxes (xyxy): tensor([], device='cuda:0', size=(0, 4))\n",
      "----------------------------------------\n",
      "Processing c:\\Users\\pc\\OneDrive\\Documents\\Code\\MinecraftPorject\\mob-4\\test\\images\\2023-11-06_18-03-40_png.rf.d04ca460b74f278834f71fbfd5969604.jpg...\n",
      "\n",
      "image 1/1 c:\\Users\\pc\\OneDrive\\Documents\\Code\\MinecraftPorject\\mob-4\\test\\images\\2023-11-06_18-03-40_png.rf.d04ca460b74f278834f71fbfd5969604.jpg: 640x640 1 Creeper, 1 Spider, 3 Zombies, 4.6ms\n",
      "Speed: 1.7ms preprocess, 4.6ms inference, 1.2ms postprocess per image at shape (1, 3, 640, 640)\n",
      "Results saved to \u001b[1mruns\\detect\\predict\u001b[0m\n",
      "Detected classes: {0: 'Creeper', 1: 'Enderman', 2: 'Fox', 3: 'Mooshroom', 4: 'Ocelot', 5: 'Panda', 6: 'Polar Bear', 7: 'Skeleton', 8: 'Slime', 9: 'Spider', 10: 'Witch', 11: 'Wither Skeleton', 12: 'Wolf', 13: 'Zombie', 14: 'Zombified Piglin', 15: 'bee', 16: 'chicken', 17: 'cow', 18: 'iron golem', 19: 'pig'}\n",
      "Bounding boxes (xyxy): tensor([[230.4659, 303.1301, 266.5525, 428.8476],\n",
      "        [394.0544, 219.9316, 413.7275, 281.4794],\n",
      "        [489.3854, 196.1976, 511.7001, 213.7128],\n",
      "        [161.9847, 112.0923, 170.4738, 136.8973],\n",
      "        [178.1579, 107.4212, 186.8454, 133.3258]], device='cuda:0')\n",
      "----------------------------------------\n",
      "Processing c:\\Users\\pc\\OneDrive\\Documents\\Code\\MinecraftPorject\\mob-4\\test\\images\\2023-11-06_18-04-40_png.rf.1b75656300aa3e765f64cf010a6c7946.jpg...\n",
      "\n",
      "image 1/1 c:\\Users\\pc\\OneDrive\\Documents\\Code\\MinecraftPorject\\mob-4\\test\\images\\2023-11-06_18-04-40_png.rf.1b75656300aa3e765f64cf010a6c7946.jpg: 640x640 3 Zombies, 5.3ms\n",
      "Speed: 1.7ms preprocess, 5.3ms inference, 1.1ms postprocess per image at shape (1, 3, 640, 640)\n",
      "Results saved to \u001b[1mruns\\detect\\predict\u001b[0m\n",
      "Detected classes: {0: 'Creeper', 1: 'Enderman', 2: 'Fox', 3: 'Mooshroom', 4: 'Ocelot', 5: 'Panda', 6: 'Polar Bear', 7: 'Skeleton', 8: 'Slime', 9: 'Spider', 10: 'Witch', 11: 'Wither Skeleton', 12: 'Wolf', 13: 'Zombie', 14: 'Zombified Piglin', 15: 'bee', 16: 'chicken', 17: 'cow', 18: 'iron golem', 19: 'pig'}\n",
      "Bounding boxes (xyxy): tensor([[368.4948, 157.3858, 401.2925, 253.2308],\n",
      "        [287.5579, 159.5938, 314.0036, 240.5251],\n",
      "        [110.3983, 138.5237, 125.6245, 165.3735]], device='cuda:0')\n",
      "----------------------------------------\n",
      "Processing c:\\Users\\pc\\OneDrive\\Documents\\Code\\MinecraftPorject\\mob-4\\test\\images\\2023-11-06_18-05-17_png.rf.2fd4ec8bfddca3a53c9eab2731da008f.jpg...\n",
      "\n",
      "image 1/1 c:\\Users\\pc\\OneDrive\\Documents\\Code\\MinecraftPorject\\mob-4\\test\\images\\2023-11-06_18-05-17_png.rf.2fd4ec8bfddca3a53c9eab2731da008f.jpg: 640x640 2 Creepers, 1 Enderman, 1 Spider, 3.1ms\n",
      "Speed: 1.6ms preprocess, 3.1ms inference, 2.5ms postprocess per image at shape (1, 3, 640, 640)\n",
      "Results saved to \u001b[1mruns\\detect\\predict\u001b[0m\n",
      "Detected classes: {0: 'Creeper', 1: 'Enderman', 2: 'Fox', 3: 'Mooshroom', 4: 'Ocelot', 5: 'Panda', 6: 'Polar Bear', 7: 'Skeleton', 8: 'Slime', 9: 'Spider', 10: 'Witch', 11: 'Wither Skeleton', 12: 'Wolf', 13: 'Zombie', 14: 'Zombified Piglin', 15: 'bee', 16: 'chicken', 17: 'cow', 18: 'iron golem', 19: 'pig'}\n",
      "Bounding boxes (xyxy): tensor([[343.7378, 459.8997, 405.7739, 540.7512],\n",
      "        [341.9307, 428.0634, 367.0479, 505.0676],\n",
      "        [227.0798, 317.1781, 249.9084, 380.8659],\n",
      "        [274.5124, 248.2583, 291.0268, 311.4568]], device='cuda:0')\n",
      "----------------------------------------\n",
      "Processing c:\\Users\\pc\\OneDrive\\Documents\\Code\\MinecraftPorject\\mob-4\\test\\images\\2023-11-06_18-12-40_png.rf.68520059569ce533cd4909f05712fcdf.jpg...\n",
      "\n",
      "image 1/1 c:\\Users\\pc\\OneDrive\\Documents\\Code\\MinecraftPorject\\mob-4\\test\\images\\2023-11-06_18-12-40_png.rf.68520059569ce533cd4909f05712fcdf.jpg: 640x640 1 pig, 3.7ms\n",
      "Speed: 1.6ms preprocess, 3.7ms inference, 0.8ms postprocess per image at shape (1, 3, 640, 640)\n",
      "Results saved to \u001b[1mruns\\detect\\predict\u001b[0m\n",
      "Detected classes: {0: 'Creeper', 1: 'Enderman', 2: 'Fox', 3: 'Mooshroom', 4: 'Ocelot', 5: 'Panda', 6: 'Polar Bear', 7: 'Skeleton', 8: 'Slime', 9: 'Spider', 10: 'Witch', 11: 'Wither Skeleton', 12: 'Wolf', 13: 'Zombie', 14: 'Zombified Piglin', 15: 'bee', 16: 'chicken', 17: 'cow', 18: 'iron golem', 19: 'pig'}\n",
      "Bounding boxes (xyxy): tensor([[248.2934, 212.2433, 266.7137, 246.7484]], device='cuda:0')\n",
      "----------------------------------------\n",
      "Processing c:\\Users\\pc\\OneDrive\\Documents\\Code\\MinecraftPorject\\mob-4\\test\\images\\2023-11-07_21-09-22_png.rf.a649546668e7189cfff0c03ec2a1316a.jpg...\n",
      "\n",
      "image 1/1 c:\\Users\\pc\\OneDrive\\Documents\\Code\\MinecraftPorject\\mob-4\\test\\images\\2023-11-07_21-09-22_png.rf.a649546668e7189cfff0c03ec2a1316a.jpg: 640x640 (no detections), 3.2ms\n",
      "Speed: 1.7ms preprocess, 3.2ms inference, 0.7ms postprocess per image at shape (1, 3, 640, 640)\n",
      "Results saved to \u001b[1mruns\\detect\\predict\u001b[0m\n",
      "Detected classes: {0: 'Creeper', 1: 'Enderman', 2: 'Fox', 3: 'Mooshroom', 4: 'Ocelot', 5: 'Panda', 6: 'Polar Bear', 7: 'Skeleton', 8: 'Slime', 9: 'Spider', 10: 'Witch', 11: 'Wither Skeleton', 12: 'Wolf', 13: 'Zombie', 14: 'Zombified Piglin', 15: 'bee', 16: 'chicken', 17: 'cow', 18: 'iron golem', 19: 'pig'}\n",
      "Bounding boxes (xyxy): tensor([], device='cuda:0', size=(0, 4))\n",
      "----------------------------------------\n",
      "Processing c:\\Users\\pc\\OneDrive\\Documents\\Code\\MinecraftPorject\\mob-4\\test\\images\\2023-11-07_21-10-36_png.rf.26e560b47f4cb9b1e92cc4e2660ecd01.jpg...\n",
      "\n",
      "image 1/1 c:\\Users\\pc\\OneDrive\\Documents\\Code\\MinecraftPorject\\mob-4\\test\\images\\2023-11-07_21-10-36_png.rf.26e560b47f4cb9b1e92cc4e2660ecd01.jpg: 640x640 2 chickens, 3.0ms\n",
      "Speed: 1.6ms preprocess, 3.0ms inference, 1.9ms postprocess per image at shape (1, 3, 640, 640)\n",
      "Results saved to \u001b[1mruns\\detect\\predict\u001b[0m\n",
      "Detected classes: {0: 'Creeper', 1: 'Enderman', 2: 'Fox', 3: 'Mooshroom', 4: 'Ocelot', 5: 'Panda', 6: 'Polar Bear', 7: 'Skeleton', 8: 'Slime', 9: 'Spider', 10: 'Witch', 11: 'Wither Skeleton', 12: 'Wolf', 13: 'Zombie', 14: 'Zombified Piglin', 15: 'bee', 16: 'chicken', 17: 'cow', 18: 'iron golem', 19: 'pig'}\n",
      "Bounding boxes (xyxy): tensor([[206.6058, 269.1017, 273.3689, 404.8955],\n",
      "        [423.4241, 288.0468, 454.7939, 364.5959]], device='cuda:0')\n",
      "----------------------------------------\n",
      "Processing c:\\Users\\pc\\OneDrive\\Documents\\Code\\MinecraftPorject\\mob-4\\test\\images\\2023-11-07_21-11-15_png.rf.85e648addf6dc4eb02e7e9b9224d85c0.jpg...\n",
      "\n",
      "image 1/1 c:\\Users\\pc\\OneDrive\\Documents\\Code\\MinecraftPorject\\mob-4\\test\\images\\2023-11-07_21-11-15_png.rf.85e648addf6dc4eb02e7e9b9224d85c0.jpg: 640x640 3 cows, 6.6ms\n",
      "Speed: 2.3ms preprocess, 6.6ms inference, 2.4ms postprocess per image at shape (1, 3, 640, 640)\n",
      "Results saved to \u001b[1mruns\\detect\\predict\u001b[0m\n",
      "Detected classes: {0: 'Creeper', 1: 'Enderman', 2: 'Fox', 3: 'Mooshroom', 4: 'Ocelot', 5: 'Panda', 6: 'Polar Bear', 7: 'Skeleton', 8: 'Slime', 9: 'Spider', 10: 'Witch', 11: 'Wither Skeleton', 12: 'Wolf', 13: 'Zombie', 14: 'Zombified Piglin', 15: 'bee', 16: 'chicken', 17: 'cow', 18: 'iron golem', 19: 'pig'}\n",
      "Bounding boxes (xyxy): tensor([[118.5292, 214.4514, 165.4420, 256.5091],\n",
      "        [220.3642, 211.3964, 238.3581, 234.6619],\n",
      "        [127.3564, 221.9957, 164.4146, 261.6201]], device='cuda:0')\n",
      "----------------------------------------\n",
      "Processing c:\\Users\\pc\\OneDrive\\Documents\\Code\\MinecraftPorject\\mob-4\\test\\images\\2023-11-07_21-12-07_png.rf.69655d36bef12c14a9e570db64208ac8.jpg...\n",
      "\n",
      "image 1/1 c:\\Users\\pc\\OneDrive\\Documents\\Code\\MinecraftPorject\\mob-4\\test\\images\\2023-11-07_21-12-07_png.rf.69655d36bef12c14a9e570db64208ac8.jpg: 640x640 (no detections), 4.8ms\n",
      "Speed: 1.6ms preprocess, 4.8ms inference, 0.4ms postprocess per image at shape (1, 3, 640, 640)\n",
      "Results saved to \u001b[1mruns\\detect\\predict\u001b[0m\n",
      "Detected classes: {0: 'Creeper', 1: 'Enderman', 2: 'Fox', 3: 'Mooshroom', 4: 'Ocelot', 5: 'Panda', 6: 'Polar Bear', 7: 'Skeleton', 8: 'Slime', 9: 'Spider', 10: 'Witch', 11: 'Wither Skeleton', 12: 'Wolf', 13: 'Zombie', 14: 'Zombified Piglin', 15: 'bee', 16: 'chicken', 17: 'cow', 18: 'iron golem', 19: 'pig'}\n",
      "Bounding boxes (xyxy): tensor([], device='cuda:0', size=(0, 4))\n",
      "----------------------------------------\n",
      "Processing c:\\Users\\pc\\OneDrive\\Documents\\Code\\MinecraftPorject\\mob-4\\test\\images\\2023-11-07_21-26-53_png.rf.fc317e995e041d2d357580a240b4f9de.jpg...\n",
      "\n",
      "image 1/1 c:\\Users\\pc\\OneDrive\\Documents\\Code\\MinecraftPorject\\mob-4\\test\\images\\2023-11-07_21-26-53_png.rf.fc317e995e041d2d357580a240b4f9de.jpg: 640x640 1 iron golem, 3.5ms\n",
      "Speed: 2.0ms preprocess, 3.5ms inference, 0.8ms postprocess per image at shape (1, 3, 640, 640)\n",
      "Results saved to \u001b[1mruns\\detect\\predict\u001b[0m\n",
      "Detected classes: {0: 'Creeper', 1: 'Enderman', 2: 'Fox', 3: 'Mooshroom', 4: 'Ocelot', 5: 'Panda', 6: 'Polar Bear', 7: 'Skeleton', 8: 'Slime', 9: 'Spider', 10: 'Witch', 11: 'Wither Skeleton', 12: 'Wolf', 13: 'Zombie', 14: 'Zombified Piglin', 15: 'bee', 16: 'chicken', 17: 'cow', 18: 'iron golem', 19: 'pig'}\n",
      "Bounding boxes (xyxy): tensor([[165.4018, 292.7557, 262.2312, 508.1127]], device='cuda:0')\n",
      "----------------------------------------\n",
      "Processing c:\\Users\\pc\\OneDrive\\Documents\\Code\\MinecraftPorject\\mob-4\\test\\images\\2023-11-07_21-26-55_png.rf.e297cb7f7239f43e1517a3067f9b45de.jpg...\n",
      "\n",
      "image 1/1 c:\\Users\\pc\\OneDrive\\Documents\\Code\\MinecraftPorject\\mob-4\\test\\images\\2023-11-07_21-26-55_png.rf.e297cb7f7239f43e1517a3067f9b45de.jpg: 640x640 2 cows, 1 pig, 4.7ms\n",
      "Speed: 1.7ms preprocess, 4.7ms inference, 2.1ms postprocess per image at shape (1, 3, 640, 640)\n",
      "Results saved to \u001b[1mruns\\detect\\predict\u001b[0m\n",
      "Detected classes: {0: 'Creeper', 1: 'Enderman', 2: 'Fox', 3: 'Mooshroom', 4: 'Ocelot', 5: 'Panda', 6: 'Polar Bear', 7: 'Skeleton', 8: 'Slime', 9: 'Spider', 10: 'Witch', 11: 'Wither Skeleton', 12: 'Wolf', 13: 'Zombie', 14: 'Zombified Piglin', 15: 'bee', 16: 'chicken', 17: 'cow', 18: 'iron golem', 19: 'pig'}\n",
      "Bounding boxes (xyxy): tensor([[388.1399, 311.9792, 407.3551, 360.8164],\n",
      "        [210.9115, 146.4290, 239.2781, 183.0225],\n",
      "        [257.0610, 159.5046, 279.4019, 206.4038]], device='cuda:0')\n",
      "----------------------------------------\n",
      "Processing c:\\Users\\pc\\OneDrive\\Documents\\Code\\MinecraftPorject\\mob-4\\test\\images\\2023-11-07_21-36-01_png.rf.ee7fd4d9311d25b9a5807fde1961b7ee.jpg...\n",
      "\n",
      "image 1/1 c:\\Users\\pc\\OneDrive\\Documents\\Code\\MinecraftPorject\\mob-4\\test\\images\\2023-11-07_21-36-01_png.rf.ee7fd4d9311d25b9a5807fde1961b7ee.jpg: 640x640 1 chicken, 1 cow, 3.7ms\n",
      "Speed: 1.7ms preprocess, 3.7ms inference, 0.9ms postprocess per image at shape (1, 3, 640, 640)\n",
      "Results saved to \u001b[1mruns\\detect\\predict\u001b[0m\n",
      "Detected classes: {0: 'Creeper', 1: 'Enderman', 2: 'Fox', 3: 'Mooshroom', 4: 'Ocelot', 5: 'Panda', 6: 'Polar Bear', 7: 'Skeleton', 8: 'Slime', 9: 'Spider', 10: 'Witch', 11: 'Wither Skeleton', 12: 'Wolf', 13: 'Zombie', 14: 'Zombified Piglin', 15: 'bee', 16: 'chicken', 17: 'cow', 18: 'iron golem', 19: 'pig'}\n",
      "Bounding boxes (xyxy): tensor([[214.8186, 235.7324, 223.8757, 250.7881],\n",
      "        [297.5164, 263.9221, 316.6399, 300.2293]], device='cuda:0')\n",
      "----------------------------------------\n",
      "Processing c:\\Users\\pc\\OneDrive\\Documents\\Code\\MinecraftPorject\\mob-4\\test\\images\\2023-11-07_21-38-04_png.rf.1a4a5056a323594c0e45e1cba49ba400.jpg...\n",
      "\n",
      "image 1/1 c:\\Users\\pc\\OneDrive\\Documents\\Code\\MinecraftPorject\\mob-4\\test\\images\\2023-11-07_21-38-04_png.rf.1a4a5056a323594c0e45e1cba49ba400.jpg: 640x640 1 chicken, 3.1ms\n",
      "Speed: 1.7ms preprocess, 3.1ms inference, 0.8ms postprocess per image at shape (1, 3, 640, 640)\n",
      "Results saved to \u001b[1mruns\\detect\\predict\u001b[0m\n",
      "Detected classes: {0: 'Creeper', 1: 'Enderman', 2: 'Fox', 3: 'Mooshroom', 4: 'Ocelot', 5: 'Panda', 6: 'Polar Bear', 7: 'Skeleton', 8: 'Slime', 9: 'Spider', 10: 'Witch', 11: 'Wither Skeleton', 12: 'Wolf', 13: 'Zombie', 14: 'Zombified Piglin', 15: 'bee', 16: 'chicken', 17: 'cow', 18: 'iron golem', 19: 'pig'}\n",
      "Bounding boxes (xyxy): tensor([[361.5105, 366.3921, 408.5690, 461.2099]], device='cuda:0')\n",
      "----------------------------------------\n",
      "Processing c:\\Users\\pc\\OneDrive\\Documents\\Code\\MinecraftPorject\\mob-4\\test\\images\\2023-11-07_21-38-55_png.rf.a1dd11c6f9afc38a43dc2b3e93e0abb3.jpg...\n",
      "\n",
      "image 1/1 c:\\Users\\pc\\OneDrive\\Documents\\Code\\MinecraftPorject\\mob-4\\test\\images\\2023-11-07_21-38-55_png.rf.a1dd11c6f9afc38a43dc2b3e93e0abb3.jpg: 640x640 3 cows, 3.0ms\n",
      "Speed: 1.6ms preprocess, 3.0ms inference, 0.8ms postprocess per image at shape (1, 3, 640, 640)\n",
      "Results saved to \u001b[1mruns\\detect\\predict\u001b[0m\n",
      "Detected classes: {0: 'Creeper', 1: 'Enderman', 2: 'Fox', 3: 'Mooshroom', 4: 'Ocelot', 5: 'Panda', 6: 'Polar Bear', 7: 'Skeleton', 8: 'Slime', 9: 'Spider', 10: 'Witch', 11: 'Wither Skeleton', 12: 'Wolf', 13: 'Zombie', 14: 'Zombified Piglin', 15: 'bee', 16: 'chicken', 17: 'cow', 18: 'iron golem', 19: 'pig'}\n",
      "Bounding boxes (xyxy): tensor([[305.5909, 222.4503, 320.1675, 255.2817],\n",
      "        [336.0598, 246.9052, 354.7975, 274.4060],\n",
      "        [288.3756, 234.1541, 306.8535, 261.9573]], device='cuda:0')\n",
      "----------------------------------------\n",
      "Processing c:\\Users\\pc\\OneDrive\\Documents\\Code\\MinecraftPorject\\mob-4\\test\\images\\2023-11-07_21-44-58_png.rf.e0b34f031dd870c0f0644fa197249d17.jpg...\n",
      "\n",
      "image 1/1 c:\\Users\\pc\\OneDrive\\Documents\\Code\\MinecraftPorject\\mob-4\\test\\images\\2023-11-07_21-44-58_png.rf.e0b34f031dd870c0f0644fa197249d17.jpg: 640x640 1 Creeper, 4 Spiders, 3.7ms\n",
      "Speed: 1.6ms preprocess, 3.7ms inference, 1.0ms postprocess per image at shape (1, 3, 640, 640)\n",
      "Results saved to \u001b[1mruns\\detect\\predict\u001b[0m\n",
      "Detected classes: {0: 'Creeper', 1: 'Enderman', 2: 'Fox', 3: 'Mooshroom', 4: 'Ocelot', 5: 'Panda', 6: 'Polar Bear', 7: 'Skeleton', 8: 'Slime', 9: 'Spider', 10: 'Witch', 11: 'Wither Skeleton', 12: 'Wolf', 13: 'Zombie', 14: 'Zombified Piglin', 15: 'bee', 16: 'chicken', 17: 'cow', 18: 'iron golem', 19: 'pig'}\n",
      "Bounding boxes (xyxy): tensor([[313.7694, 192.4967, 344.7921, 219.8926],\n",
      "        [260.2358, 382.3191, 292.8509, 479.1375],\n",
      "        [446.3769, 188.6454, 485.3250, 245.1109],\n",
      "        [368.0822, 262.8327, 416.2021, 329.2626],\n",
      "        [447.6817, 199.2959, 479.7310, 244.3153]], device='cuda:0')\n",
      "----------------------------------------\n",
      "Processing c:\\Users\\pc\\OneDrive\\Documents\\Code\\MinecraftPorject\\mob-4\\test\\images\\2023-11-07_21-49-56_png.rf.4f13b11f4de315f5664101f07f83678b.jpg...\n",
      "\n",
      "image 1/1 c:\\Users\\pc\\OneDrive\\Documents\\Code\\MinecraftPorject\\mob-4\\test\\images\\2023-11-07_21-49-56_png.rf.4f13b11f4de315f5664101f07f83678b.jpg: 640x640 3 Creepers, 1 Spider, 3 Zombies, 2 cows, 2 pigs, 4.8ms\n",
      "Speed: 1.7ms preprocess, 4.8ms inference, 1.1ms postprocess per image at shape (1, 3, 640, 640)\n",
      "Results saved to \u001b[1mruns\\detect\\predict\u001b[0m\n",
      "Detected classes: {0: 'Creeper', 1: 'Enderman', 2: 'Fox', 3: 'Mooshroom', 4: 'Ocelot', 5: 'Panda', 6: 'Polar Bear', 7: 'Skeleton', 8: 'Slime', 9: 'Spider', 10: 'Witch', 11: 'Wither Skeleton', 12: 'Wolf', 13: 'Zombie', 14: 'Zombified Piglin', 15: 'bee', 16: 'chicken', 17: 'cow', 18: 'iron golem', 19: 'pig'}\n",
      "Bounding boxes (xyxy): tensor([[3.9129e+02, 2.9666e+02, 4.3256e+02, 3.4899e+02],\n",
      "        [2.5023e+02, 2.3576e+02, 2.8097e+02, 2.8690e+02],\n",
      "        [3.8462e+02, 2.2113e+02, 4.0012e+02, 2.6707e+02],\n",
      "        [1.5849e-01, 4.2489e+02, 8.8196e+01, 6.0501e+02],\n",
      "        [2.7967e+02, 1.9192e+02, 2.9810e+02, 2.4400e+02],\n",
      "        [1.9817e+02, 1.7457e+02, 2.1580e+02, 2.3008e+02],\n",
      "        [2.3985e+02, 1.7817e+02, 2.5502e+02, 2.2743e+02],\n",
      "        [3.4104e+02, 2.1731e+02, 3.6586e+02, 2.7159e+02],\n",
      "        [3.2806e+02, 1.6064e+02, 3.4081e+02, 1.8432e+02],\n",
      "        [3.1044e+02, 1.6757e+02, 3.2113e+02, 1.9400e+02],\n",
      "        [3.3172e+02, 1.5822e+02, 3.4353e+02, 1.8311e+02]], device='cuda:0')\n",
      "----------------------------------------\n",
      "Processing c:\\Users\\pc\\OneDrive\\Documents\\Code\\MinecraftPorject\\mob-4\\test\\images\\2023-12-18_02-14-02_png.rf.282784f7fd6f7eb989727f94b74b4044.jpg...\n",
      "\n",
      "image 1/1 c:\\Users\\pc\\OneDrive\\Documents\\Code\\MinecraftPorject\\mob-4\\test\\images\\2023-12-18_02-14-02_png.rf.282784f7fd6f7eb989727f94b74b4044.jpg: 640x640 1 cow, 3.2ms\n",
      "Speed: 1.6ms preprocess, 3.2ms inference, 0.8ms postprocess per image at shape (1, 3, 640, 640)\n",
      "Results saved to \u001b[1mruns\\detect\\predict\u001b[0m\n",
      "Detected classes: {0: 'Creeper', 1: 'Enderman', 2: 'Fox', 3: 'Mooshroom', 4: 'Ocelot', 5: 'Panda', 6: 'Polar Bear', 7: 'Skeleton', 8: 'Slime', 9: 'Spider', 10: 'Witch', 11: 'Wither Skeleton', 12: 'Wolf', 13: 'Zombie', 14: 'Zombified Piglin', 15: 'bee', 16: 'chicken', 17: 'cow', 18: 'iron golem', 19: 'pig'}\n",
      "Bounding boxes (xyxy): tensor([[267.2418, 262.4160, 326.4456, 420.2689]], device='cuda:0')\n",
      "----------------------------------------\n",
      "Processing c:\\Users\\pc\\OneDrive\\Documents\\Code\\MinecraftPorject\\mob-4\\test\\images\\2023-12-18_02-21-15_png.rf.265ae95178e357ab80f0303f7fc5da62.jpg...\n",
      "\n",
      "image 1/1 c:\\Users\\pc\\OneDrive\\Documents\\Code\\MinecraftPorject\\mob-4\\test\\images\\2023-12-18_02-21-15_png.rf.265ae95178e357ab80f0303f7fc5da62.jpg: 640x640 1 chicken, 3.6ms\n",
      "Speed: 1.6ms preprocess, 3.6ms inference, 1.0ms postprocess per image at shape (1, 3, 640, 640)\n",
      "Results saved to \u001b[1mruns\\detect\\predict\u001b[0m\n",
      "Detected classes: {0: 'Creeper', 1: 'Enderman', 2: 'Fox', 3: 'Mooshroom', 4: 'Ocelot', 5: 'Panda', 6: 'Polar Bear', 7: 'Skeleton', 8: 'Slime', 9: 'Spider', 10: 'Witch', 11: 'Wither Skeleton', 12: 'Wolf', 13: 'Zombie', 14: 'Zombified Piglin', 15: 'bee', 16: 'chicken', 17: 'cow', 18: 'iron golem', 19: 'pig'}\n",
      "Bounding boxes (xyxy): tensor([[297.7308, 280.9895, 347.6740, 392.3967]], device='cuda:0')\n",
      "----------------------------------------\n",
      "Processing c:\\Users\\pc\\OneDrive\\Documents\\Code\\MinecraftPorject\\mob-4\\test\\images\\2023-12-18_02-23-37_png.rf.9bc2caba9467a6084e936837a1c562c7.jpg...\n",
      "\n",
      "image 1/1 c:\\Users\\pc\\OneDrive\\Documents\\Code\\MinecraftPorject\\mob-4\\test\\images\\2023-12-18_02-23-37_png.rf.9bc2caba9467a6084e936837a1c562c7.jpg: 640x640 1 cow, 1 pig, 4.4ms\n",
      "Speed: 1.6ms preprocess, 4.4ms inference, 1.1ms postprocess per image at shape (1, 3, 640, 640)\n",
      "Results saved to \u001b[1mruns\\detect\\predict\u001b[0m\n",
      "Detected classes: {0: 'Creeper', 1: 'Enderman', 2: 'Fox', 3: 'Mooshroom', 4: 'Ocelot', 5: 'Panda', 6: 'Polar Bear', 7: 'Skeleton', 8: 'Slime', 9: 'Spider', 10: 'Witch', 11: 'Wither Skeleton', 12: 'Wolf', 13: 'Zombie', 14: 'Zombified Piglin', 15: 'bee', 16: 'chicken', 17: 'cow', 18: 'iron golem', 19: 'pig'}\n",
      "Bounding boxes (xyxy): tensor([[274.8750, 217.0057, 387.6490, 431.2184],\n",
      "        [567.3060, 164.0977, 595.1864, 209.2993]], device='cuda:0')\n",
      "----------------------------------------\n",
      "Processing c:\\Users\\pc\\OneDrive\\Documents\\Code\\MinecraftPorject\\mob-4\\test\\images\\2023-12-18_02-25-33_png.rf.d732d6ad361acac852c5b8a14d377cc4.jpg...\n",
      "\n",
      "image 1/1 c:\\Users\\pc\\OneDrive\\Documents\\Code\\MinecraftPorject\\mob-4\\test\\images\\2023-12-18_02-25-33_png.rf.d732d6ad361acac852c5b8a14d377cc4.jpg: 640x640 1 Mooshroom, 4.0ms\n",
      "Speed: 1.8ms preprocess, 4.0ms inference, 1.0ms postprocess per image at shape (1, 3, 640, 640)\n",
      "Results saved to \u001b[1mruns\\detect\\predict\u001b[0m\n",
      "Detected classes: {0: 'Creeper', 1: 'Enderman', 2: 'Fox', 3: 'Mooshroom', 4: 'Ocelot', 5: 'Panda', 6: 'Polar Bear', 7: 'Skeleton', 8: 'Slime', 9: 'Spider', 10: 'Witch', 11: 'Wither Skeleton', 12: 'Wolf', 13: 'Zombie', 14: 'Zombified Piglin', 15: 'bee', 16: 'chicken', 17: 'cow', 18: 'iron golem', 19: 'pig'}\n",
      "Bounding boxes (xyxy): tensor([[253.0124, 172.3809, 378.9204, 457.4073]], device='cuda:0')\n",
      "----------------------------------------\n",
      "Processing c:\\Users\\pc\\OneDrive\\Documents\\Code\\MinecraftPorject\\mob-4\\test\\images\\2023-12-18_02-25-46_png.rf.afe52b324392b11ece8fc3b41a0665b0.jpg...\n",
      "\n",
      "image 1/1 c:\\Users\\pc\\OneDrive\\Documents\\Code\\MinecraftPorject\\mob-4\\test\\images\\2023-12-18_02-25-46_png.rf.afe52b324392b11ece8fc3b41a0665b0.jpg: 640x640 1 Mooshroom, 3.6ms\n",
      "Speed: 1.6ms preprocess, 3.6ms inference, 0.8ms postprocess per image at shape (1, 3, 640, 640)\n",
      "Results saved to \u001b[1mruns\\detect\\predict\u001b[0m\n",
      "Detected classes: {0: 'Creeper', 1: 'Enderman', 2: 'Fox', 3: 'Mooshroom', 4: 'Ocelot', 5: 'Panda', 6: 'Polar Bear', 7: 'Skeleton', 8: 'Slime', 9: 'Spider', 10: 'Witch', 11: 'Wither Skeleton', 12: 'Wolf', 13: 'Zombie', 14: 'Zombified Piglin', 15: 'bee', 16: 'chicken', 17: 'cow', 18: 'iron golem', 19: 'pig'}\n",
      "Bounding boxes (xyxy): tensor([[237.4719, 121.9272, 359.0580, 390.4361]], device='cuda:0')\n",
      "----------------------------------------\n",
      "Processing c:\\Users\\pc\\OneDrive\\Documents\\Code\\MinecraftPorject\\mob-4\\test\\images\\2023-12-18_02-29-38_png.rf.7a134344f50c664a48097c45608c58d6.jpg...\n",
      "\n",
      "image 1/1 c:\\Users\\pc\\OneDrive\\Documents\\Code\\MinecraftPorject\\mob-4\\test\\images\\2023-12-18_02-29-38_png.rf.7a134344f50c664a48097c45608c58d6.jpg: 640x640 1 iron golem, 3.2ms\n",
      "Speed: 1.5ms preprocess, 3.2ms inference, 0.8ms postprocess per image at shape (1, 3, 640, 640)\n",
      "Results saved to \u001b[1mruns\\detect\\predict\u001b[0m\n",
      "Detected classes: {0: 'Creeper', 1: 'Enderman', 2: 'Fox', 3: 'Mooshroom', 4: 'Ocelot', 5: 'Panda', 6: 'Polar Bear', 7: 'Skeleton', 8: 'Slime', 9: 'Spider', 10: 'Witch', 11: 'Wither Skeleton', 12: 'Wolf', 13: 'Zombie', 14: 'Zombified Piglin', 15: 'bee', 16: 'chicken', 17: 'cow', 18: 'iron golem', 19: 'pig'}\n",
      "Bounding boxes (xyxy): tensor([[254.9479, 165.7554, 342.4998, 621.7983]], device='cuda:0')\n",
      "----------------------------------------\n",
      "Processing c:\\Users\\pc\\OneDrive\\Documents\\Code\\MinecraftPorject\\mob-4\\test\\images\\2023-12-18_02-31-25_png.rf.dfe728c7168b87ca7d3efe4dc0047425.jpg...\n",
      "\n",
      "image 1/1 c:\\Users\\pc\\OneDrive\\Documents\\Code\\MinecraftPorject\\mob-4\\test\\images\\2023-12-18_02-31-25_png.rf.dfe728c7168b87ca7d3efe4dc0047425.jpg: 640x640 1 Wolf, 6.0ms\n",
      "Speed: 2.3ms preprocess, 6.0ms inference, 2.0ms postprocess per image at shape (1, 3, 640, 640)\n",
      "Results saved to \u001b[1mruns\\detect\\predict\u001b[0m\n",
      "Detected classes: {0: 'Creeper', 1: 'Enderman', 2: 'Fox', 3: 'Mooshroom', 4: 'Ocelot', 5: 'Panda', 6: 'Polar Bear', 7: 'Skeleton', 8: 'Slime', 9: 'Spider', 10: 'Witch', 11: 'Wither Skeleton', 12: 'Wolf', 13: 'Zombie', 14: 'Zombified Piglin', 15: 'bee', 16: 'chicken', 17: 'cow', 18: 'iron golem', 19: 'pig'}\n",
      "Bounding boxes (xyxy): tensor([[279.8539, 267.3394, 342.1433, 458.4578]], device='cuda:0')\n",
      "----------------------------------------\n",
      "Processing c:\\Users\\pc\\OneDrive\\Documents\\Code\\MinecraftPorject\\mob-4\\test\\images\\2023-12-18_02-34-19_png.rf.5d6dcbfbf08c1eb3df515a25bb083c0c.jpg...\n",
      "\n",
      "image 1/1 c:\\Users\\pc\\OneDrive\\Documents\\Code\\MinecraftPorject\\mob-4\\test\\images\\2023-12-18_02-34-19_png.rf.5d6dcbfbf08c1eb3df515a25bb083c0c.jpg: 640x640 1 Polar Bear, 4.2ms\n",
      "Speed: 1.6ms preprocess, 4.2ms inference, 0.8ms postprocess per image at shape (1, 3, 640, 640)\n",
      "Results saved to \u001b[1mruns\\detect\\predict\u001b[0m\n",
      "Detected classes: {0: 'Creeper', 1: 'Enderman', 2: 'Fox', 3: 'Mooshroom', 4: 'Ocelot', 5: 'Panda', 6: 'Polar Bear', 7: 'Skeleton', 8: 'Slime', 9: 'Spider', 10: 'Witch', 11: 'Wither Skeleton', 12: 'Wolf', 13: 'Zombie', 14: 'Zombified Piglin', 15: 'bee', 16: 'chicken', 17: 'cow', 18: 'iron golem', 19: 'pig'}\n",
      "Bounding boxes (xyxy): tensor([[224.3767, 178.0974, 398.2675, 416.6085]], device='cuda:0')\n",
      "----------------------------------------\n",
      "Processing c:\\Users\\pc\\OneDrive\\Documents\\Code\\MinecraftPorject\\mob-4\\test\\images\\2023-12-18_02-34-21_png.rf.7d24bec78a8d66019ed28f654ccf5f41.jpg...\n",
      "\n",
      "image 1/1 c:\\Users\\pc\\OneDrive\\Documents\\Code\\MinecraftPorject\\mob-4\\test\\images\\2023-12-18_02-34-21_png.rf.7d24bec78a8d66019ed28f654ccf5f41.jpg: 640x640 1 Polar Bear, 3.2ms\n",
      "Speed: 1.6ms preprocess, 3.2ms inference, 0.8ms postprocess per image at shape (1, 3, 640, 640)\n",
      "Results saved to \u001b[1mruns\\detect\\predict\u001b[0m\n",
      "Detected classes: {0: 'Creeper', 1: 'Enderman', 2: 'Fox', 3: 'Mooshroom', 4: 'Ocelot', 5: 'Panda', 6: 'Polar Bear', 7: 'Skeleton', 8: 'Slime', 9: 'Spider', 10: 'Witch', 11: 'Wither Skeleton', 12: 'Wolf', 13: 'Zombie', 14: 'Zombified Piglin', 15: 'bee', 16: 'chicken', 17: 'cow', 18: 'iron golem', 19: 'pig'}\n",
      "Bounding boxes (xyxy): tensor([[142.9829, 155.7869, 402.9589, 453.0070]], device='cuda:0')\n",
      "----------------------------------------\n",
      "Processing c:\\Users\\pc\\OneDrive\\Documents\\Code\\MinecraftPorject\\mob-4\\test\\images\\2023-12-18_02-34-26_png.rf.19dd11e5f2ed2f1bae3daa575bac2e3d.jpg...\n",
      "\n",
      "image 1/1 c:\\Users\\pc\\OneDrive\\Documents\\Code\\MinecraftPorject\\mob-4\\test\\images\\2023-12-18_02-34-26_png.rf.19dd11e5f2ed2f1bae3daa575bac2e3d.jpg: 640x640 1 Polar Bear, 3.1ms\n",
      "Speed: 1.5ms preprocess, 3.1ms inference, 1.1ms postprocess per image at shape (1, 3, 640, 640)\n",
      "Results saved to \u001b[1mruns\\detect\\predict\u001b[0m\n",
      "Detected classes: {0: 'Creeper', 1: 'Enderman', 2: 'Fox', 3: 'Mooshroom', 4: 'Ocelot', 5: 'Panda', 6: 'Polar Bear', 7: 'Skeleton', 8: 'Slime', 9: 'Spider', 10: 'Witch', 11: 'Wither Skeleton', 12: 'Wolf', 13: 'Zombie', 14: 'Zombified Piglin', 15: 'bee', 16: 'chicken', 17: 'cow', 18: 'iron golem', 19: 'pig'}\n",
      "Bounding boxes (xyxy): tensor([[249.7264, 190.3012, 389.5139, 496.0284]], device='cuda:0')\n",
      "----------------------------------------\n",
      "Processing c:\\Users\\pc\\OneDrive\\Documents\\Code\\MinecraftPorject\\mob-4\\test\\images\\2023-12-18_02-36-49_png.rf.8cacf9b681d25a881592352f25a4bd6c.jpg...\n",
      "\n",
      "image 1/1 c:\\Users\\pc\\OneDrive\\Documents\\Code\\MinecraftPorject\\mob-4\\test\\images\\2023-12-18_02-36-49_png.rf.8cacf9b681d25a881592352f25a4bd6c.jpg: 640x640 1 Creeper, 4.9ms\n",
      "Speed: 1.5ms preprocess, 4.9ms inference, 1.0ms postprocess per image at shape (1, 3, 640, 640)\n",
      "Results saved to \u001b[1mruns\\detect\\predict\u001b[0m\n",
      "Detected classes: {0: 'Creeper', 1: 'Enderman', 2: 'Fox', 3: 'Mooshroom', 4: 'Ocelot', 5: 'Panda', 6: 'Polar Bear', 7: 'Skeleton', 8: 'Slime', 9: 'Spider', 10: 'Witch', 11: 'Wither Skeleton', 12: 'Wolf', 13: 'Zombie', 14: 'Zombified Piglin', 15: 'bee', 16: 'chicken', 17: 'cow', 18: 'iron golem', 19: 'pig'}\n",
      "Bounding boxes (xyxy): tensor([[278.3229, 246.0431, 337.3791, 520.6321]], device='cuda:0')\n",
      "----------------------------------------\n",
      "Processing c:\\Users\\pc\\OneDrive\\Documents\\Code\\MinecraftPorject\\mob-4\\test\\images\\2023-12-18_02-37-02_png.rf.e843c82231affc1c26909586d66ab260.jpg...\n",
      "\n",
      "image 1/1 c:\\Users\\pc\\OneDrive\\Documents\\Code\\MinecraftPorject\\mob-4\\test\\images\\2023-12-18_02-37-02_png.rf.e843c82231affc1c26909586d66ab260.jpg: 640x640 1 Creeper, 4.2ms\n",
      "Speed: 2.7ms preprocess, 4.2ms inference, 1.0ms postprocess per image at shape (1, 3, 640, 640)\n",
      "Results saved to \u001b[1mruns\\detect\\predict\u001b[0m\n",
      "Detected classes: {0: 'Creeper', 1: 'Enderman', 2: 'Fox', 3: 'Mooshroom', 4: 'Ocelot', 5: 'Panda', 6: 'Polar Bear', 7: 'Skeleton', 8: 'Slime', 9: 'Spider', 10: 'Witch', 11: 'Wither Skeleton', 12: 'Wolf', 13: 'Zombie', 14: 'Zombified Piglin', 15: 'bee', 16: 'chicken', 17: 'cow', 18: 'iron golem', 19: 'pig'}\n",
      "Bounding boxes (xyxy): tensor([[278.7064, 203.5004, 349.6946, 459.6118]], device='cuda:0')\n",
      "----------------------------------------\n",
      "Processing c:\\Users\\pc\\OneDrive\\Documents\\Code\\MinecraftPorject\\mob-4\\test\\images\\2023-12-18_02-47-58_png.rf.edcf75ff838d9af9bec292a49efb60ff.jpg...\n",
      "\n",
      "image 1/1 c:\\Users\\pc\\OneDrive\\Documents\\Code\\MinecraftPorject\\mob-4\\test\\images\\2023-12-18_02-47-58_png.rf.edcf75ff838d9af9bec292a49efb60ff.jpg: 640x640 1 Skeleton, 3.7ms\n",
      "Speed: 1.5ms preprocess, 3.7ms inference, 1.0ms postprocess per image at shape (1, 3, 640, 640)\n",
      "Results saved to \u001b[1mruns\\detect\\predict\u001b[0m\n",
      "Detected classes: {0: 'Creeper', 1: 'Enderman', 2: 'Fox', 3: 'Mooshroom', 4: 'Ocelot', 5: 'Panda', 6: 'Polar Bear', 7: 'Skeleton', 8: 'Slime', 9: 'Spider', 10: 'Witch', 11: 'Wither Skeleton', 12: 'Wolf', 13: 'Zombie', 14: 'Zombified Piglin', 15: 'bee', 16: 'chicken', 17: 'cow', 18: 'iron golem', 19: 'pig'}\n",
      "Bounding boxes (xyxy): tensor([[273.9755, 182.0746, 341.2215, 493.4915]], device='cuda:0')\n",
      "----------------------------------------\n",
      "Processing c:\\Users\\pc\\OneDrive\\Documents\\Code\\MinecraftPorject\\mob-4\\test\\images\\2023-12-18_02-54-13_png.rf.e49df2b0891dc18ff8d2b18ada139086.jpg...\n",
      "\n",
      "image 1/1 c:\\Users\\pc\\OneDrive\\Documents\\Code\\MinecraftPorject\\mob-4\\test\\images\\2023-12-18_02-54-13_png.rf.e49df2b0891dc18ff8d2b18ada139086.jpg: 640x640 1 Zombified Piglin, 1 cow, 4.7ms\n",
      "Speed: 1.9ms preprocess, 4.7ms inference, 2.4ms postprocess per image at shape (1, 3, 640, 640)\n",
      "Results saved to \u001b[1mruns\\detect\\predict\u001b[0m\n",
      "Detected classes: {0: 'Creeper', 1: 'Enderman', 2: 'Fox', 3: 'Mooshroom', 4: 'Ocelot', 5: 'Panda', 6: 'Polar Bear', 7: 'Skeleton', 8: 'Slime', 9: 'Spider', 10: 'Witch', 11: 'Wither Skeleton', 12: 'Wolf', 13: 'Zombie', 14: 'Zombified Piglin', 15: 'bee', 16: 'chicken', 17: 'cow', 18: 'iron golem', 19: 'pig'}\n",
      "Bounding boxes (xyxy): tensor([[288.1365, 183.8290, 372.1584, 448.7591],\n",
      "        [573.4938, 208.6232, 589.5509, 231.8001]], device='cuda:0')\n",
      "----------------------------------------\n",
      "Processing c:\\Users\\pc\\OneDrive\\Documents\\Code\\MinecraftPorject\\mob-4\\test\\images\\2023-12-18_02-54-14_png.rf.34d38c2243e18ce7e4b80b6aae3c8fc5.jpg...\n",
      "\n",
      "image 1/1 c:\\Users\\pc\\OneDrive\\Documents\\Code\\MinecraftPorject\\mob-4\\test\\images\\2023-12-18_02-54-14_png.rf.34d38c2243e18ce7e4b80b6aae3c8fc5.jpg: 640x640 1 Zombified Piglin, 5.1ms\n",
      "Speed: 1.6ms preprocess, 5.1ms inference, 1.0ms postprocess per image at shape (1, 3, 640, 640)\n",
      "Results saved to \u001b[1mruns\\detect\\predict\u001b[0m\n",
      "Detected classes: {0: 'Creeper', 1: 'Enderman', 2: 'Fox', 3: 'Mooshroom', 4: 'Ocelot', 5: 'Panda', 6: 'Polar Bear', 7: 'Skeleton', 8: 'Slime', 9: 'Spider', 10: 'Witch', 11: 'Wither Skeleton', 12: 'Wolf', 13: 'Zombie', 14: 'Zombified Piglin', 15: 'bee', 16: 'chicken', 17: 'cow', 18: 'iron golem', 19: 'pig'}\n",
      "Bounding boxes (xyxy): tensor([[260.2804, 185.3189, 332.9280, 452.7638]], device='cuda:0')\n",
      "----------------------------------------\n",
      "Processing c:\\Users\\pc\\OneDrive\\Documents\\Code\\MinecraftPorject\\mob-4\\test\\images\\2023-12-18_02-55-16_png.rf.37cd51ec017a157ac322935382eca574.jpg...\n",
      "\n",
      "image 1/1 c:\\Users\\pc\\OneDrive\\Documents\\Code\\MinecraftPorject\\mob-4\\test\\images\\2023-12-18_02-55-16_png.rf.37cd51ec017a157ac322935382eca574.jpg: 640x640 1 Witch, 3.0ms\n",
      "Speed: 1.7ms preprocess, 3.0ms inference, 1.0ms postprocess per image at shape (1, 3, 640, 640)\n",
      "Results saved to \u001b[1mruns\\detect\\predict\u001b[0m\n",
      "Detected classes: {0: 'Creeper', 1: 'Enderman', 2: 'Fox', 3: 'Mooshroom', 4: 'Ocelot', 5: 'Panda', 6: 'Polar Bear', 7: 'Skeleton', 8: 'Slime', 9: 'Spider', 10: 'Witch', 11: 'Wither Skeleton', 12: 'Wolf', 13: 'Zombie', 14: 'Zombified Piglin', 15: 'bee', 16: 'chicken', 17: 'cow', 18: 'iron golem', 19: 'pig'}\n",
      "Bounding boxes (xyxy): tensor([[264.6802,  85.2859, 340.3227, 498.8413]], device='cuda:0')\n",
      "----------------------------------------\n",
      "Processing c:\\Users\\pc\\OneDrive\\Documents\\Code\\MinecraftPorject\\mob-4\\test\\images\\2023-12-18_02-57-37_png.rf.9cdd54c0272ff76b13aef08cea0059b6.jpg...\n",
      "\n",
      "image 1/1 c:\\Users\\pc\\OneDrive\\Documents\\Code\\MinecraftPorject\\mob-4\\test\\images\\2023-12-18_02-57-37_png.rf.9cdd54c0272ff76b13aef08cea0059b6.jpg: 640x640 1 Enderman, 4.0ms\n",
      "Speed: 1.6ms preprocess, 4.0ms inference, 0.8ms postprocess per image at shape (1, 3, 640, 640)\n",
      "Results saved to \u001b[1mruns\\detect\\predict\u001b[0m\n",
      "Detected classes: {0: 'Creeper', 1: 'Enderman', 2: 'Fox', 3: 'Mooshroom', 4: 'Ocelot', 5: 'Panda', 6: 'Polar Bear', 7: 'Skeleton', 8: 'Slime', 9: 'Spider', 10: 'Witch', 11: 'Wither Skeleton', 12: 'Wolf', 13: 'Zombie', 14: 'Zombified Piglin', 15: 'bee', 16: 'chicken', 17: 'cow', 18: 'iron golem', 19: 'pig'}\n",
      "Bounding boxes (xyxy): tensor([[272.8825,  78.7934, 361.0400, 497.5787]], device='cuda:0')\n",
      "----------------------------------------\n",
      "Processing c:\\Users\\pc\\OneDrive\\Documents\\Code\\MinecraftPorject\\mob-4\\test\\images\\2023-12-18_02-58-35_png.rf.2e61a20eb8b53b8d86d52c0d5cd7cb30.jpg...\n",
      "\n",
      "image 1/1 c:\\Users\\pc\\OneDrive\\Documents\\Code\\MinecraftPorject\\mob-4\\test\\images\\2023-12-18_02-58-35_png.rf.2e61a20eb8b53b8d86d52c0d5cd7cb30.jpg: 640x640 1 Spider, 5.6ms\n",
      "Speed: 1.5ms preprocess, 5.6ms inference, 0.9ms postprocess per image at shape (1, 3, 640, 640)\n",
      "Results saved to \u001b[1mruns\\detect\\predict\u001b[0m\n",
      "Detected classes: {0: 'Creeper', 1: 'Enderman', 2: 'Fox', 3: 'Mooshroom', 4: 'Ocelot', 5: 'Panda', 6: 'Polar Bear', 7: 'Skeleton', 8: 'Slime', 9: 'Spider', 10: 'Witch', 11: 'Wither Skeleton', 12: 'Wolf', 13: 'Zombie', 14: 'Zombified Piglin', 15: 'bee', 16: 'chicken', 17: 'cow', 18: 'iron golem', 19: 'pig'}\n",
      "Bounding boxes (xyxy): tensor([[224.7495, 179.0684, 392.1525, 420.6856]], device='cuda:0')\n",
      "----------------------------------------\n",
      "Processing c:\\Users\\pc\\OneDrive\\Documents\\Code\\MinecraftPorject\\mob-4\\test\\images\\2023-12-18_17-42-03_png.rf.26c998cf759b75ce2f81a3254ca795a0.jpg...\n",
      "\n",
      "image 1/1 c:\\Users\\pc\\OneDrive\\Documents\\Code\\MinecraftPorject\\mob-4\\test\\images\\2023-12-18_17-42-03_png.rf.26c998cf759b75ce2f81a3254ca795a0.jpg: 640x640 1 pig, 3.0ms\n",
      "Speed: 1.6ms preprocess, 3.0ms inference, 0.8ms postprocess per image at shape (1, 3, 640, 640)\n",
      "Results saved to \u001b[1mruns\\detect\\predict\u001b[0m\n",
      "Detected classes: {0: 'Creeper', 1: 'Enderman', 2: 'Fox', 3: 'Mooshroom', 4: 'Ocelot', 5: 'Panda', 6: 'Polar Bear', 7: 'Skeleton', 8: 'Slime', 9: 'Spider', 10: 'Witch', 11: 'Wither Skeleton', 12: 'Wolf', 13: 'Zombie', 14: 'Zombified Piglin', 15: 'bee', 16: 'chicken', 17: 'cow', 18: 'iron golem', 19: 'pig'}\n",
      "Bounding boxes (xyxy): tensor([[250.8527, 187.3887, 387.4019, 376.1357]], device='cuda:0')\n",
      "----------------------------------------\n",
      "Processing c:\\Users\\pc\\OneDrive\\Documents\\Code\\MinecraftPorject\\mob-4\\test\\images\\2023-12-18_17-43-25_png.rf.785897d91ee603997a4a2751ae3118ae.jpg...\n",
      "\n",
      "image 1/1 c:\\Users\\pc\\OneDrive\\Documents\\Code\\MinecraftPorject\\mob-4\\test\\images\\2023-12-18_17-43-25_png.rf.785897d91ee603997a4a2751ae3118ae.jpg: 640x640 1 Mooshroom, 4.8ms\n",
      "Speed: 1.6ms preprocess, 4.8ms inference, 0.8ms postprocess per image at shape (1, 3, 640, 640)\n",
      "Results saved to \u001b[1mruns\\detect\\predict\u001b[0m\n",
      "Detected classes: {0: 'Creeper', 1: 'Enderman', 2: 'Fox', 3: 'Mooshroom', 4: 'Ocelot', 5: 'Panda', 6: 'Polar Bear', 7: 'Skeleton', 8: 'Slime', 9: 'Spider', 10: 'Witch', 11: 'Wither Skeleton', 12: 'Wolf', 13: 'Zombie', 14: 'Zombified Piglin', 15: 'bee', 16: 'chicken', 17: 'cow', 18: 'iron golem', 19: 'pig'}\n",
      "Bounding boxes (xyxy): tensor([[261.4178, 129.0936, 417.5006, 448.4569]], device='cuda:0')\n",
      "----------------------------------------\n",
      "Processing c:\\Users\\pc\\OneDrive\\Documents\\Code\\MinecraftPorject\\mob-4\\test\\images\\2023-12-18_17-43-29_png.rf.61b08224acb0c704355ae2e986aa661b.jpg...\n",
      "\n",
      "image 1/1 c:\\Users\\pc\\OneDrive\\Documents\\Code\\MinecraftPorject\\mob-4\\test\\images\\2023-12-18_17-43-29_png.rf.61b08224acb0c704355ae2e986aa661b.jpg: 640x640 1 Mooshroom, 3.1ms\n",
      "Speed: 1.6ms preprocess, 3.1ms inference, 1.4ms postprocess per image at shape (1, 3, 640, 640)\n",
      "Results saved to \u001b[1mruns\\detect\\predict\u001b[0m\n",
      "Detected classes: {0: 'Creeper', 1: 'Enderman', 2: 'Fox', 3: 'Mooshroom', 4: 'Ocelot', 5: 'Panda', 6: 'Polar Bear', 7: 'Skeleton', 8: 'Slime', 9: 'Spider', 10: 'Witch', 11: 'Wither Skeleton', 12: 'Wolf', 13: 'Zombie', 14: 'Zombified Piglin', 15: 'bee', 16: 'chicken', 17: 'cow', 18: 'iron golem', 19: 'pig'}\n",
      "Bounding boxes (xyxy): tensor([[258.3452, 131.7564, 402.2286, 437.9293]], device='cuda:0')\n",
      "----------------------------------------\n",
      "Processing c:\\Users\\pc\\OneDrive\\Documents\\Code\\MinecraftPorject\\mob-4\\test\\images\\2023-12-18_17-50-01_png.rf.5ebd7e1c8e0f87a7928f244b006ee75a.jpg...\n",
      "\n",
      "image 1/1 c:\\Users\\pc\\OneDrive\\Documents\\Code\\MinecraftPorject\\mob-4\\test\\images\\2023-12-18_17-50-01_png.rf.5ebd7e1c8e0f87a7928f244b006ee75a.jpg: 640x640 1 iron golem, 5.1ms\n",
      "Speed: 2.5ms preprocess, 5.1ms inference, 1.7ms postprocess per image at shape (1, 3, 640, 640)\n",
      "Results saved to \u001b[1mruns\\detect\\predict\u001b[0m\n",
      "Detected classes: {0: 'Creeper', 1: 'Enderman', 2: 'Fox', 3: 'Mooshroom', 4: 'Ocelot', 5: 'Panda', 6: 'Polar Bear', 7: 'Skeleton', 8: 'Slime', 9: 'Spider', 10: 'Witch', 11: 'Wither Skeleton', 12: 'Wolf', 13: 'Zombie', 14: 'Zombified Piglin', 15: 'bee', 16: 'chicken', 17: 'cow', 18: 'iron golem', 19: 'pig'}\n",
      "Bounding boxes (xyxy): tensor([[231.8681,  97.5282, 380.8438, 514.9956]], device='cuda:0')\n",
      "----------------------------------------\n",
      "Processing c:\\Users\\pc\\OneDrive\\Documents\\Code\\MinecraftPorject\\mob-4\\test\\images\\2023-12-18_17-50-11_png.rf.2fb2bd8b1599b39a11c8cced16d68e2d.jpg...\n",
      "\n",
      "image 1/1 c:\\Users\\pc\\OneDrive\\Documents\\Code\\MinecraftPorject\\mob-4\\test\\images\\2023-12-18_17-50-11_png.rf.2fb2bd8b1599b39a11c8cced16d68e2d.jpg: 640x640 1 iron golem, 4.3ms\n",
      "Speed: 1.7ms preprocess, 4.3ms inference, 1.2ms postprocess per image at shape (1, 3, 640, 640)\n",
      "Results saved to \u001b[1mruns\\detect\\predict\u001b[0m\n",
      "Detected classes: {0: 'Creeper', 1: 'Enderman', 2: 'Fox', 3: 'Mooshroom', 4: 'Ocelot', 5: 'Panda', 6: 'Polar Bear', 7: 'Skeleton', 8: 'Slime', 9: 'Spider', 10: 'Witch', 11: 'Wither Skeleton', 12: 'Wolf', 13: 'Zombie', 14: 'Zombified Piglin', 15: 'bee', 16: 'chicken', 17: 'cow', 18: 'iron golem', 19: 'pig'}\n",
      "Bounding boxes (xyxy): tensor([[270.1323, 112.7439, 396.2314, 548.6860]], device='cuda:0')\n",
      "----------------------------------------\n",
      "Processing c:\\Users\\pc\\OneDrive\\Documents\\Code\\MinecraftPorject\\mob-4\\test\\images\\2023-12-18_17-51-57_png.rf.f388b8f86552e2bdfe17ef192de115f3.jpg...\n",
      "\n",
      "image 1/1 c:\\Users\\pc\\OneDrive\\Documents\\Code\\MinecraftPorject\\mob-4\\test\\images\\2023-12-18_17-51-57_png.rf.f388b8f86552e2bdfe17ef192de115f3.jpg: 640x640 1 Wolf, 5.2ms\n",
      "Speed: 1.7ms preprocess, 5.2ms inference, 1.1ms postprocess per image at shape (1, 3, 640, 640)\n",
      "Results saved to \u001b[1mruns\\detect\\predict\u001b[0m\n",
      "Detected classes: {0: 'Creeper', 1: 'Enderman', 2: 'Fox', 3: 'Mooshroom', 4: 'Ocelot', 5: 'Panda', 6: 'Polar Bear', 7: 'Skeleton', 8: 'Slime', 9: 'Spider', 10: 'Witch', 11: 'Wither Skeleton', 12: 'Wolf', 13: 'Zombie', 14: 'Zombified Piglin', 15: 'bee', 16: 'chicken', 17: 'cow', 18: 'iron golem', 19: 'pig'}\n",
      "Bounding boxes (xyxy): tensor([[302.2085, 196.9285, 414.3109, 415.9482]], device='cuda:0')\n",
      "----------------------------------------\n",
      "Processing c:\\Users\\pc\\OneDrive\\Documents\\Code\\MinecraftPorject\\mob-4\\test\\images\\2023-12-18_17-53-33_png.rf.6ab907404fb0df94d79f5fd6184cc870.jpg...\n",
      "\n",
      "image 1/1 c:\\Users\\pc\\OneDrive\\Documents\\Code\\MinecraftPorject\\mob-4\\test\\images\\2023-12-18_17-53-33_png.rf.6ab907404fb0df94d79f5fd6184cc870.jpg: 640x640 1 bee, 3.0ms\n",
      "Speed: 1.8ms preprocess, 3.0ms inference, 0.8ms postprocess per image at shape (1, 3, 640, 640)\n",
      "Results saved to \u001b[1mruns\\detect\\predict\u001b[0m\n",
      "Detected classes: {0: 'Creeper', 1: 'Enderman', 2: 'Fox', 3: 'Mooshroom', 4: 'Ocelot', 5: 'Panda', 6: 'Polar Bear', 7: 'Skeleton', 8: 'Slime', 9: 'Spider', 10: 'Witch', 11: 'Wither Skeleton', 12: 'Wolf', 13: 'Zombie', 14: 'Zombified Piglin', 15: 'bee', 16: 'chicken', 17: 'cow', 18: 'iron golem', 19: 'pig'}\n",
      "Bounding boxes (xyxy): tensor([[284.0341, 209.3344, 391.4920, 367.0237]], device='cuda:0')\n",
      "----------------------------------------\n",
      "Processing c:\\Users\\pc\\OneDrive\\Documents\\Code\\MinecraftPorject\\mob-4\\test\\images\\2023-12-18_17-53-37_png.rf.96e436a9303de93693803f2274a0bee9.jpg...\n",
      "\n",
      "image 1/1 c:\\Users\\pc\\OneDrive\\Documents\\Code\\MinecraftPorject\\mob-4\\test\\images\\2023-12-18_17-53-37_png.rf.96e436a9303de93693803f2274a0bee9.jpg: 640x640 1 bee, 5.3ms\n",
      "Speed: 1.6ms preprocess, 5.3ms inference, 2.6ms postprocess per image at shape (1, 3, 640, 640)\n",
      "Results saved to \u001b[1mruns\\detect\\predict\u001b[0m\n",
      "Detected classes: {0: 'Creeper', 1: 'Enderman', 2: 'Fox', 3: 'Mooshroom', 4: 'Ocelot', 5: 'Panda', 6: 'Polar Bear', 7: 'Skeleton', 8: 'Slime', 9: 'Spider', 10: 'Witch', 11: 'Wither Skeleton', 12: 'Wolf', 13: 'Zombie', 14: 'Zombified Piglin', 15: 'bee', 16: 'chicken', 17: 'cow', 18: 'iron golem', 19: 'pig'}\n",
      "Bounding boxes (xyxy): tensor([[271.3165, 182.4816, 376.9500, 371.9301]], device='cuda:0')\n",
      "----------------------------------------\n",
      "Processing c:\\Users\\pc\\OneDrive\\Documents\\Code\\MinecraftPorject\\mob-4\\test\\images\\2023-12-18_17-55-56_png.rf.21885dfb5d9b3695a68f664540ce7023.jpg...\n",
      "\n",
      "image 1/1 c:\\Users\\pc\\OneDrive\\Documents\\Code\\MinecraftPorject\\mob-4\\test\\images\\2023-12-18_17-55-56_png.rf.21885dfb5d9b3695a68f664540ce7023.jpg: 640x640 1 Panda, 4.5ms\n",
      "Speed: 1.6ms preprocess, 4.5ms inference, 1.0ms postprocess per image at shape (1, 3, 640, 640)\n",
      "Results saved to \u001b[1mruns\\detect\\predict\u001b[0m\n",
      "Detected classes: {0: 'Creeper', 1: 'Enderman', 2: 'Fox', 3: 'Mooshroom', 4: 'Ocelot', 5: 'Panda', 6: 'Polar Bear', 7: 'Skeleton', 8: 'Slime', 9: 'Spider', 10: 'Witch', 11: 'Wither Skeleton', 12: 'Wolf', 13: 'Zombie', 14: 'Zombified Piglin', 15: 'bee', 16: 'chicken', 17: 'cow', 18: 'iron golem', 19: 'pig'}\n",
      "Bounding boxes (xyxy): tensor([[198.3783, 195.0881, 382.1743, 406.8392]], device='cuda:0')\n",
      "----------------------------------------\n",
      "Processing c:\\Users\\pc\\OneDrive\\Documents\\Code\\MinecraftPorject\\mob-4\\test\\images\\2023-12-18_17-57-04_png.rf.74b22b761df70fd602dec500c262bb45.jpg...\n",
      "\n",
      "image 1/1 c:\\Users\\pc\\OneDrive\\Documents\\Code\\MinecraftPorject\\mob-4\\test\\images\\2023-12-18_17-57-04_png.rf.74b22b761df70fd602dec500c262bb45.jpg: 640x640 1 Creeper, 4.7ms\n",
      "Speed: 1.5ms preprocess, 4.7ms inference, 0.8ms postprocess per image at shape (1, 3, 640, 640)\n",
      "Results saved to \u001b[1mruns\\detect\\predict\u001b[0m\n",
      "Detected classes: {0: 'Creeper', 1: 'Enderman', 2: 'Fox', 3: 'Mooshroom', 4: 'Ocelot', 5: 'Panda', 6: 'Polar Bear', 7: 'Skeleton', 8: 'Slime', 9: 'Spider', 10: 'Witch', 11: 'Wither Skeleton', 12: 'Wolf', 13: 'Zombie', 14: 'Zombified Piglin', 15: 'bee', 16: 'chicken', 17: 'cow', 18: 'iron golem', 19: 'pig'}\n",
      "Bounding boxes (xyxy): tensor([[297.8836, 210.8890, 370.0867, 441.2742]], device='cuda:0')\n",
      "----------------------------------------\n",
      "Processing c:\\Users\\pc\\OneDrive\\Documents\\Code\\MinecraftPorject\\mob-4\\test\\images\\2023-12-18_18-03-39_png.rf.62e2c83a1d8dae01a54c1d48d3685304.jpg...\n",
      "\n",
      "image 1/1 c:\\Users\\pc\\OneDrive\\Documents\\Code\\MinecraftPorject\\mob-4\\test\\images\\2023-12-18_18-03-39_png.rf.62e2c83a1d8dae01a54c1d48d3685304.jpg: 640x640 1 Witch, 3.1ms\n",
      "Speed: 1.6ms preprocess, 3.1ms inference, 1.0ms postprocess per image at shape (1, 3, 640, 640)\n",
      "Results saved to \u001b[1mruns\\detect\\predict\u001b[0m\n",
      "Detected classes: {0: 'Creeper', 1: 'Enderman', 2: 'Fox', 3: 'Mooshroom', 4: 'Ocelot', 5: 'Panda', 6: 'Polar Bear', 7: 'Skeleton', 8: 'Slime', 9: 'Spider', 10: 'Witch', 11: 'Wither Skeleton', 12: 'Wolf', 13: 'Zombie', 14: 'Zombified Piglin', 15: 'bee', 16: 'chicken', 17: 'cow', 18: 'iron golem', 19: 'pig'}\n",
      "Bounding boxes (xyxy): tensor([[263.1891,  92.7472, 358.7914, 493.7607]], device='cuda:0')\n",
      "----------------------------------------\n",
      "Processing c:\\Users\\pc\\OneDrive\\Documents\\Code\\MinecraftPorject\\mob-4\\test\\images\\2023-12-18_18-06-12_png.rf.d5de73a6a709c56a3276bc060309ec99.jpg...\n",
      "\n",
      "image 1/1 c:\\Users\\pc\\OneDrive\\Documents\\Code\\MinecraftPorject\\mob-4\\test\\images\\2023-12-18_18-06-12_png.rf.d5de73a6a709c56a3276bc060309ec99.jpg: 640x640 1 Enderman, 6.5ms\n",
      "Speed: 1.6ms preprocess, 6.5ms inference, 1.3ms postprocess per image at shape (1, 3, 640, 640)\n",
      "Results saved to \u001b[1mruns\\detect\\predict\u001b[0m\n",
      "Detected classes: {0: 'Creeper', 1: 'Enderman', 2: 'Fox', 3: 'Mooshroom', 4: 'Ocelot', 5: 'Panda', 6: 'Polar Bear', 7: 'Skeleton', 8: 'Slime', 9: 'Spider', 10: 'Witch', 11: 'Wither Skeleton', 12: 'Wolf', 13: 'Zombie', 14: 'Zombified Piglin', 15: 'bee', 16: 'chicken', 17: 'cow', 18: 'iron golem', 19: 'pig'}\n",
      "Bounding boxes (xyxy): tensor([[295.8395,  75.8225, 359.8634, 538.0815]], device='cuda:0')\n",
      "----------------------------------------\n",
      "Processing c:\\Users\\pc\\OneDrive\\Documents\\Code\\MinecraftPorject\\mob-4\\test\\images\\2023-12-18_18-07-26_png.rf.725462bcb786047f9b35239cafa3225f.jpg...\n",
      "\n",
      "image 1/1 c:\\Users\\pc\\OneDrive\\Documents\\Code\\MinecraftPorject\\mob-4\\test\\images\\2023-12-18_18-07-26_png.rf.725462bcb786047f9b35239cafa3225f.jpg: 640x640 1 Spider, 5.0ms\n",
      "Speed: 1.6ms preprocess, 5.0ms inference, 0.8ms postprocess per image at shape (1, 3, 640, 640)\n",
      "Results saved to \u001b[1mruns\\detect\\predict\u001b[0m\n",
      "Detected classes: {0: 'Creeper', 1: 'Enderman', 2: 'Fox', 3: 'Mooshroom', 4: 'Ocelot', 5: 'Panda', 6: 'Polar Bear', 7: 'Skeleton', 8: 'Slime', 9: 'Spider', 10: 'Witch', 11: 'Wither Skeleton', 12: 'Wolf', 13: 'Zombie', 14: 'Zombified Piglin', 15: 'bee', 16: 'chicken', 17: 'cow', 18: 'iron golem', 19: 'pig'}\n",
      "Bounding boxes (xyxy): tensor([[251.5555, 182.2288, 414.2545, 383.2274]], device='cuda:0')\n",
      "----------------------------------------\n",
      "Processing c:\\Users\\pc\\OneDrive\\Documents\\Code\\MinecraftPorject\\mob-4\\test\\images\\2023-12-18_20-53-05_png.rf.79c1b982d9ff886f4ff8060735512615.jpg...\n",
      "\n",
      "image 1/1 c:\\Users\\pc\\OneDrive\\Documents\\Code\\MinecraftPorject\\mob-4\\test\\images\\2023-12-18_20-53-05_png.rf.79c1b982d9ff886f4ff8060735512615.jpg: 640x640 1 cow, 6.0ms\n",
      "Speed: 1.6ms preprocess, 6.0ms inference, 1.0ms postprocess per image at shape (1, 3, 640, 640)\n",
      "Results saved to \u001b[1mruns\\detect\\predict\u001b[0m\n",
      "Detected classes: {0: 'Creeper', 1: 'Enderman', 2: 'Fox', 3: 'Mooshroom', 4: 'Ocelot', 5: 'Panda', 6: 'Polar Bear', 7: 'Skeleton', 8: 'Slime', 9: 'Spider', 10: 'Witch', 11: 'Wither Skeleton', 12: 'Wolf', 13: 'Zombie', 14: 'Zombified Piglin', 15: 'bee', 16: 'chicken', 17: 'cow', 18: 'iron golem', 19: 'pig'}\n",
      "Bounding boxes (xyxy): tensor([[234.1901, 259.3703, 387.6104, 542.7598]], device='cuda:0')\n",
      "----------------------------------------\n",
      "Processing c:\\Users\\pc\\OneDrive\\Documents\\Code\\MinecraftPorject\\mob-4\\test\\images\\2023-12-18_20-54-43_png.rf.2df9880a878cba9b938729912b2d4399.jpg...\n",
      "\n",
      "image 1/1 c:\\Users\\pc\\OneDrive\\Documents\\Code\\MinecraftPorject\\mob-4\\test\\images\\2023-12-18_20-54-43_png.rf.2df9880a878cba9b938729912b2d4399.jpg: 640x640 1 chicken, 4.7ms\n",
      "Speed: 1.6ms preprocess, 4.7ms inference, 0.8ms postprocess per image at shape (1, 3, 640, 640)\n",
      "Results saved to \u001b[1mruns\\detect\\predict\u001b[0m\n",
      "Detected classes: {0: 'Creeper', 1: 'Enderman', 2: 'Fox', 3: 'Mooshroom', 4: 'Ocelot', 5: 'Panda', 6: 'Polar Bear', 7: 'Skeleton', 8: 'Slime', 9: 'Spider', 10: 'Witch', 11: 'Wither Skeleton', 12: 'Wolf', 13: 'Zombie', 14: 'Zombified Piglin', 15: 'bee', 16: 'chicken', 17: 'cow', 18: 'iron golem', 19: 'pig'}\n",
      "Bounding boxes (xyxy): tensor([[248.5918, 182.1199, 361.6731, 392.5951]], device='cuda:0')\n",
      "----------------------------------------\n",
      "Processing c:\\Users\\pc\\OneDrive\\Documents\\Code\\MinecraftPorject\\mob-4\\test\\images\\2023-12-18_20-55-31_png.rf.200eb7848382435f80a09021cb26bb0c.jpg...\n",
      "\n",
      "image 1/1 c:\\Users\\pc\\OneDrive\\Documents\\Code\\MinecraftPorject\\mob-4\\test\\images\\2023-12-18_20-55-31_png.rf.200eb7848382435f80a09021cb26bb0c.jpg: 640x640 1 pig, 4.8ms\n",
      "Speed: 1.8ms preprocess, 4.8ms inference, 1.1ms postprocess per image at shape (1, 3, 640, 640)\n",
      "Results saved to \u001b[1mruns\\detect\\predict\u001b[0m\n",
      "Detected classes: {0: 'Creeper', 1: 'Enderman', 2: 'Fox', 3: 'Mooshroom', 4: 'Ocelot', 5: 'Panda', 6: 'Polar Bear', 7: 'Skeleton', 8: 'Slime', 9: 'Spider', 10: 'Witch', 11: 'Wither Skeleton', 12: 'Wolf', 13: 'Zombie', 14: 'Zombified Piglin', 15: 'bee', 16: 'chicken', 17: 'cow', 18: 'iron golem', 19: 'pig'}\n",
      "Bounding boxes (xyxy): tensor([[250.0878, 211.4787, 392.6860, 451.2524]], device='cuda:0')\n",
      "----------------------------------------\n",
      "Processing c:\\Users\\pc\\OneDrive\\Documents\\Code\\MinecraftPorject\\mob-4\\test\\images\\2023-12-18_20-58-24_png.rf.d08d3eddf57deef30c05ccda2d6eae81.jpg...\n",
      "\n",
      "image 1/1 c:\\Users\\pc\\OneDrive\\Documents\\Code\\MinecraftPorject\\mob-4\\test\\images\\2023-12-18_20-58-24_png.rf.d08d3eddf57deef30c05ccda2d6eae81.jpg: 640x640 1 Fox, 6.1ms\n",
      "Speed: 1.8ms preprocess, 6.1ms inference, 1.3ms postprocess per image at shape (1, 3, 640, 640)\n",
      "Results saved to \u001b[1mruns\\detect\\predict\u001b[0m\n",
      "Detected classes: {0: 'Creeper', 1: 'Enderman', 2: 'Fox', 3: 'Mooshroom', 4: 'Ocelot', 5: 'Panda', 6: 'Polar Bear', 7: 'Skeleton', 8: 'Slime', 9: 'Spider', 10: 'Witch', 11: 'Wither Skeleton', 12: 'Wolf', 13: 'Zombie', 14: 'Zombified Piglin', 15: 'bee', 16: 'chicken', 17: 'cow', 18: 'iron golem', 19: 'pig'}\n",
      "Bounding boxes (xyxy): tensor([[296.1137, 196.4293, 401.8822, 349.1942]], device='cuda:0')\n",
      "----------------------------------------\n",
      "Processing c:\\Users\\pc\\OneDrive\\Documents\\Code\\MinecraftPorject\\mob-4\\test\\images\\2023-12-18_20-58-45_png.rf.29a7d7989b57e747135d5dd60d08155b.jpg...\n",
      "\n",
      "image 1/1 c:\\Users\\pc\\OneDrive\\Documents\\Code\\MinecraftPorject\\mob-4\\test\\images\\2023-12-18_20-58-45_png.rf.29a7d7989b57e747135d5dd60d08155b.jpg: 640x640 1 Fox, 3.7ms\n",
      "Speed: 1.6ms preprocess, 3.7ms inference, 0.9ms postprocess per image at shape (1, 3, 640, 640)\n",
      "Results saved to \u001b[1mruns\\detect\\predict\u001b[0m\n",
      "Detected classes: {0: 'Creeper', 1: 'Enderman', 2: 'Fox', 3: 'Mooshroom', 4: 'Ocelot', 5: 'Panda', 6: 'Polar Bear', 7: 'Skeleton', 8: 'Slime', 9: 'Spider', 10: 'Witch', 11: 'Wither Skeleton', 12: 'Wolf', 13: 'Zombie', 14: 'Zombified Piglin', 15: 'bee', 16: 'chicken', 17: 'cow', 18: 'iron golem', 19: 'pig'}\n",
      "Bounding boxes (xyxy): tensor([[258.9093, 218.0618, 370.2126, 354.0496]], device='cuda:0')\n",
      "----------------------------------------\n",
      "Processing c:\\Users\\pc\\OneDrive\\Documents\\Code\\MinecraftPorject\\mob-4\\test\\images\\2023-12-18_21-01-35_png.rf.e45a29e222f97d3c54c29598cfb02aa5.jpg...\n",
      "\n",
      "image 1/1 c:\\Users\\pc\\OneDrive\\Documents\\Code\\MinecraftPorject\\mob-4\\test\\images\\2023-12-18_21-01-35_png.rf.e45a29e222f97d3c54c29598cfb02aa5.jpg: 640x640 1 Wolf, 6.5ms\n",
      "Speed: 1.6ms preprocess, 6.5ms inference, 1.6ms postprocess per image at shape (1, 3, 640, 640)\n",
      "Results saved to \u001b[1mruns\\detect\\predict\u001b[0m\n",
      "Detected classes: {0: 'Creeper', 1: 'Enderman', 2: 'Fox', 3: 'Mooshroom', 4: 'Ocelot', 5: 'Panda', 6: 'Polar Bear', 7: 'Skeleton', 8: 'Slime', 9: 'Spider', 10: 'Witch', 11: 'Wither Skeleton', 12: 'Wolf', 13: 'Zombie', 14: 'Zombified Piglin', 15: 'bee', 16: 'chicken', 17: 'cow', 18: 'iron golem', 19: 'pig'}\n",
      "Bounding boxes (xyxy): tensor([[282.2529, 178.8599, 390.2018, 394.6311]], device='cuda:0')\n",
      "----------------------------------------\n",
      "Processing c:\\Users\\pc\\OneDrive\\Documents\\Code\\MinecraftPorject\\mob-4\\test\\images\\2023-12-18_21-03-28_png.rf.b047aa268fc1cadfa2894493b7447e3d.jpg...\n",
      "\n",
      "image 1/1 c:\\Users\\pc\\OneDrive\\Documents\\Code\\MinecraftPorject\\mob-4\\test\\images\\2023-12-18_21-03-28_png.rf.b047aa268fc1cadfa2894493b7447e3d.jpg: 640x640 1 Polar Bear, 3.8ms\n",
      "Speed: 1.7ms preprocess, 3.8ms inference, 0.8ms postprocess per image at shape (1, 3, 640, 640)\n",
      "Results saved to \u001b[1mruns\\detect\\predict\u001b[0m\n",
      "Detected classes: {0: 'Creeper', 1: 'Enderman', 2: 'Fox', 3: 'Mooshroom', 4: 'Ocelot', 5: 'Panda', 6: 'Polar Bear', 7: 'Skeleton', 8: 'Slime', 9: 'Spider', 10: 'Witch', 11: 'Wither Skeleton', 12: 'Wolf', 13: 'Zombie', 14: 'Zombified Piglin', 15: 'bee', 16: 'chicken', 17: 'cow', 18: 'iron golem', 19: 'pig'}\n",
      "Bounding boxes (xyxy): tensor([[197.9017, 172.5983, 399.9680, 491.5368]], device='cuda:0')\n",
      "----------------------------------------\n",
      "Processing c:\\Users\\pc\\OneDrive\\Documents\\Code\\MinecraftPorject\\mob-4\\test\\images\\2023-12-18_21-04-45_png.rf.622e89f57bcd964414e1ac79f077be5b.jpg...\n",
      "\n",
      "image 1/1 c:\\Users\\pc\\OneDrive\\Documents\\Code\\MinecraftPorject\\mob-4\\test\\images\\2023-12-18_21-04-45_png.rf.622e89f57bcd964414e1ac79f077be5b.jpg: 640x640 1 Panda, 3.2ms\n",
      "Speed: 1.7ms preprocess, 3.2ms inference, 2.4ms postprocess per image at shape (1, 3, 640, 640)\n",
      "Results saved to \u001b[1mruns\\detect\\predict\u001b[0m\n",
      "Detected classes: {0: 'Creeper', 1: 'Enderman', 2: 'Fox', 3: 'Mooshroom', 4: 'Ocelot', 5: 'Panda', 6: 'Polar Bear', 7: 'Skeleton', 8: 'Slime', 9: 'Spider', 10: 'Witch', 11: 'Wither Skeleton', 12: 'Wolf', 13: 'Zombie', 14: 'Zombified Piglin', 15: 'bee', 16: 'chicken', 17: 'cow', 18: 'iron golem', 19: 'pig'}\n",
      "Bounding boxes (xyxy): tensor([[246.4257, 217.4694, 409.6467, 466.0838]], device='cuda:0')\n",
      "----------------------------------------\n",
      "Processing c:\\Users\\pc\\OneDrive\\Documents\\Code\\MinecraftPorject\\mob-4\\test\\images\\2023-12-18_21-04-49_png.rf.fa93938202b615853940ff1c3e844819.jpg...\n",
      "\n",
      "image 1/1 c:\\Users\\pc\\OneDrive\\Documents\\Code\\MinecraftPorject\\mob-4\\test\\images\\2023-12-18_21-04-49_png.rf.fa93938202b615853940ff1c3e844819.jpg: 640x640 1 Panda, 3.1ms\n",
      "Speed: 1.7ms preprocess, 3.1ms inference, 0.9ms postprocess per image at shape (1, 3, 640, 640)\n",
      "Results saved to \u001b[1mruns\\detect\\predict\u001b[0m\n",
      "Detected classes: {0: 'Creeper', 1: 'Enderman', 2: 'Fox', 3: 'Mooshroom', 4: 'Ocelot', 5: 'Panda', 6: 'Polar Bear', 7: 'Skeleton', 8: 'Slime', 9: 'Spider', 10: 'Witch', 11: 'Wither Skeleton', 12: 'Wolf', 13: 'Zombie', 14: 'Zombified Piglin', 15: 'bee', 16: 'chicken', 17: 'cow', 18: 'iron golem', 19: 'pig'}\n",
      "Bounding boxes (xyxy): tensor([[248.7921, 201.8896, 394.2330, 406.5825]], device='cuda:0')\n",
      "----------------------------------------\n",
      "Processing c:\\Users\\pc\\OneDrive\\Documents\\Code\\MinecraftPorject\\mob-4\\test\\images\\2023-12-18_21-05-31_png.rf.25f9ba822560a91c94b531155bd712d9.jpg...\n",
      "\n",
      "image 1/1 c:\\Users\\pc\\OneDrive\\Documents\\Code\\MinecraftPorject\\mob-4\\test\\images\\2023-12-18_21-05-31_png.rf.25f9ba822560a91c94b531155bd712d9.jpg: 640x640 1 Creeper, 4.9ms\n",
      "Speed: 1.5ms preprocess, 4.9ms inference, 0.9ms postprocess per image at shape (1, 3, 640, 640)\n",
      "Results saved to \u001b[1mruns\\detect\\predict\u001b[0m\n",
      "Detected classes: {0: 'Creeper', 1: 'Enderman', 2: 'Fox', 3: 'Mooshroom', 4: 'Ocelot', 5: 'Panda', 6: 'Polar Bear', 7: 'Skeleton', 8: 'Slime', 9: 'Spider', 10: 'Witch', 11: 'Wither Skeleton', 12: 'Wolf', 13: 'Zombie', 14: 'Zombified Piglin', 15: 'bee', 16: 'chicken', 17: 'cow', 18: 'iron golem', 19: 'pig'}\n",
      "Bounding boxes (xyxy): tensor([[278.0674, 119.6407, 358.4813, 495.8659]], device='cuda:0')\n",
      "----------------------------------------\n",
      "Processing c:\\Users\\pc\\OneDrive\\Documents\\Code\\MinecraftPorject\\mob-4\\test\\images\\2023-12-18_21-08-25_png.rf.990a58fd75d15d2fe66e86878ce563b9.jpg...\n",
      "\n",
      "image 1/1 c:\\Users\\pc\\OneDrive\\Documents\\Code\\MinecraftPorject\\mob-4\\test\\images\\2023-12-18_21-08-25_png.rf.990a58fd75d15d2fe66e86878ce563b9.jpg: 640x640 1 Skeleton, 6.7ms\n",
      "Speed: 2.9ms preprocess, 6.7ms inference, 1.0ms postprocess per image at shape (1, 3, 640, 640)\n",
      "Results saved to \u001b[1mruns\\detect\\predict\u001b[0m\n",
      "Detected classes: {0: 'Creeper', 1: 'Enderman', 2: 'Fox', 3: 'Mooshroom', 4: 'Ocelot', 5: 'Panda', 6: 'Polar Bear', 7: 'Skeleton', 8: 'Slime', 9: 'Spider', 10: 'Witch', 11: 'Wither Skeleton', 12: 'Wolf', 13: 'Zombie', 14: 'Zombified Piglin', 15: 'bee', 16: 'chicken', 17: 'cow', 18: 'iron golem', 19: 'pig'}\n",
      "Bounding boxes (xyxy): tensor([[265.2032, 192.0332, 326.2108, 492.7564]], device='cuda:0')\n",
      "----------------------------------------\n",
      "Processing c:\\Users\\pc\\OneDrive\\Documents\\Code\\MinecraftPorject\\mob-4\\test\\images\\2023-12-18_21-10-25_png.rf.bf5246355ce3d079e0dd52439285292a.jpg...\n",
      "\n",
      "image 1/1 c:\\Users\\pc\\OneDrive\\Documents\\Code\\MinecraftPorject\\mob-4\\test\\images\\2023-12-18_21-10-25_png.rf.bf5246355ce3d079e0dd52439285292a.jpg: 640x640 1 Zombified Piglin, 3.3ms\n",
      "Speed: 1.7ms preprocess, 3.3ms inference, 2.4ms postprocess per image at shape (1, 3, 640, 640)\n",
      "Results saved to \u001b[1mruns\\detect\\predict\u001b[0m\n",
      "Detected classes: {0: 'Creeper', 1: 'Enderman', 2: 'Fox', 3: 'Mooshroom', 4: 'Ocelot', 5: 'Panda', 6: 'Polar Bear', 7: 'Skeleton', 8: 'Slime', 9: 'Spider', 10: 'Witch', 11: 'Wither Skeleton', 12: 'Wolf', 13: 'Zombie', 14: 'Zombified Piglin', 15: 'bee', 16: 'chicken', 17: 'cow', 18: 'iron golem', 19: 'pig'}\n",
      "Bounding boxes (xyxy): tensor([[249.6863, 128.8785, 364.9819, 499.0029]], device='cuda:0')\n",
      "----------------------------------------\n",
      "Processing c:\\Users\\pc\\OneDrive\\Documents\\Code\\MinecraftPorject\\mob-4\\test\\images\\2023-12-18_21-12-23_png.rf.6828dcd53efabedfae46a78e2e187489.jpg...\n",
      "\n",
      "image 1/1 c:\\Users\\pc\\OneDrive\\Documents\\Code\\MinecraftPorject\\mob-4\\test\\images\\2023-12-18_21-12-23_png.rf.6828dcd53efabedfae46a78e2e187489.jpg: 640x640 1 Wither Skeleton, 3.0ms\n",
      "Speed: 1.7ms preprocess, 3.0ms inference, 1.4ms postprocess per image at shape (1, 3, 640, 640)\n",
      "Results saved to \u001b[1mruns\\detect\\predict\u001b[0m\n",
      "Detected classes: {0: 'Creeper', 1: 'Enderman', 2: 'Fox', 3: 'Mooshroom', 4: 'Ocelot', 5: 'Panda', 6: 'Polar Bear', 7: 'Skeleton', 8: 'Slime', 9: 'Spider', 10: 'Witch', 11: 'Wither Skeleton', 12: 'Wolf', 13: 'Zombie', 14: 'Zombified Piglin', 15: 'bee', 16: 'chicken', 17: 'cow', 18: 'iron golem', 19: 'pig'}\n",
      "Bounding boxes (xyxy): tensor([[272.9579, 140.2065, 362.4205, 508.7914]], device='cuda:0')\n",
      "----------------------------------------\n",
      "Processing c:\\Users\\pc\\OneDrive\\Documents\\Code\\MinecraftPorject\\mob-4\\test\\images\\2023-12-18_21-12-25_png.rf.fb92066eca82e12243f1016e81dfc728.jpg...\n",
      "\n",
      "image 1/1 c:\\Users\\pc\\OneDrive\\Documents\\Code\\MinecraftPorject\\mob-4\\test\\images\\2023-12-18_21-12-25_png.rf.fb92066eca82e12243f1016e81dfc728.jpg: 640x640 1 Wither Skeleton, 3.1ms\n",
      "Speed: 1.6ms preprocess, 3.1ms inference, 1.4ms postprocess per image at shape (1, 3, 640, 640)\n",
      "Results saved to \u001b[1mruns\\detect\\predict\u001b[0m\n",
      "Detected classes: {0: 'Creeper', 1: 'Enderman', 2: 'Fox', 3: 'Mooshroom', 4: 'Ocelot', 5: 'Panda', 6: 'Polar Bear', 7: 'Skeleton', 8: 'Slime', 9: 'Spider', 10: 'Witch', 11: 'Wither Skeleton', 12: 'Wolf', 13: 'Zombie', 14: 'Zombified Piglin', 15: 'bee', 16: 'chicken', 17: 'cow', 18: 'iron golem', 19: 'pig'}\n",
      "Bounding boxes (xyxy): tensor([[279.3405, 114.8668, 355.6017, 515.1409]], device='cuda:0')\n",
      "----------------------------------------\n",
      "Processing c:\\Users\\pc\\OneDrive\\Documents\\Code\\MinecraftPorject\\mob-4\\test\\images\\2023-12-18_21-13-11_png.rf.657bc1d56539f9e44ddf87407c34c330.jpg...\n",
      "\n",
      "image 1/1 c:\\Users\\pc\\OneDrive\\Documents\\Code\\MinecraftPorject\\mob-4\\test\\images\\2023-12-18_21-13-11_png.rf.657bc1d56539f9e44ddf87407c34c330.jpg: 640x640 1 Enderman, 4.7ms\n",
      "Speed: 1.7ms preprocess, 4.7ms inference, 1.4ms postprocess per image at shape (1, 3, 640, 640)\n",
      "Results saved to \u001b[1mruns\\detect\\predict\u001b[0m\n",
      "Detected classes: {0: 'Creeper', 1: 'Enderman', 2: 'Fox', 3: 'Mooshroom', 4: 'Ocelot', 5: 'Panda', 6: 'Polar Bear', 7: 'Skeleton', 8: 'Slime', 9: 'Spider', 10: 'Witch', 11: 'Wither Skeleton', 12: 'Wolf', 13: 'Zombie', 14: 'Zombified Piglin', 15: 'bee', 16: 'chicken', 17: 'cow', 18: 'iron golem', 19: 'pig'}\n",
      "Bounding boxes (xyxy): tensor([[264.7278, 106.0372, 365.9055, 577.1414]], device='cuda:0')\n",
      "----------------------------------------\n",
      "Processing c:\\Users\\pc\\OneDrive\\Documents\\Code\\MinecraftPorject\\mob-4\\test\\images\\2023-12-18_21-13-13_png.rf.1679feb6c90fad867dfc18360336177c.jpg...\n",
      "\n",
      "image 1/1 c:\\Users\\pc\\OneDrive\\Documents\\Code\\MinecraftPorject\\mob-4\\test\\images\\2023-12-18_21-13-13_png.rf.1679feb6c90fad867dfc18360336177c.jpg: 640x640 1 Enderman, 3.0ms\n",
      "Speed: 1.6ms preprocess, 3.0ms inference, 0.8ms postprocess per image at shape (1, 3, 640, 640)\n",
      "Results saved to \u001b[1mruns\\detect\\predict\u001b[0m\n",
      "Detected classes: {0: 'Creeper', 1: 'Enderman', 2: 'Fox', 3: 'Mooshroom', 4: 'Ocelot', 5: 'Panda', 6: 'Polar Bear', 7: 'Skeleton', 8: 'Slime', 9: 'Spider', 10: 'Witch', 11: 'Wither Skeleton', 12: 'Wolf', 13: 'Zombie', 14: 'Zombified Piglin', 15: 'bee', 16: 'chicken', 17: 'cow', 18: 'iron golem', 19: 'pig'}\n",
      "Bounding boxes (xyxy): tensor([[258.0893, 108.0766, 346.7715, 583.4765]], device='cuda:0')\n",
      "----------------------------------------\n",
      "Processing c:\\Users\\pc\\OneDrive\\Documents\\Code\\MinecraftPorject\\mob-4\\test\\images\\2023-12-18_21-13-58_png.rf.a602c1233e4d0c344f616a7f6f78ef12.jpg...\n",
      "\n",
      "image 1/1 c:\\Users\\pc\\OneDrive\\Documents\\Code\\MinecraftPorject\\mob-4\\test\\images\\2023-12-18_21-13-58_png.rf.a602c1233e4d0c344f616a7f6f78ef12.jpg: 640x640 1 Spider, 5.3ms\n",
      "Speed: 1.7ms preprocess, 5.3ms inference, 3.5ms postprocess per image at shape (1, 3, 640, 640)\n",
      "Results saved to \u001b[1mruns\\detect\\predict\u001b[0m\n",
      "Detected classes: {0: 'Creeper', 1: 'Enderman', 2: 'Fox', 3: 'Mooshroom', 4: 'Ocelot', 5: 'Panda', 6: 'Polar Bear', 7: 'Skeleton', 8: 'Slime', 9: 'Spider', 10: 'Witch', 11: 'Wither Skeleton', 12: 'Wolf', 13: 'Zombie', 14: 'Zombified Piglin', 15: 'bee', 16: 'chicken', 17: 'cow', 18: 'iron golem', 19: 'pig'}\n",
      "Bounding boxes (xyxy): tensor([[226.3138, 195.7534, 414.5593, 468.6604]], device='cuda:0')\n",
      "----------------------------------------\n"
     ]
    }
   ],
   "source": [
    "import os\n",
    "from ultralytics import YOLO\n",
    "\n",
    "# Assume dataset_path is already defined, e.g.:\n",
    "# dataset_path = \"C:/Users/pc/OneDrive/Documents/Code/MinecraftPorject/mob-4\"\n",
    "\n",
    "# Load your trained model (update path if needed)\n",
    "model = YOLO(\"runs/detect/train35/weights/best.pt\")\n",
    "\n",
    "# Define the path to your test images folder\n",
    "test_folder = os.path.join(dataset_path, \"test\", \"images\")\n",
    "\n",
    "# Get list of all image files (adjust extensions as necessary)\n",
    "image_files = [os.path.join(test_folder, f) for f in os.listdir(test_folder)\n",
    "               if f.lower().endswith((\".jpg\", \".jpeg\", \".png\"))]\n",
    "\n",
    "# Loop over each image, run prediction, and print results\n",
    "for img_path in image_files:\n",
    "    print(f\"Processing {img_path}...\")\n",
    "    results = model.predict(source=img_path, save=True)\n",
    "    for result in results:\n",
    "        # result.names contains a mapping of class index to name\n",
    "        print(\"Detected classes:\", result.names)\n",
    "        # result.boxes.xyxy returns bounding box coordinates\n",
    "        print(\"Bounding boxes (xyxy):\", result.boxes.xyxy)\n",
    "    print(\"-\" * 40)\n"
   ]
  }
 ],
 "metadata": {
  "kernelspec": {
   "display_name": "base",
   "language": "python",
   "name": "python3"
  },
  "language_info": {
   "codemirror_mode": {
    "name": "ipython",
    "version": 3
   },
   "file_extension": ".py",
   "mimetype": "text/x-python",
   "name": "python",
   "nbconvert_exporter": "python",
   "pygments_lexer": "ipython3",
   "version": "3.12.4"
  }
 },
 "nbformat": 4,
 "nbformat_minor": 2
}
